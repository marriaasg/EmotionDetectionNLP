{
  "nbformat": 4,
  "nbformat_minor": 0,
  "metadata": {
    "colab": {
      "provenance": []
    },
    "kernelspec": {
      "name": "python3",
      "display_name": "Python 3"
    },
    "language_info": {
      "name": "python"
    }
  },
  "cells": [
    {
      "cell_type": "markdown",
      "source": [
        "#Project Overwiew:\n",
        "\n",
        "##TITLE: How do you feel, my dear (emotion detection from Text)\n",
        "\n",
        "Recently, emotion detection in text has received attention in the literature on sentiment analysis. Detecting emotions is important for studying human communication in different domains, including fictional scripts for TV series and movies. The project aims at studying fictional scripts of several movies and TV series under the emotional profile. In particular, the task of the project is threefold:\n",
        "\n",
        "1. Create a model to predict emotions in text using available datasets as EmoBank or WASSA-2017 or Emotion Detection from Text as training sets (see below);\n",
        "\n",
        "2. Emotions may be represented either as categorical classes or in a continuous space such as Valence-Arousal-Dominance (see for example Warriner, A. B., Kuperman, V., & Brysbaert, M. (2013). Norms of valence, arousal, and dominance for 13,915 English lemmas. Behavior research methods, 45(4), 1191-1207.)\n",
        "\n",
        "3. Exploit the model to study an emotional profile of the main characters in one of the movies included in the Cornell Movie--Dialogs Corpus;\n",
        "\n",
        "4. Study how this emotional profile changes in time along the evolution of the movie story and how it is affected by the various relations among the different characters.\n",
        "\n",
        "###Dataset\n",
        "For training and validating the model we used EmoBank and WASSA-2017 and Emotion Detection from Text.\n",
        "\n",
        "For the movie and TV series dialogues, see the Cornell Movie-Dialogs Corpus. Danescu-Niculescu-Mizil, C., & Lee, L. (2011). Chameleons in imagined conversations: A new approach to understanding coordination of linguistic style in dialogs. arXiv preprint arXiv:1106.3077.\n",
        "\n",
        "###Evaluation strategy\n",
        "Cross-validation using the training set\n",
        "\n"
      ],
      "metadata": {
        "id": "SLRES-7B1lz0"
      }
    },
    {
      "cell_type": "markdown",
      "source": [
        "---\n",
        "\n",
        "##SECTION 1 - Setup\n",
        "\n",
        "First, we need to mount this notebook to our Google Drive folder, in order to access the CSV data file."
      ],
      "metadata": {
        "id": "RakrrXGOz4b1"
      }
    },
    {
      "cell_type": "code",
      "source": [
        "from google.colab import drive\n",
        "drive.mount('/content/drive')"
      ],
      "metadata": {
        "colab": {
          "base_uri": "https://localhost:8080/"
        },
        "id": "GiVXEp_f2Mvi",
        "outputId": "1c792623-8adc-4574-81a0-1680b19c3d47"
      },
      "execution_count": 79,
      "outputs": [
        {
          "output_type": "stream",
          "name": "stdout",
          "text": [
            "Drive already mounted at /content/drive; to attempt to forcibly remount, call drive.mount(\"/content/drive\", force_remount=True).\n"
          ]
        }
      ]
    },
    {
      "cell_type": "markdown",
      "source": [
        "In order to view, analyse and manipulate the dataset, we must load it into something called a `dataframe`, which is a way of storing tabulated data in a virtual table. This dataframe will allow us to analyse the data freely. To load it into a dataframe, we will need a package called `Pandas`. We can install pandas with this command:"
      ],
      "metadata": {
        "id": "cJ7bxrCQ3WAS"
      }
    },
    {
      "cell_type": "code",
      "source": [
        "!pip install pandas"
      ],
      "metadata": {
        "colab": {
          "base_uri": "https://localhost:8080/"
        },
        "id": "Cv6-CIvz3b6q",
        "outputId": "4a3fdaa2-4264-4df5-dac6-8d3b3f0a321e"
      },
      "execution_count": 80,
      "outputs": [
        {
          "output_type": "stream",
          "name": "stdout",
          "text": [
            "Requirement already satisfied: pandas in /usr/local/lib/python3.10/dist-packages (1.5.3)\n",
            "Requirement already satisfied: python-dateutil>=2.8.1 in /usr/local/lib/python3.10/dist-packages (from pandas) (2.8.2)\n",
            "Requirement already satisfied: pytz>=2020.1 in /usr/local/lib/python3.10/dist-packages (from pandas) (2022.7.1)\n",
            "Requirement already satisfied: numpy>=1.21.0 in /usr/local/lib/python3.10/dist-packages (from pandas) (1.22.4)\n",
            "Requirement already satisfied: six>=1.5 in /usr/local/lib/python3.10/dist-packages (from python-dateutil>=2.8.1->pandas) (1.16.0)\n"
          ]
        }
      ]
    },
    {
      "cell_type": "markdown",
      "source": [
        "And now we can import this package like so:"
      ],
      "metadata": {
        "id": "AeoNw0HX3hNA"
      }
    },
    {
      "cell_type": "code",
      "source": [
        "import pandas as pd\n",
        "import json\n",
        "import seaborn as sns\n",
        "import matplotlib.pyplot as plt\n",
        "from matplotlib import *"
      ],
      "metadata": {
        "id": "4bWrPDIp3gd_"
      },
      "execution_count": 81,
      "outputs": []
    },
    {
      "cell_type": "markdown",
      "source": [
        "---\n",
        "\n",
        "##SECTION 2 - Data loading\n",
        "\n",
        "Now that Google Drive is mounted, we can store the CSV file anywhere in our Drive and update the `path` variable below to access it within this notebook. Once we've updated the `path`, let's read this CSV file into a pandas dataframe and see what it looks like"
      ],
      "metadata": {
        "id": "ECM2yA_13mJb"
      }
    },
    {
      "cell_type": "markdown",
      "source": [
        "*   **First dataset: EmoBank**\n",
        "\n",
        "Loading the EmoBank dataset from Google Drive:\n",
        "\n",
        "Since we want to have a better understanding of the structure of our dataset, we will use `head` to see the first 5 rows of the dataframe."
      ],
      "metadata": {
        "id": "lx0eU_ih1Zw5"
      }
    },
    {
      "cell_type": "code",
      "source": [
        "path = \"/content/drive/MyDrive/CVS/IR/EmoBank/emobank.csv\"\n",
        "#eb=emobank\n",
        "eb = pd.read_csv(path)\n",
        "eb.drop(columns=[\"Unnamed: 0\"], inplace=True, errors='ignore')\n",
        "eb.head()"
      ],
      "metadata": {
        "colab": {
          "base_uri": "https://localhost:8080/",
          "height": 206
        },
        "id": "rvxvxoqU3wUZ",
        "outputId": "60f43114-3aa7-4353-f59c-3f2d2222a6fe"
      },
      "execution_count": 82,
      "outputs": [
        {
          "output_type": "execute_result",
          "data": {
            "text/plain": [
              "                    id  split     V     A     D  \\\n",
              "0  110CYL068_1036_1079  train  3.00  3.00  3.20   \n",
              "1  110CYL068_1079_1110   test  2.80  3.10  2.80   \n",
              "2  110CYL068_1127_1130  train  3.00  3.00  3.00   \n",
              "3  110CYL068_1137_1188  train  3.44  3.00  3.22   \n",
              "4  110CYL068_1189_1328  train  3.55  3.27  3.46   \n",
              "\n",
              "                                                text  \n",
              "0        Remember what she said in my last letter? \"  \n",
              "1                          If I wasn't working here.  \n",
              "2                                                ..\"  \n",
              "3  Goodwill helps people get off of public assist...  \n",
              "4  Sherry learned through our Future Works class ...  "
            ],
            "text/html": [
              "\n",
              "  <div id=\"df-289895b4-580c-407a-8291-9b2f3d8201dc\">\n",
              "    <div class=\"colab-df-container\">\n",
              "      <div>\n",
              "<style scoped>\n",
              "    .dataframe tbody tr th:only-of-type {\n",
              "        vertical-align: middle;\n",
              "    }\n",
              "\n",
              "    .dataframe tbody tr th {\n",
              "        vertical-align: top;\n",
              "    }\n",
              "\n",
              "    .dataframe thead th {\n",
              "        text-align: right;\n",
              "    }\n",
              "</style>\n",
              "<table border=\"1\" class=\"dataframe\">\n",
              "  <thead>\n",
              "    <tr style=\"text-align: right;\">\n",
              "      <th></th>\n",
              "      <th>id</th>\n",
              "      <th>split</th>\n",
              "      <th>V</th>\n",
              "      <th>A</th>\n",
              "      <th>D</th>\n",
              "      <th>text</th>\n",
              "    </tr>\n",
              "  </thead>\n",
              "  <tbody>\n",
              "    <tr>\n",
              "      <th>0</th>\n",
              "      <td>110CYL068_1036_1079</td>\n",
              "      <td>train</td>\n",
              "      <td>3.00</td>\n",
              "      <td>3.00</td>\n",
              "      <td>3.20</td>\n",
              "      <td>Remember what she said in my last letter? \"</td>\n",
              "    </tr>\n",
              "    <tr>\n",
              "      <th>1</th>\n",
              "      <td>110CYL068_1079_1110</td>\n",
              "      <td>test</td>\n",
              "      <td>2.80</td>\n",
              "      <td>3.10</td>\n",
              "      <td>2.80</td>\n",
              "      <td>If I wasn't working here.</td>\n",
              "    </tr>\n",
              "    <tr>\n",
              "      <th>2</th>\n",
              "      <td>110CYL068_1127_1130</td>\n",
              "      <td>train</td>\n",
              "      <td>3.00</td>\n",
              "      <td>3.00</td>\n",
              "      <td>3.00</td>\n",
              "      <td>..\"</td>\n",
              "    </tr>\n",
              "    <tr>\n",
              "      <th>3</th>\n",
              "      <td>110CYL068_1137_1188</td>\n",
              "      <td>train</td>\n",
              "      <td>3.44</td>\n",
              "      <td>3.00</td>\n",
              "      <td>3.22</td>\n",
              "      <td>Goodwill helps people get off of public assist...</td>\n",
              "    </tr>\n",
              "    <tr>\n",
              "      <th>4</th>\n",
              "      <td>110CYL068_1189_1328</td>\n",
              "      <td>train</td>\n",
              "      <td>3.55</td>\n",
              "      <td>3.27</td>\n",
              "      <td>3.46</td>\n",
              "      <td>Sherry learned through our Future Works class ...</td>\n",
              "    </tr>\n",
              "  </tbody>\n",
              "</table>\n",
              "</div>\n",
              "      <button class=\"colab-df-convert\" onclick=\"convertToInteractive('df-289895b4-580c-407a-8291-9b2f3d8201dc')\"\n",
              "              title=\"Convert this dataframe to an interactive table.\"\n",
              "              style=\"display:none;\">\n",
              "        \n",
              "  <svg xmlns=\"http://www.w3.org/2000/svg\" height=\"24px\"viewBox=\"0 0 24 24\"\n",
              "       width=\"24px\">\n",
              "    <path d=\"M0 0h24v24H0V0z\" fill=\"none\"/>\n",
              "    <path d=\"M18.56 5.44l.94 2.06.94-2.06 2.06-.94-2.06-.94-.94-2.06-.94 2.06-2.06.94zm-11 1L8.5 8.5l.94-2.06 2.06-.94-2.06-.94L8.5 2.5l-.94 2.06-2.06.94zm10 10l.94 2.06.94-2.06 2.06-.94-2.06-.94-.94-2.06-.94 2.06-2.06.94z\"/><path d=\"M17.41 7.96l-1.37-1.37c-.4-.4-.92-.59-1.43-.59-.52 0-1.04.2-1.43.59L10.3 9.45l-7.72 7.72c-.78.78-.78 2.05 0 2.83L4 21.41c.39.39.9.59 1.41.59.51 0 1.02-.2 1.41-.59l7.78-7.78 2.81-2.81c.8-.78.8-2.07 0-2.86zM5.41 20L4 18.59l7.72-7.72 1.47 1.35L5.41 20z\"/>\n",
              "  </svg>\n",
              "      </button>\n",
              "      \n",
              "  <style>\n",
              "    .colab-df-container {\n",
              "      display:flex;\n",
              "      flex-wrap:wrap;\n",
              "      gap: 12px;\n",
              "    }\n",
              "\n",
              "    .colab-df-convert {\n",
              "      background-color: #E8F0FE;\n",
              "      border: none;\n",
              "      border-radius: 50%;\n",
              "      cursor: pointer;\n",
              "      display: none;\n",
              "      fill: #1967D2;\n",
              "      height: 32px;\n",
              "      padding: 0 0 0 0;\n",
              "      width: 32px;\n",
              "    }\n",
              "\n",
              "    .colab-df-convert:hover {\n",
              "      background-color: #E2EBFA;\n",
              "      box-shadow: 0px 1px 2px rgba(60, 64, 67, 0.3), 0px 1px 3px 1px rgba(60, 64, 67, 0.15);\n",
              "      fill: #174EA6;\n",
              "    }\n",
              "\n",
              "    [theme=dark] .colab-df-convert {\n",
              "      background-color: #3B4455;\n",
              "      fill: #D2E3FC;\n",
              "    }\n",
              "\n",
              "    [theme=dark] .colab-df-convert:hover {\n",
              "      background-color: #434B5C;\n",
              "      box-shadow: 0px 1px 3px 1px rgba(0, 0, 0, 0.15);\n",
              "      filter: drop-shadow(0px 1px 2px rgba(0, 0, 0, 0.3));\n",
              "      fill: #FFFFFF;\n",
              "    }\n",
              "  </style>\n",
              "\n",
              "      <script>\n",
              "        const buttonEl =\n",
              "          document.querySelector('#df-289895b4-580c-407a-8291-9b2f3d8201dc button.colab-df-convert');\n",
              "        buttonEl.style.display =\n",
              "          google.colab.kernel.accessAllowed ? 'block' : 'none';\n",
              "\n",
              "        async function convertToInteractive(key) {\n",
              "          const element = document.querySelector('#df-289895b4-580c-407a-8291-9b2f3d8201dc');\n",
              "          const dataTable =\n",
              "            await google.colab.kernel.invokeFunction('convertToInteractive',\n",
              "                                                     [key], {});\n",
              "          if (!dataTable) return;\n",
              "\n",
              "          const docLinkHtml = 'Like what you see? Visit the ' +\n",
              "            '<a target=\"_blank\" href=https://colab.research.google.com/notebooks/data_table.ipynb>data table notebook</a>'\n",
              "            + ' to learn more about interactive tables.';\n",
              "          element.innerHTML = '';\n",
              "          dataTable['output_type'] = 'display_data';\n",
              "          await google.colab.output.renderOutput(dataTable, element);\n",
              "          const docLink = document.createElement('div');\n",
              "          docLink.innerHTML = docLinkHtml;\n",
              "          element.appendChild(docLink);\n",
              "        }\n",
              "      </script>\n",
              "    </div>\n",
              "  </div>\n",
              "  "
            ]
          },
          "metadata": {},
          "execution_count": 82
        }
      ]
    },
    {
      "cell_type": "markdown",
      "source": [
        "*   **Second dataset: Emotion Detection from Tweets**\n",
        "\n",
        "Loading the Emotion Detection from Tweets dataset and looking at the top 5 rows of the dataframe."
      ],
      "metadata": {
        "id": "ogxqX6AD1fpv"
      }
    },
    {
      "cell_type": "code",
      "source": [
        "path = \"/content/drive/MyDrive/CVS/IR/EmotionDetectionfromText/tweet_emotions.csv\"\n",
        "#et=EmotionDetectionfromText\n",
        "et = pd.read_csv(path)\n",
        "et.drop(columns=[\"Unnamed: 0\"], inplace=True, errors='ignore')\n",
        "et.head()"
      ],
      "metadata": {
        "colab": {
          "base_uri": "https://localhost:8080/",
          "height": 206
        },
        "id": "LXiqIsirIjDE",
        "outputId": "a1635837-1758-4032-8ab6-3eb22beb7cb4"
      },
      "execution_count": 83,
      "outputs": [
        {
          "output_type": "execute_result",
          "data": {
            "text/plain": [
              "     tweet_id   sentiment                                            content\n",
              "0  1956967341       empty  @tiffanylue i know  i was listenin to bad habi...\n",
              "1  1956967666     sadness  Layin n bed with a headache  ughhhh...waitin o...\n",
              "2  1956967696     sadness                Funeral ceremony...gloomy friday...\n",
              "3  1956967789  enthusiasm               wants to hang out with friends SOON!\n",
              "4  1956968416     neutral  @dannycastillo We want to trade with someone w..."
            ],
            "text/html": [
              "\n",
              "  <div id=\"df-242e6b45-252f-44c8-a9a3-e53d3f489162\">\n",
              "    <div class=\"colab-df-container\">\n",
              "      <div>\n",
              "<style scoped>\n",
              "    .dataframe tbody tr th:only-of-type {\n",
              "        vertical-align: middle;\n",
              "    }\n",
              "\n",
              "    .dataframe tbody tr th {\n",
              "        vertical-align: top;\n",
              "    }\n",
              "\n",
              "    .dataframe thead th {\n",
              "        text-align: right;\n",
              "    }\n",
              "</style>\n",
              "<table border=\"1\" class=\"dataframe\">\n",
              "  <thead>\n",
              "    <tr style=\"text-align: right;\">\n",
              "      <th></th>\n",
              "      <th>tweet_id</th>\n",
              "      <th>sentiment</th>\n",
              "      <th>content</th>\n",
              "    </tr>\n",
              "  </thead>\n",
              "  <tbody>\n",
              "    <tr>\n",
              "      <th>0</th>\n",
              "      <td>1956967341</td>\n",
              "      <td>empty</td>\n",
              "      <td>@tiffanylue i know  i was listenin to bad habi...</td>\n",
              "    </tr>\n",
              "    <tr>\n",
              "      <th>1</th>\n",
              "      <td>1956967666</td>\n",
              "      <td>sadness</td>\n",
              "      <td>Layin n bed with a headache  ughhhh...waitin o...</td>\n",
              "    </tr>\n",
              "    <tr>\n",
              "      <th>2</th>\n",
              "      <td>1956967696</td>\n",
              "      <td>sadness</td>\n",
              "      <td>Funeral ceremony...gloomy friday...</td>\n",
              "    </tr>\n",
              "    <tr>\n",
              "      <th>3</th>\n",
              "      <td>1956967789</td>\n",
              "      <td>enthusiasm</td>\n",
              "      <td>wants to hang out with friends SOON!</td>\n",
              "    </tr>\n",
              "    <tr>\n",
              "      <th>4</th>\n",
              "      <td>1956968416</td>\n",
              "      <td>neutral</td>\n",
              "      <td>@dannycastillo We want to trade with someone w...</td>\n",
              "    </tr>\n",
              "  </tbody>\n",
              "</table>\n",
              "</div>\n",
              "      <button class=\"colab-df-convert\" onclick=\"convertToInteractive('df-242e6b45-252f-44c8-a9a3-e53d3f489162')\"\n",
              "              title=\"Convert this dataframe to an interactive table.\"\n",
              "              style=\"display:none;\">\n",
              "        \n",
              "  <svg xmlns=\"http://www.w3.org/2000/svg\" height=\"24px\"viewBox=\"0 0 24 24\"\n",
              "       width=\"24px\">\n",
              "    <path d=\"M0 0h24v24H0V0z\" fill=\"none\"/>\n",
              "    <path d=\"M18.56 5.44l.94 2.06.94-2.06 2.06-.94-2.06-.94-.94-2.06-.94 2.06-2.06.94zm-11 1L8.5 8.5l.94-2.06 2.06-.94-2.06-.94L8.5 2.5l-.94 2.06-2.06.94zm10 10l.94 2.06.94-2.06 2.06-.94-2.06-.94-.94-2.06-.94 2.06-2.06.94z\"/><path d=\"M17.41 7.96l-1.37-1.37c-.4-.4-.92-.59-1.43-.59-.52 0-1.04.2-1.43.59L10.3 9.45l-7.72 7.72c-.78.78-.78 2.05 0 2.83L4 21.41c.39.39.9.59 1.41.59.51 0 1.02-.2 1.41-.59l7.78-7.78 2.81-2.81c.8-.78.8-2.07 0-2.86zM5.41 20L4 18.59l7.72-7.72 1.47 1.35L5.41 20z\"/>\n",
              "  </svg>\n",
              "      </button>\n",
              "      \n",
              "  <style>\n",
              "    .colab-df-container {\n",
              "      display:flex;\n",
              "      flex-wrap:wrap;\n",
              "      gap: 12px;\n",
              "    }\n",
              "\n",
              "    .colab-df-convert {\n",
              "      background-color: #E8F0FE;\n",
              "      border: none;\n",
              "      border-radius: 50%;\n",
              "      cursor: pointer;\n",
              "      display: none;\n",
              "      fill: #1967D2;\n",
              "      height: 32px;\n",
              "      padding: 0 0 0 0;\n",
              "      width: 32px;\n",
              "    }\n",
              "\n",
              "    .colab-df-convert:hover {\n",
              "      background-color: #E2EBFA;\n",
              "      box-shadow: 0px 1px 2px rgba(60, 64, 67, 0.3), 0px 1px 3px 1px rgba(60, 64, 67, 0.15);\n",
              "      fill: #174EA6;\n",
              "    }\n",
              "\n",
              "    [theme=dark] .colab-df-convert {\n",
              "      background-color: #3B4455;\n",
              "      fill: #D2E3FC;\n",
              "    }\n",
              "\n",
              "    [theme=dark] .colab-df-convert:hover {\n",
              "      background-color: #434B5C;\n",
              "      box-shadow: 0px 1px 3px 1px rgba(0, 0, 0, 0.15);\n",
              "      filter: drop-shadow(0px 1px 2px rgba(0, 0, 0, 0.3));\n",
              "      fill: #FFFFFF;\n",
              "    }\n",
              "  </style>\n",
              "\n",
              "      <script>\n",
              "        const buttonEl =\n",
              "          document.querySelector('#df-242e6b45-252f-44c8-a9a3-e53d3f489162 button.colab-df-convert');\n",
              "        buttonEl.style.display =\n",
              "          google.colab.kernel.accessAllowed ? 'block' : 'none';\n",
              "\n",
              "        async function convertToInteractive(key) {\n",
              "          const element = document.querySelector('#df-242e6b45-252f-44c8-a9a3-e53d3f489162');\n",
              "          const dataTable =\n",
              "            await google.colab.kernel.invokeFunction('convertToInteractive',\n",
              "                                                     [key], {});\n",
              "          if (!dataTable) return;\n",
              "\n",
              "          const docLinkHtml = 'Like what you see? Visit the ' +\n",
              "            '<a target=\"_blank\" href=https://colab.research.google.com/notebooks/data_table.ipynb>data table notebook</a>'\n",
              "            + ' to learn more about interactive tables.';\n",
              "          element.innerHTML = '';\n",
              "          dataTable['output_type'] = 'display_data';\n",
              "          await google.colab.output.renderOutput(dataTable, element);\n",
              "          const docLink = document.createElement('div');\n",
              "          docLink.innerHTML = docLinkHtml;\n",
              "          element.appendChild(docLink);\n",
              "        }\n",
              "      </script>\n",
              "    </div>\n",
              "  </div>\n",
              "  "
            ]
          },
          "metadata": {},
          "execution_count": 83
        }
      ]
    },
    {
      "cell_type": "markdown",
      "source": [
        "Let's exprole the dataframe a little bit:"
      ],
      "metadata": {
        "id": "uboLN6rwGNqN"
      }
    },
    {
      "cell_type": "code",
      "source": [
        "et.shape"
      ],
      "metadata": {
        "colab": {
          "base_uri": "https://localhost:8080/"
        },
        "id": "sXoEs4bI4wZy",
        "outputId": "c31ae900-7747-480f-8fac-59dea919ba1f"
      },
      "execution_count": 84,
      "outputs": [
        {
          "output_type": "execute_result",
          "data": {
            "text/plain": [
              "(40000, 3)"
            ]
          },
          "metadata": {},
          "execution_count": 84
        }
      ]
    },
    {
      "cell_type": "code",
      "source": [
        "et.dtypes"
      ],
      "metadata": {
        "colab": {
          "base_uri": "https://localhost:8080/"
        },
        "id": "g3mKsqpG43i6",
        "outputId": "441f31a7-ba89-49e2-8665-309913d86268"
      },
      "execution_count": 85,
      "outputs": [
        {
          "output_type": "execute_result",
          "data": {
            "text/plain": [
              "tweet_id      int64\n",
              "sentiment    object\n",
              "content      object\n",
              "dtype: object"
            ]
          },
          "metadata": {},
          "execution_count": 85
        }
      ]
    },
    {
      "cell_type": "code",
      "source": [
        "et.isnull().sum()"
      ],
      "metadata": {
        "colab": {
          "base_uri": "https://localhost:8080/"
        },
        "id": "jTrSczZQ4-3j",
        "outputId": "1f35d784-dcae-47ef-862c-c48fb8b7127e"
      },
      "execution_count": 87,
      "outputs": [
        {
          "output_type": "execute_result",
          "data": {
            "text/plain": [
              "tweet_id     0\n",
              "sentiment    0\n",
              "content      0\n",
              "dtype: int64"
            ]
          },
          "metadata": {},
          "execution_count": 87
        }
      ]
    },
    {
      "cell_type": "code",
      "source": [
        "et['sentiment'].value_counts()"
      ],
      "metadata": {
        "colab": {
          "base_uri": "https://localhost:8080/"
        },
        "id": "HUpTYME75PB2",
        "outputId": "d7370da1-0610-486f-c4ac-5940896484a3"
      },
      "execution_count": 88,
      "outputs": [
        {
          "output_type": "execute_result",
          "data": {
            "text/plain": [
              "neutral       8638\n",
              "worry         8459\n",
              "happiness     5209\n",
              "sadness       5165\n",
              "love          3842\n",
              "surprise      2187\n",
              "fun           1776\n",
              "relief        1526\n",
              "hate          1323\n",
              "empty          827\n",
              "enthusiasm     759\n",
              "boredom        179\n",
              "anger          110\n",
              "Name: sentiment, dtype: int64"
            ]
          },
          "metadata": {},
          "execution_count": 88
        }
      ]
    },
    {
      "cell_type": "code",
      "source": [
        "plt.figure(figsize=(12,5))\n",
        "sns.countplot(x='sentiment',data=et)\n",
        "plt.show()"
      ],
      "metadata": {
        "id": "-Zyeynu_5tom",
        "colab": {
          "base_uri": "https://localhost:8080/",
          "height": 465
        },
        "outputId": "2125e3af-eb03-4e0b-f496-e009c1cd1c38"
      },
      "execution_count": 89,
      "outputs": [
        {
          "output_type": "display_data",
          "data": {
            "text/plain": [
              "<Figure size 1200x500 with 1 Axes>"
            ],
            "image/png": "[encoded data removed]"
          },
          "metadata": {}
        }
      ]
    },
    {
      "cell_type": "markdown",
      "source": [
        "*  **Third dataset(train sets): WASSA-2017**\n",
        "\n",
        "\n",
        "Loading the WASSA-2017 dataset which is fromed from 4 different datasets for training and tessting.\n",
        "\n",
        "Here we first loaded the train datasets:"
      ],
      "metadata": {
        "id": "V8zOUgtZ1msN"
      }
    },
    {
      "cell_type": "code",
      "source": [
        "# Load WASSA-2017 training sets (text files)\n",
        "ei_train_file1 = '/content/drive/MyDrive/CVS/IR/WASSA-2017/TrainingSet/anger-ratings-0to1.train.txt'\n",
        "ei_train_file2 = '/content/drive/MyDrive/CVS/IR/WASSA-2017/TrainingSet/fear-ratings-0to1.train.txt'\n",
        "ei_train_file3 = '/content/drive/MyDrive/CVS/IR/WASSA-2017/TrainingSet/joy-ratings-0to1.train.txt'\n",
        "ei_train_file4 = '/content/drive/MyDrive/CVS/IR/WASSA-2017/TrainingSet/sadness-ratings-0to1.train.txt'\n",
        "\n",
        "ei_train_df1 = pd.read_csv(ei_train_file1, delimiter='\\t')\n",
        "ei_train_df2 = pd.read_csv(ei_train_file2, delimiter='\\t')\n",
        "ei_train_df3 = pd.read_csv(ei_train_file3, delimiter='\\t')\n",
        "ei_train_df4 = pd.read_csv(ei_train_file4, delimiter='\\t')"
      ],
      "metadata": {
        "id": "SmTuwOzPuiqC"
      },
      "execution_count": 90,
      "outputs": []
    },
    {
      "cell_type": "markdown",
      "source": [
        "And then merged the all 4 train datasets to one unified train dataframe:"
      ],
      "metadata": {
        "id": "mSH7veDU2Ii_"
      }
    },
    {
      "cell_type": "code",
      "source": [
        "# Merge the training dataframes\n",
        "\n",
        "# Rename the columns in each dataframe to match a common structure\n",
        "ei_train_df1.columns = ['ID', 'Text', 'Emotion', 'Score']\n",
        "ei_train_df2.columns = ['ID', 'Text', 'Emotion', 'Score']\n",
        "ei_train_df3.columns = ['ID', 'Text', 'Emotion', 'Score']\n",
        "ei_train_df4.columns = ['ID', 'Text', 'Emotion', 'Score']\n",
        "\n",
        "\n",
        "# Merge the dataframes vertically\n",
        "ei_train_df = pd.concat([ei_train_df1, ei_train_df2, ei_train_df3, ei_train_df4], axis=0, ignore_index=True)\n",
        "\n",
        "# Reset the index of the combined dataframe\n",
        "ei_train_df.reset_index(drop=True, inplace=True)\n",
        "\n",
        "# Rename the columns for clarity\n",
        "ei_train_df.columns = ['ID', 'Text', 'Emotion', 'Intensity']"
      ],
      "metadata": {
        "id": "mfKln-V-EK5C"
      },
      "execution_count": 91,
      "outputs": []
    },
    {
      "cell_type": "markdown",
      "source": [
        "Now we want to look at the structure of our dataframe. So we take 5 sample rows to review."
      ],
      "metadata": {
        "id": "kBf6BT5K2YNj"
      }
    },
    {
      "cell_type": "code",
      "source": [
        "ei_train_df.sample(5)"
      ],
      "metadata": {
        "colab": {
          "base_uri": "https://localhost:8080/",
          "height": 206
        },
        "id": "9ZoWh2q6Ea6P",
        "outputId": "89e83363-68cd-40d8-acf5-f4ca30a0fc52"
      },
      "execution_count": 92,
      "outputs": [
        {
          "output_type": "execute_result",
          "data": {
            "text/plain": [
              "         ID                                               Text  Emotion  \\\n",
              "40    10041  @ThomsonCares Sam- yes we have! Not helpful at...    anger   \n",
              "2066  30065  @MrHenvin Thank you, happy birthday to you as ...      joy   \n",
              "391   10392  That grudge you're holding keeps making an app...    anger   \n",
              "3262  40439  Why doesn't anybody I know watch penny dreadfu...  sadness   \n",
              "2696  30695  A 'non-permissive environment' is also called ...      joy   \n",
              "\n",
              "      Intensity  \n",
              "40        0.771  \n",
              "2066      0.812  \n",
              "391       0.500  \n",
              "3262      0.455  \n",
              "2696      0.271  "
            ],
            "text/html": [
              "\n",
              "  <div id=\"df-6205e071-4ec1-4040-8dbc-ccde22b3319c\">\n",
              "    <div class=\"colab-df-container\">\n",
              "      <div>\n",
              "<style scoped>\n",
              "    .dataframe tbody tr th:only-of-type {\n",
              "        vertical-align: middle;\n",
              "    }\n",
              "\n",
              "    .dataframe tbody tr th {\n",
              "        vertical-align: top;\n",
              "    }\n",
              "\n",
              "    .dataframe thead th {\n",
              "        text-align: right;\n",
              "    }\n",
              "</style>\n",
              "<table border=\"1\" class=\"dataframe\">\n",
              "  <thead>\n",
              "    <tr style=\"text-align: right;\">\n",
              "      <th></th>\n",
              "      <th>ID</th>\n",
              "      <th>Text</th>\n",
              "      <th>Emotion</th>\n",
              "      <th>Intensity</th>\n",
              "    </tr>\n",
              "  </thead>\n",
              "  <tbody>\n",
              "    <tr>\n",
              "      <th>40</th>\n",
              "      <td>10041</td>\n",
              "      <td>@ThomsonCares Sam- yes we have! Not helpful at...</td>\n",
              "      <td>anger</td>\n",
              "      <td>0.771</td>\n",
              "    </tr>\n",
              "    <tr>\n",
              "      <th>2066</th>\n",
              "      <td>30065</td>\n",
              "      <td>@MrHenvin Thank you, happy birthday to you as ...</td>\n",
              "      <td>joy</td>\n",
              "      <td>0.812</td>\n",
              "    </tr>\n",
              "    <tr>\n",
              "      <th>391</th>\n",
              "      <td>10392</td>\n",
              "      <td>That grudge you're holding keeps making an app...</td>\n",
              "      <td>anger</td>\n",
              "      <td>0.500</td>\n",
              "    </tr>\n",
              "    <tr>\n",
              "      <th>3262</th>\n",
              "      <td>40439</td>\n",
              "      <td>Why doesn't anybody I know watch penny dreadfu...</td>\n",
              "      <td>sadness</td>\n",
              "      <td>0.455</td>\n",
              "    </tr>\n",
              "    <tr>\n",
              "      <th>2696</th>\n",
              "      <td>30695</td>\n",
              "      <td>A 'non-permissive environment' is also called ...</td>\n",
              "      <td>joy</td>\n",
              "      <td>0.271</td>\n",
              "    </tr>\n",
              "  </tbody>\n",
              "</table>\n",
              "</div>\n",
              "      <button class=\"colab-df-convert\" onclick=\"convertToInteractive('df-6205e071-4ec1-4040-8dbc-ccde22b3319c')\"\n",
              "              title=\"Convert this dataframe to an interactive table.\"\n",
              "              style=\"display:none;\">\n",
              "        \n",
              "  <svg xmlns=\"http://www.w3.org/2000/svg\" height=\"24px\"viewBox=\"0 0 24 24\"\n",
              "       width=\"24px\">\n",
              "    <path d=\"M0 0h24v24H0V0z\" fill=\"none\"/>\n",
              "    <path d=\"M18.56 5.44l.94 2.06.94-2.06 2.06-.94-2.06-.94-.94-2.06-.94 2.06-2.06.94zm-11 1L8.5 8.5l.94-2.06 2.06-.94-2.06-.94L8.5 2.5l-.94 2.06-2.06.94zm10 10l.94 2.06.94-2.06 2.06-.94-2.06-.94-.94-2.06-.94 2.06-2.06.94z\"/><path d=\"M17.41 7.96l-1.37-1.37c-.4-.4-.92-.59-1.43-.59-.52 0-1.04.2-1.43.59L10.3 9.45l-7.72 7.72c-.78.78-.78 2.05 0 2.83L4 21.41c.39.39.9.59 1.41.59.51 0 1.02-.2 1.41-.59l7.78-7.78 2.81-2.81c.8-.78.8-2.07 0-2.86zM5.41 20L4 18.59l7.72-7.72 1.47 1.35L5.41 20z\"/>\n",
              "  </svg>\n",
              "      </button>\n",
              "      \n",
              "  <style>\n",
              "    .colab-df-container {\n",
              "      display:flex;\n",
              "      flex-wrap:wrap;\n",
              "      gap: 12px;\n",
              "    }\n",
              "\n",
              "    .colab-df-convert {\n",
              "      background-color: #E8F0FE;\n",
              "      border: none;\n",
              "      border-radius: 50%;\n",
              "      cursor: pointer;\n",
              "      display: none;\n",
              "      fill: #1967D2;\n",
              "      height: 32px;\n",
              "      padding: 0 0 0 0;\n",
              "      width: 32px;\n",
              "    }\n",
              "\n",
              "    .colab-df-convert:hover {\n",
              "      background-color: #E2EBFA;\n",
              "      box-shadow: 0px 1px 2px rgba(60, 64, 67, 0.3), 0px 1px 3px 1px rgba(60, 64, 67, 0.15);\n",
              "      fill: #174EA6;\n",
              "    }\n",
              "\n",
              "    [theme=dark] .colab-df-convert {\n",
              "      background-color: #3B4455;\n",
              "      fill: #D2E3FC;\n",
              "    }\n",
              "\n",
              "    [theme=dark] .colab-df-convert:hover {\n",
              "      background-color: #434B5C;\n",
              "      box-shadow: 0px 1px 3px 1px rgba(0, 0, 0, 0.15);\n",
              "      filter: drop-shadow(0px 1px 2px rgba(0, 0, 0, 0.3));\n",
              "      fill: #FFFFFF;\n",
              "    }\n",
              "  </style>\n",
              "\n",
              "      <script>\n",
              "        const buttonEl =\n",
              "          document.querySelector('#df-6205e071-4ec1-4040-8dbc-ccde22b3319c button.colab-df-convert');\n",
              "        buttonEl.style.display =\n",
              "          google.colab.kernel.accessAllowed ? 'block' : 'none';\n",
              "\n",
              "        async function convertToInteractive(key) {\n",
              "          const element = document.querySelector('#df-6205e071-4ec1-4040-8dbc-ccde22b3319c');\n",
              "          const dataTable =\n",
              "            await google.colab.kernel.invokeFunction('convertToInteractive',\n",
              "                                                     [key], {});\n",
              "          if (!dataTable) return;\n",
              "\n",
              "          const docLinkHtml = 'Like what you see? Visit the ' +\n",
              "            '<a target=\"_blank\" href=https://colab.research.google.com/notebooks/data_table.ipynb>data table notebook</a>'\n",
              "            + ' to learn more about interactive tables.';\n",
              "          element.innerHTML = '';\n",
              "          dataTable['output_type'] = 'display_data';\n",
              "          await google.colab.output.renderOutput(dataTable, element);\n",
              "          const docLink = document.createElement('div');\n",
              "          docLink.innerHTML = docLinkHtml;\n",
              "          element.appendChild(docLink);\n",
              "        }\n",
              "      </script>\n",
              "    </div>\n",
              "  </div>\n",
              "  "
            ]
          },
          "metadata": {},
          "execution_count": 92
        }
      ]
    },
    {
      "cell_type": "markdown",
      "source": [
        "*   **Third dataset(test sets): WASSA-2017**\n",
        "\n",
        "Now we have to do the same thing for the test sets.\n",
        "\n",
        "So we load them first."
      ],
      "metadata": {
        "id": "QXUECqBX3j0F"
      }
    },
    {
      "cell_type": "code",
      "source": [
        "# Load WASSA-2017 testing sets (text files)\n",
        "ei_test_file1 = '/content/drive/MyDrive/CVS/IR/WASSA-2017/TestSet/WithIntensityLabels/anger-ratings-0to1.test.gold.txt'\n",
        "ei_test_file2 = '/content/drive/MyDrive/CVS/IR/WASSA-2017/TestSet/WithIntensityLabels/fear-ratings-0to1.test.gold.txt'\n",
        "ei_test_file3 = '/content/drive/MyDrive/CVS/IR/WASSA-2017/TestSet/WithIntensityLabels/joy-ratings-0to1.test.gold.txt'\n",
        "ei_test_file4 = '/content/drive/MyDrive/CVS/IR/WASSA-2017/TestSet/WithIntensityLabels/sadness-ratings-0to1.test.gold.txt'\n",
        "\n",
        "ei_test_df1 = pd.read_csv(ei_test_file1, delimiter='\\t')\n",
        "ei_test_df2 = pd.read_csv(ei_test_file2, delimiter='\\t')\n",
        "ei_test_df3 = pd.read_csv(ei_test_file3, delimiter='\\t')\n",
        "ei_test_df4 = pd.read_csv(ei_test_file4, delimiter='\\t')"
      ],
      "metadata": {
        "id": "S-6z2RsK682t"
      },
      "execution_count": 93,
      "outputs": []
    },
    {
      "cell_type": "markdown",
      "source": [
        "Merge themm together."
      ],
      "metadata": {
        "id": "UZ5fmqcP3rme"
      }
    },
    {
      "cell_type": "code",
      "source": [
        "# Merge the testing dataframes\n",
        "\n",
        "# Rename the columns in each dataframe to match a common structure\n",
        "ei_test_df1.columns = ['ID', 'Text', 'Emotion', 'Score']\n",
        "ei_test_df2.columns = ['ID', 'Text', 'Emotion', 'Score']\n",
        "ei_test_df3.columns = ['ID', 'Text', 'Emotion', 'Score']\n",
        "ei_test_df4.columns = ['ID', 'Text', 'Emotion', 'Score']\n",
        "\n",
        "\n",
        "# Merge the dataframes vertically\n",
        "ei_test_df = pd.concat([ei_test_df1, ei_test_df2, ei_test_df3, ei_test_df4], axis=0, ignore_index=True)\n",
        "\n",
        "# Reset the index of the combined dataframe\n",
        "ei_test_df.reset_index(drop=True, inplace=True)\n",
        "\n",
        "# Rename the columns for clarity\n",
        "ei_test_df.columns = ['ID', 'Text', 'Emotion', 'Intensity']"
      ],
      "metadata": {
        "id": "XfUHQOgI8KAX"
      },
      "execution_count": 94,
      "outputs": []
    },
    {
      "cell_type": "markdown",
      "source": [
        "And take a look at its structure."
      ],
      "metadata": {
        "id": "Q6zeuUdr5dbd"
      }
    },
    {
      "cell_type": "code",
      "source": [
        "ei_test_df.sample(5)"
      ],
      "metadata": {
        "colab": {
          "base_uri": "https://localhost:8080/",
          "height": 206
        },
        "id": "_Z-7fwzZ8cIk",
        "outputId": "6f6ea7a0-2857-41d2-9efd-4bd2d484c895"
      },
      "execution_count": 95,
      "outputs": [
        {
          "output_type": "execute_result",
          "data": {
            "text/plain": [
              "         ID                                               Text Emotion  \\\n",
              "1364  21863                  It's a Moving Day! #stress  #hope    fear   \n",
              "868   21367  More #terror attacks on #India means something...    fear   \n",
              "2085  31235  Forgot to thank @_JusDee_ and @djolder for sha...     joy   \n",
              "2258  31408  Always hurting somewhere..... ALWAYS tired ......     joy   \n",
              "128   11070  @JankHambrams You sound like my husband @Enist...   anger   \n",
              "\n",
              "      Intensity  \n",
              "1364      0.604  \n",
              "868       0.620  \n",
              "2085      0.600  \n",
              "2258      0.021  \n",
              "128       0.292  "
            ],
            "text/html": [
              "\n",
              "  <div id=\"df-c919fbd7-14d0-43e2-8abd-c46bb6139038\">\n",
              "    <div class=\"colab-df-container\">\n",
              "      <div>\n",
              "<style scoped>\n",
              "    .dataframe tbody tr th:only-of-type {\n",
              "        vertical-align: middle;\n",
              "    }\n",
              "\n",
              "    .dataframe tbody tr th {\n",
              "        vertical-align: top;\n",
              "    }\n",
              "\n",
              "    .dataframe thead th {\n",
              "        text-align: right;\n",
              "    }\n",
              "</style>\n",
              "<table border=\"1\" class=\"dataframe\">\n",
              "  <thead>\n",
              "    <tr style=\"text-align: right;\">\n",
              "      <th></th>\n",
              "      <th>ID</th>\n",
              "      <th>Text</th>\n",
              "      <th>Emotion</th>\n",
              "      <th>Intensity</th>\n",
              "    </tr>\n",
              "  </thead>\n",
              "  <tbody>\n",
              "    <tr>\n",
              "      <th>1364</th>\n",
              "      <td>21863</td>\n",
              "      <td>It's a Moving Day! #stress  #hope</td>\n",
              "      <td>fear</td>\n",
              "      <td>0.604</td>\n",
              "    </tr>\n",
              "    <tr>\n",
              "      <th>868</th>\n",
              "      <td>21367</td>\n",
              "      <td>More #terror attacks on #India means something...</td>\n",
              "      <td>fear</td>\n",
              "      <td>0.620</td>\n",
              "    </tr>\n",
              "    <tr>\n",
              "      <th>2085</th>\n",
              "      <td>31235</td>\n",
              "      <td>Forgot to thank @_JusDee_ and @djolder for sha...</td>\n",
              "      <td>joy</td>\n",
              "      <td>0.600</td>\n",
              "    </tr>\n",
              "    <tr>\n",
              "      <th>2258</th>\n",
              "      <td>31408</td>\n",
              "      <td>Always hurting somewhere..... ALWAYS tired ......</td>\n",
              "      <td>joy</td>\n",
              "      <td>0.021</td>\n",
              "    </tr>\n",
              "    <tr>\n",
              "      <th>128</th>\n",
              "      <td>11070</td>\n",
              "      <td>@JankHambrams You sound like my husband @Enist...</td>\n",
              "      <td>anger</td>\n",
              "      <td>0.292</td>\n",
              "    </tr>\n",
              "  </tbody>\n",
              "</table>\n",
              "</div>\n",
              "      <button class=\"colab-df-convert\" onclick=\"convertToInteractive('df-c919fbd7-14d0-43e2-8abd-c46bb6139038')\"\n",
              "              title=\"Convert this dataframe to an interactive table.\"\n",
              "              style=\"display:none;\">\n",
              "        \n",
              "  <svg xmlns=\"http://www.w3.org/2000/svg\" height=\"24px\"viewBox=\"0 0 24 24\"\n",
              "       width=\"24px\">\n",
              "    <path d=\"M0 0h24v24H0V0z\" fill=\"none\"/>\n",
              "    <path d=\"M18.56 5.44l.94 2.06.94-2.06 2.06-.94-2.06-.94-.94-2.06-.94 2.06-2.06.94zm-11 1L8.5 8.5l.94-2.06 2.06-.94-2.06-.94L8.5 2.5l-.94 2.06-2.06.94zm10 10l.94 2.06.94-2.06 2.06-.94-2.06-.94-.94-2.06-.94 2.06-2.06.94z\"/><path d=\"M17.41 7.96l-1.37-1.37c-.4-.4-.92-.59-1.43-.59-.52 0-1.04.2-1.43.59L10.3 9.45l-7.72 7.72c-.78.78-.78 2.05 0 2.83L4 21.41c.39.39.9.59 1.41.59.51 0 1.02-.2 1.41-.59l7.78-7.78 2.81-2.81c.8-.78.8-2.07 0-2.86zM5.41 20L4 18.59l7.72-7.72 1.47 1.35L5.41 20z\"/>\n",
              "  </svg>\n",
              "      </button>\n",
              "      \n",
              "  <style>\n",
              "    .colab-df-container {\n",
              "      display:flex;\n",
              "      flex-wrap:wrap;\n",
              "      gap: 12px;\n",
              "    }\n",
              "\n",
              "    .colab-df-convert {\n",
              "      background-color: #E8F0FE;\n",
              "      border: none;\n",
              "      border-radius: 50%;\n",
              "      cursor: pointer;\n",
              "      display: none;\n",
              "      fill: #1967D2;\n",
              "      height: 32px;\n",
              "      padding: 0 0 0 0;\n",
              "      width: 32px;\n",
              "    }\n",
              "\n",
              "    .colab-df-convert:hover {\n",
              "      background-color: #E2EBFA;\n",
              "      box-shadow: 0px 1px 2px rgba(60, 64, 67, 0.3), 0px 1px 3px 1px rgba(60, 64, 67, 0.15);\n",
              "      fill: #174EA6;\n",
              "    }\n",
              "\n",
              "    [theme=dark] .colab-df-convert {\n",
              "      background-color: #3B4455;\n",
              "      fill: #D2E3FC;\n",
              "    }\n",
              "\n",
              "    [theme=dark] .colab-df-convert:hover {\n",
              "      background-color: #434B5C;\n",
              "      box-shadow: 0px 1px 3px 1px rgba(0, 0, 0, 0.15);\n",
              "      filter: drop-shadow(0px 1px 2px rgba(0, 0, 0, 0.3));\n",
              "      fill: #FFFFFF;\n",
              "    }\n",
              "  </style>\n",
              "\n",
              "      <script>\n",
              "        const buttonEl =\n",
              "          document.querySelector('#df-c919fbd7-14d0-43e2-8abd-c46bb6139038 button.colab-df-convert');\n",
              "        buttonEl.style.display =\n",
              "          google.colab.kernel.accessAllowed ? 'block' : 'none';\n",
              "\n",
              "        async function convertToInteractive(key) {\n",
              "          const element = document.querySelector('#df-c919fbd7-14d0-43e2-8abd-c46bb6139038');\n",
              "          const dataTable =\n",
              "            await google.colab.kernel.invokeFunction('convertToInteractive',\n",
              "                                                     [key], {});\n",
              "          if (!dataTable) return;\n",
              "\n",
              "          const docLinkHtml = 'Like what you see? Visit the ' +\n",
              "            '<a target=\"_blank\" href=https://colab.research.google.com/notebooks/data_table.ipynb>data table notebook</a>'\n",
              "            + ' to learn more about interactive tables.';\n",
              "          element.innerHTML = '';\n",
              "          dataTable['output_type'] = 'display_data';\n",
              "          await google.colab.output.renderOutput(dataTable, element);\n",
              "          const docLink = document.createElement('div');\n",
              "          docLink.innerHTML = docLinkHtml;\n",
              "          element.appendChild(docLink);\n",
              "        }\n",
              "      </script>\n",
              "    </div>\n",
              "  </div>\n",
              "  "
            ]
          },
          "metadata": {},
          "execution_count": 95
        }
      ]
    },
    {
      "cell_type": "markdown",
      "source": [
        "*   **Forth dataset: Cornell Movie-Dialogs Corpus**\n",
        "\n",
        "A large metadata-rich collection of fictional conversations extracted from raw movie scripts. (220,579 conversational exchanges between 10,292 pairs of movie characters in 617 movies).\n",
        "\n",
        "This data series contains diffrent datasets."
      ],
      "metadata": {
        "id": "IL5TyKzt-aCG"
      }
    },
    {
      "cell_type": "markdown",
      "source": [
        "1. *Conversational-level information:*"
      ],
      "metadata": {
        "id": "KoJclD5X-XFd"
      }
    },
    {
      "cell_type": "code",
      "source": [
        "conversations_df = pd.read_json(\"/content/drive/MyDrive/CVS/IR/CornellMovie-DialogsCorpus/conversations.json\")\n",
        "# Transpose the DataFrame\n",
        "conversations_df = conversations_df.transpose()\n",
        "# Reset the index\n",
        "conversations_df.reset_index(inplace=True)\n",
        "\n",
        "conversations_df.head()"
      ],
      "metadata": {
        "colab": {
          "base_uri": "https://localhost:8080/",
          "height": 206
        },
        "id": "P8VrxuXzKZIN",
        "outputId": "9479d907-bede-4578-e04e-e13e00447aaa"
      },
      "execution_count": 96,
      "outputs": [
        {
          "output_type": "execute_result",
          "data": {
            "text/plain": [
              "   index                                               meta vectors\n",
              "0  L1044  {'movie_idx': 'm0', 'movie_name': '10 things i...      []\n",
              "1   L984  {'movie_idx': 'm0', 'movie_name': '10 things i...      []\n",
              "2   L924  {'movie_idx': 'm0', 'movie_name': '10 things i...      []\n",
              "3   L870  {'movie_idx': 'm0', 'movie_name': '10 things i...      []\n",
              "4   L866  {'movie_idx': 'm0', 'movie_name': '10 things i...      []"
            ],
            "text/html": [
              "\n",
              "  <div id=\"df-633cc050-ecf6-48a3-8823-264f53980baa\">\n",
              "    <div class=\"colab-df-container\">\n",
              "      <div>\n",
              "<style scoped>\n",
              "    .dataframe tbody tr th:only-of-type {\n",
              "        vertical-align: middle;\n",
              "    }\n",
              "\n",
              "    .dataframe tbody tr th {\n",
              "        vertical-align: top;\n",
              "    }\n",
              "\n",
              "    .dataframe thead th {\n",
              "        text-align: right;\n",
              "    }\n",
              "</style>\n",
              "<table border=\"1\" class=\"dataframe\">\n",
              "  <thead>\n",
              "    <tr style=\"text-align: right;\">\n",
              "      <th></th>\n",
              "      <th>index</th>\n",
              "      <th>meta</th>\n",
              "      <th>vectors</th>\n",
              "    </tr>\n",
              "  </thead>\n",
              "  <tbody>\n",
              "    <tr>\n",
              "      <th>0</th>\n",
              "      <td>L1044</td>\n",
              "      <td>{'movie_idx': 'm0', 'movie_name': '10 things i...</td>\n",
              "      <td>[]</td>\n",
              "    </tr>\n",
              "    <tr>\n",
              "      <th>1</th>\n",
              "      <td>L984</td>\n",
              "      <td>{'movie_idx': 'm0', 'movie_name': '10 things i...</td>\n",
              "      <td>[]</td>\n",
              "    </tr>\n",
              "    <tr>\n",
              "      <th>2</th>\n",
              "      <td>L924</td>\n",
              "      <td>{'movie_idx': 'm0', 'movie_name': '10 things i...</td>\n",
              "      <td>[]</td>\n",
              "    </tr>\n",
              "    <tr>\n",
              "      <th>3</th>\n",
              "      <td>L870</td>\n",
              "      <td>{'movie_idx': 'm0', 'movie_name': '10 things i...</td>\n",
              "      <td>[]</td>\n",
              "    </tr>\n",
              "    <tr>\n",
              "      <th>4</th>\n",
              "      <td>L866</td>\n",
              "      <td>{'movie_idx': 'm0', 'movie_name': '10 things i...</td>\n",
              "      <td>[]</td>\n",
              "    </tr>\n",
              "  </tbody>\n",
              "</table>\n",
              "</div>\n",
              "      <button class=\"colab-df-convert\" onclick=\"convertToInteractive('df-633cc050-ecf6-48a3-8823-264f53980baa')\"\n",
              "              title=\"Convert this dataframe to an interactive table.\"\n",
              "              style=\"display:none;\">\n",
              "        \n",
              "  <svg xmlns=\"http://www.w3.org/2000/svg\" height=\"24px\"viewBox=\"0 0 24 24\"\n",
              "       width=\"24px\">\n",
              "    <path d=\"M0 0h24v24H0V0z\" fill=\"none\"/>\n",
              "    <path d=\"M18.56 5.44l.94 2.06.94-2.06 2.06-.94-2.06-.94-.94-2.06-.94 2.06-2.06.94zm-11 1L8.5 8.5l.94-2.06 2.06-.94-2.06-.94L8.5 2.5l-.94 2.06-2.06.94zm10 10l.94 2.06.94-2.06 2.06-.94-2.06-.94-.94-2.06-.94 2.06-2.06.94z\"/><path d=\"M17.41 7.96l-1.37-1.37c-.4-.4-.92-.59-1.43-.59-.52 0-1.04.2-1.43.59L10.3 9.45l-7.72 7.72c-.78.78-.78 2.05 0 2.83L4 21.41c.39.39.9.59 1.41.59.51 0 1.02-.2 1.41-.59l7.78-7.78 2.81-2.81c.8-.78.8-2.07 0-2.86zM5.41 20L4 18.59l7.72-7.72 1.47 1.35L5.41 20z\"/>\n",
              "  </svg>\n",
              "      </button>\n",
              "      \n",
              "  <style>\n",
              "    .colab-df-container {\n",
              "      display:flex;\n",
              "      flex-wrap:wrap;\n",
              "      gap: 12px;\n",
              "    }\n",
              "\n",
              "    .colab-df-convert {\n",
              "      background-color: #E8F0FE;\n",
              "      border: none;\n",
              "      border-radius: 50%;\n",
              "      cursor: pointer;\n",
              "      display: none;\n",
              "      fill: #1967D2;\n",
              "      height: 32px;\n",
              "      padding: 0 0 0 0;\n",
              "      width: 32px;\n",
              "    }\n",
              "\n",
              "    .colab-df-convert:hover {\n",
              "      background-color: #E2EBFA;\n",
              "      box-shadow: 0px 1px 2px rgba(60, 64, 67, 0.3), 0px 1px 3px 1px rgba(60, 64, 67, 0.15);\n",
              "      fill: #174EA6;\n",
              "    }\n",
              "\n",
              "    [theme=dark] .colab-df-convert {\n",
              "      background-color: #3B4455;\n",
              "      fill: #D2E3FC;\n",
              "    }\n",
              "\n",
              "    [theme=dark] .colab-df-convert:hover {\n",
              "      background-color: #434B5C;\n",
              "      box-shadow: 0px 1px 3px 1px rgba(0, 0, 0, 0.15);\n",
              "      filter: drop-shadow(0px 1px 2px rgba(0, 0, 0, 0.3));\n",
              "      fill: #FFFFFF;\n",
              "    }\n",
              "  </style>\n",
              "\n",
              "      <script>\n",
              "        const buttonEl =\n",
              "          document.querySelector('#df-633cc050-ecf6-48a3-8823-264f53980baa button.colab-df-convert');\n",
              "        buttonEl.style.display =\n",
              "          google.colab.kernel.accessAllowed ? 'block' : 'none';\n",
              "\n",
              "        async function convertToInteractive(key) {\n",
              "          const element = document.querySelector('#df-633cc050-ecf6-48a3-8823-264f53980baa');\n",
              "          const dataTable =\n",
              "            await google.colab.kernel.invokeFunction('convertToInteractive',\n",
              "                                                     [key], {});\n",
              "          if (!dataTable) return;\n",
              "\n",
              "          const docLinkHtml = 'Like what you see? Visit the ' +\n",
              "            '<a target=\"_blank\" href=https://colab.research.google.com/notebooks/data_table.ipynb>data table notebook</a>'\n",
              "            + ' to learn more about interactive tables.';\n",
              "          element.innerHTML = '';\n",
              "          dataTable['output_type'] = 'display_data';\n",
              "          await google.colab.output.renderOutput(dataTable, element);\n",
              "          const docLink = document.createElement('div');\n",
              "          docLink.innerHTML = docLinkHtml;\n",
              "          element.appendChild(docLink);\n",
              "        }\n",
              "      </script>\n",
              "    </div>\n",
              "  </div>\n",
              "  "
            ]
          },
          "metadata": {},
          "execution_count": 96
        }
      ]
    },
    {
      "cell_type": "markdown",
      "source": [
        "2. *Corpus-level information:*\n"
      ],
      "metadata": {
        "id": "a6fVWMDU91xF"
      }
    },
    {
      "cell_type": "code",
      "source": [
        "corpus_df = pd.read_json(\"/content/drive/MyDrive/CVS/IR/CornellMovie-DialogsCorpus/corpus.json\")\n",
        "\n",
        "corpus_df.sample(5)"
      ],
      "metadata": {
        "colab": {
          "base_uri": "https://localhost:8080/",
          "height": 206
        },
        "id": "ZHMZKaLnL4Aj",
        "outputId": "b3d090d7-6ebc-4b06-e72d-26caf2e2752a"
      },
      "execution_count": 97,
      "outputs": [
        {
          "output_type": "execute_result",
          "data": {
            "text/plain": [
              "                                                    url  \\\n",
              "m398   http://www.dailyscript.com/scripts/insomnia.html   \n",
              "m568  http://www.dailyscript.com/scripts/Sting,%20Th...   \n",
              "m212  http://home.online.no/~bhundlan/scripts/TheLos...   \n",
              "m150  http://home.online.no/~bhundlan/scripts/Nixon.txt   \n",
              "m547         http://www.scifiscripts.com/scripts/t2.txt   \n",
              "\n",
              "                              name  \n",
              "m398  Cornell Movie-Dialogs Corpus  \n",
              "m568  Cornell Movie-Dialogs Corpus  \n",
              "m212  Cornell Movie-Dialogs Corpus  \n",
              "m150  Cornell Movie-Dialogs Corpus  \n",
              "m547  Cornell Movie-Dialogs Corpus  "
            ],
            "text/html": [
              "\n",
              "  <div id=\"df-7a96a197-aec1-48f3-bfaf-206d9af2f3b9\">\n",
              "    <div class=\"colab-df-container\">\n",
              "      <div>\n",
              "<style scoped>\n",
              "    .dataframe tbody tr th:only-of-type {\n",
              "        vertical-align: middle;\n",
              "    }\n",
              "\n",
              "    .dataframe tbody tr th {\n",
              "        vertical-align: top;\n",
              "    }\n",
              "\n",
              "    .dataframe thead th {\n",
              "        text-align: right;\n",
              "    }\n",
              "</style>\n",
              "<table border=\"1\" class=\"dataframe\">\n",
              "  <thead>\n",
              "    <tr style=\"text-align: right;\">\n",
              "      <th></th>\n",
              "      <th>url</th>\n",
              "      <th>name</th>\n",
              "    </tr>\n",
              "  </thead>\n",
              "  <tbody>\n",
              "    <tr>\n",
              "      <th>m398</th>\n",
              "      <td>http://www.dailyscript.com/scripts/insomnia.html</td>\n",
              "      <td>Cornell Movie-Dialogs Corpus</td>\n",
              "    </tr>\n",
              "    <tr>\n",
              "      <th>m568</th>\n",
              "      <td>http://www.dailyscript.com/scripts/Sting,%20Th...</td>\n",
              "      <td>Cornell Movie-Dialogs Corpus</td>\n",
              "    </tr>\n",
              "    <tr>\n",
              "      <th>m212</th>\n",
              "      <td>http://home.online.no/~bhundlan/scripts/TheLos...</td>\n",
              "      <td>Cornell Movie-Dialogs Corpus</td>\n",
              "    </tr>\n",
              "    <tr>\n",
              "      <th>m150</th>\n",
              "      <td>http://home.online.no/~bhundlan/scripts/Nixon.txt</td>\n",
              "      <td>Cornell Movie-Dialogs Corpus</td>\n",
              "    </tr>\n",
              "    <tr>\n",
              "      <th>m547</th>\n",
              "      <td>http://www.scifiscripts.com/scripts/t2.txt</td>\n",
              "      <td>Cornell Movie-Dialogs Corpus</td>\n",
              "    </tr>\n",
              "  </tbody>\n",
              "</table>\n",
              "</div>\n",
              "      <button class=\"colab-df-convert\" onclick=\"convertToInteractive('df-7a96a197-aec1-48f3-bfaf-206d9af2f3b9')\"\n",
              "              title=\"Convert this dataframe to an interactive table.\"\n",
              "              style=\"display:none;\">\n",
              "        \n",
              "  <svg xmlns=\"http://www.w3.org/2000/svg\" height=\"24px\"viewBox=\"0 0 24 24\"\n",
              "       width=\"24px\">\n",
              "    <path d=\"M0 0h24v24H0V0z\" fill=\"none\"/>\n",
              "    <path d=\"M18.56 5.44l.94 2.06.94-2.06 2.06-.94-2.06-.94-.94-2.06-.94 2.06-2.06.94zm-11 1L8.5 8.5l.94-2.06 2.06-.94-2.06-.94L8.5 2.5l-.94 2.06-2.06.94zm10 10l.94 2.06.94-2.06 2.06-.94-2.06-.94-.94-2.06-.94 2.06-2.06.94z\"/><path d=\"M17.41 7.96l-1.37-1.37c-.4-.4-.92-.59-1.43-.59-.52 0-1.04.2-1.43.59L10.3 9.45l-7.72 7.72c-.78.78-.78 2.05 0 2.83L4 21.41c.39.39.9.59 1.41.59.51 0 1.02-.2 1.41-.59l7.78-7.78 2.81-2.81c.8-.78.8-2.07 0-2.86zM5.41 20L4 18.59l7.72-7.72 1.47 1.35L5.41 20z\"/>\n",
              "  </svg>\n",
              "      </button>\n",
              "      \n",
              "  <style>\n",
              "    .colab-df-container {\n",
              "      display:flex;\n",
              "      flex-wrap:wrap;\n",
              "      gap: 12px;\n",
              "    }\n",
              "\n",
              "    .colab-df-convert {\n",
              "      background-color: #E8F0FE;\n",
              "      border: none;\n",
              "      border-radius: 50%;\n",
              "      cursor: pointer;\n",
              "      display: none;\n",
              "      fill: #1967D2;\n",
              "      height: 32px;\n",
              "      padding: 0 0 0 0;\n",
              "      width: 32px;\n",
              "    }\n",
              "\n",
              "    .colab-df-convert:hover {\n",
              "      background-color: #E2EBFA;\n",
              "      box-shadow: 0px 1px 2px rgba(60, 64, 67, 0.3), 0px 1px 3px 1px rgba(60, 64, 67, 0.15);\n",
              "      fill: #174EA6;\n",
              "    }\n",
              "\n",
              "    [theme=dark] .colab-df-convert {\n",
              "      background-color: #3B4455;\n",
              "      fill: #D2E3FC;\n",
              "    }\n",
              "\n",
              "    [theme=dark] .colab-df-convert:hover {\n",
              "      background-color: #434B5C;\n",
              "      box-shadow: 0px 1px 3px 1px rgba(0, 0, 0, 0.15);\n",
              "      filter: drop-shadow(0px 1px 2px rgba(0, 0, 0, 0.3));\n",
              "      fill: #FFFFFF;\n",
              "    }\n",
              "  </style>\n",
              "\n",
              "      <script>\n",
              "        const buttonEl =\n",
              "          document.querySelector('#df-7a96a197-aec1-48f3-bfaf-206d9af2f3b9 button.colab-df-convert');\n",
              "        buttonEl.style.display =\n",
              "          google.colab.kernel.accessAllowed ? 'block' : 'none';\n",
              "\n",
              "        async function convertToInteractive(key) {\n",
              "          const element = document.querySelector('#df-7a96a197-aec1-48f3-bfaf-206d9af2f3b9');\n",
              "          const dataTable =\n",
              "            await google.colab.kernel.invokeFunction('convertToInteractive',\n",
              "                                                     [key], {});\n",
              "          if (!dataTable) return;\n",
              "\n",
              "          const docLinkHtml = 'Like what you see? Visit the ' +\n",
              "            '<a target=\"_blank\" href=https://colab.research.google.com/notebooks/data_table.ipynb>data table notebook</a>'\n",
              "            + ' to learn more about interactive tables.';\n",
              "          element.innerHTML = '';\n",
              "          dataTable['output_type'] = 'display_data';\n",
              "          await google.colab.output.renderOutput(dataTable, element);\n",
              "          const docLink = document.createElement('div');\n",
              "          docLink.innerHTML = docLinkHtml;\n",
              "          element.appendChild(docLink);\n",
              "        }\n",
              "      </script>\n",
              "    </div>\n",
              "  </div>\n",
              "  "
            ]
          },
          "metadata": {},
          "execution_count": 97
        }
      ]
    },
    {
      "cell_type": "markdown",
      "source": [
        "3. *Speaker-level information:*"
      ],
      "metadata": {
        "id": "TTe3k6Tz-nAd"
      }
    },
    {
      "cell_type": "code",
      "source": [
        "speakers_df = pd.read_json(\"/content/drive/MyDrive/CVS/IR/CornellMovie-DialogsCorpus/speakers.json\")\n",
        "# Transpose the DataFrame\n",
        "speakers_df = speakers_df.transpose()\n",
        "# Reset the index\n",
        "speakers_df.reset_index(inplace=True)\n",
        "\n",
        "speakers_df.sample(5)"
      ],
      "metadata": {
        "colab": {
          "base_uri": "https://localhost:8080/",
          "height": 206
        },
        "id": "HWzY16N4L6rd",
        "outputId": "c183f840-aa91-40f7-a1ac-ffddc71a6b6a"
      },
      "execution_count": 98,
      "outputs": [
        {
          "output_type": "execute_result",
          "data": {
            "text/plain": [
              "      index                                               meta vectors\n",
              "8414  u8419  {'character_name': 'THX', 'movie_idx': 'm571',...      []\n",
              "7116  u7114  {'character_name': 'MR. PENFIELD', 'movie_idx'...      []\n",
              "924    u924  {'character_name': 'MAID', 'movie_idx': 'm60',...      []\n",
              "2335  u2347  {'character_name': 'TOLSON', 'movie_idx': 'm15...      []\n",
              "7118  u7123  {'character_name': 'UTAH', 'movie_idx': 'm477'...      []"
            ],
            "text/html": [
              "\n",
              "  <div id=\"df-2e8c44d4-ae2a-4be6-92ce-f87685b1eab4\">\n",
              "    <div class=\"colab-df-container\">\n",
              "      <div>\n",
              "<style scoped>\n",
              "    .dataframe tbody tr th:only-of-type {\n",
              "        vertical-align: middle;\n",
              "    }\n",
              "\n",
              "    .dataframe tbody tr th {\n",
              "        vertical-align: top;\n",
              "    }\n",
              "\n",
              "    .dataframe thead th {\n",
              "        text-align: right;\n",
              "    }\n",
              "</style>\n",
              "<table border=\"1\" class=\"dataframe\">\n",
              "  <thead>\n",
              "    <tr style=\"text-align: right;\">\n",
              "      <th></th>\n",
              "      <th>index</th>\n",
              "      <th>meta</th>\n",
              "      <th>vectors</th>\n",
              "    </tr>\n",
              "  </thead>\n",
              "  <tbody>\n",
              "    <tr>\n",
              "      <th>8414</th>\n",
              "      <td>u8419</td>\n",
              "      <td>{'character_name': 'THX', 'movie_idx': 'm571',...</td>\n",
              "      <td>[]</td>\n",
              "    </tr>\n",
              "    <tr>\n",
              "      <th>7116</th>\n",
              "      <td>u7114</td>\n",
              "      <td>{'character_name': 'MR. PENFIELD', 'movie_idx'...</td>\n",
              "      <td>[]</td>\n",
              "    </tr>\n",
              "    <tr>\n",
              "      <th>924</th>\n",
              "      <td>u924</td>\n",
              "      <td>{'character_name': 'MAID', 'movie_idx': 'm60',...</td>\n",
              "      <td>[]</td>\n",
              "    </tr>\n",
              "    <tr>\n",
              "      <th>2335</th>\n",
              "      <td>u2347</td>\n",
              "      <td>{'character_name': 'TOLSON', 'movie_idx': 'm15...</td>\n",
              "      <td>[]</td>\n",
              "    </tr>\n",
              "    <tr>\n",
              "      <th>7118</th>\n",
              "      <td>u7123</td>\n",
              "      <td>{'character_name': 'UTAH', 'movie_idx': 'm477'...</td>\n",
              "      <td>[]</td>\n",
              "    </tr>\n",
              "  </tbody>\n",
              "</table>\n",
              "</div>\n",
              "      <button class=\"colab-df-convert\" onclick=\"convertToInteractive('df-2e8c44d4-ae2a-4be6-92ce-f87685b1eab4')\"\n",
              "              title=\"Convert this dataframe to an interactive table.\"\n",
              "              style=\"display:none;\">\n",
              "        \n",
              "  <svg xmlns=\"http://www.w3.org/2000/svg\" height=\"24px\"viewBox=\"0 0 24 24\"\n",
              "       width=\"24px\">\n",
              "    <path d=\"M0 0h24v24H0V0z\" fill=\"none\"/>\n",
              "    <path d=\"M18.56 5.44l.94 2.06.94-2.06 2.06-.94-2.06-.94-.94-2.06-.94 2.06-2.06.94zm-11 1L8.5 8.5l.94-2.06 2.06-.94-2.06-.94L8.5 2.5l-.94 2.06-2.06.94zm10 10l.94 2.06.94-2.06 2.06-.94-2.06-.94-.94-2.06-.94 2.06-2.06.94z\"/><path d=\"M17.41 7.96l-1.37-1.37c-.4-.4-.92-.59-1.43-.59-.52 0-1.04.2-1.43.59L10.3 9.45l-7.72 7.72c-.78.78-.78 2.05 0 2.83L4 21.41c.39.39.9.59 1.41.59.51 0 1.02-.2 1.41-.59l7.78-7.78 2.81-2.81c.8-.78.8-2.07 0-2.86zM5.41 20L4 18.59l7.72-7.72 1.47 1.35L5.41 20z\"/>\n",
              "  </svg>\n",
              "      </button>\n",
              "      \n",
              "  <style>\n",
              "    .colab-df-container {\n",
              "      display:flex;\n",
              "      flex-wrap:wrap;\n",
              "      gap: 12px;\n",
              "    }\n",
              "\n",
              "    .colab-df-convert {\n",
              "      background-color: #E8F0FE;\n",
              "      border: none;\n",
              "      border-radius: 50%;\n",
              "      cursor: pointer;\n",
              "      display: none;\n",
              "      fill: #1967D2;\n",
              "      height: 32px;\n",
              "      padding: 0 0 0 0;\n",
              "      width: 32px;\n",
              "    }\n",
              "\n",
              "    .colab-df-convert:hover {\n",
              "      background-color: #E2EBFA;\n",
              "      box-shadow: 0px 1px 2px rgba(60, 64, 67, 0.3), 0px 1px 3px 1px rgba(60, 64, 67, 0.15);\n",
              "      fill: #174EA6;\n",
              "    }\n",
              "\n",
              "    [theme=dark] .colab-df-convert {\n",
              "      background-color: #3B4455;\n",
              "      fill: #D2E3FC;\n",
              "    }\n",
              "\n",
              "    [theme=dark] .colab-df-convert:hover {\n",
              "      background-color: #434B5C;\n",
              "      box-shadow: 0px 1px 3px 1px rgba(0, 0, 0, 0.15);\n",
              "      filter: drop-shadow(0px 1px 2px rgba(0, 0, 0, 0.3));\n",
              "      fill: #FFFFFF;\n",
              "    }\n",
              "  </style>\n",
              "\n",
              "      <script>\n",
              "        const buttonEl =\n",
              "          document.querySelector('#df-2e8c44d4-ae2a-4be6-92ce-f87685b1eab4 button.colab-df-convert');\n",
              "        buttonEl.style.display =\n",
              "          google.colab.kernel.accessAllowed ? 'block' : 'none';\n",
              "\n",
              "        async function convertToInteractive(key) {\n",
              "          const element = document.querySelector('#df-2e8c44d4-ae2a-4be6-92ce-f87685b1eab4');\n",
              "          const dataTable =\n",
              "            await google.colab.kernel.invokeFunction('convertToInteractive',\n",
              "                                                     [key], {});\n",
              "          if (!dataTable) return;\n",
              "\n",
              "          const docLinkHtml = 'Like what you see? Visit the ' +\n",
              "            '<a target=\"_blank\" href=https://colab.research.google.com/notebooks/data_table.ipynb>data table notebook</a>'\n",
              "            + ' to learn more about interactive tables.';\n",
              "          element.innerHTML = '';\n",
              "          dataTable['output_type'] = 'display_data';\n",
              "          await google.colab.output.renderOutput(dataTable, element);\n",
              "          const docLink = document.createElement('div');\n",
              "          docLink.innerHTML = docLinkHtml;\n",
              "          element.appendChild(docLink);\n",
              "        }\n",
              "      </script>\n",
              "    </div>\n",
              "  </div>\n",
              "  "
            ]
          },
          "metadata": {},
          "execution_count": 98
        }
      ]
    },
    {
      "cell_type": "markdown",
      "source": [
        "4. *Utterance-level information:*"
      ],
      "metadata": {
        "id": "bSrO39pF-u2R"
      }
    },
    {
      "cell_type": "code",
      "source": [
        "path=\"/content/drive/MyDrive/CVS/IR/CornellMovie-DialogsCorpus/utterances.jsonl\"\n",
        "movie_df = pd.read_json(path, lines=True)\n",
        "\n",
        "movie_df.sample(5)"
      ],
      "metadata": {
        "id": "faHp9XXa_sPp",
        "colab": {
          "base_uri": "https://localhost:8080/",
          "height": 206
        },
        "outputId": "71941756-8cf6-454d-e53b-f594194c2183"
      },
      "execution_count": 99,
      "outputs": [
        {
          "output_type": "execute_result",
          "data": {
            "text/plain": [
              "             id conversation_id  \\\n",
              "46974   L290707         L290706   \n",
              "215268  L356446         L356446   \n",
              "249388  L481483         L481476   \n",
              "119282  L661774         L661771   \n",
              "259104  L514229         L514224   \n",
              "\n",
              "                                                     text speaker  \\\n",
              "46974        A vehicle registered to a William S. Hudley.   u1401   \n",
              "215268                                        Mr. Harris?   u6386   \n",
              "249388     You think my kids have enough to eat, you rat?   u7399   \n",
              "119282                                                Me?   u3519   \n",
              "259104  I don't know, it just came to me. It's my corn...   u7676   \n",
              "\n",
              "                                                     meta reply-to timestamp  \\\n",
              "46974   {'movie_id': 'm92', 'parsed': [{'rt': 1, 'toks...  L290706       NaT   \n",
              "215268  {'movie_id': 'm425', 'parsed': [{'rt': 1, 'tok...     None       NaT   \n",
              "249388  {'movie_id': 'm500', 'parsed': [{'rt': 10, 'to...  L481482       NaT   \n",
              "119282  {'movie_id': 'm231', 'parsed': [{'rt': 0, 'tok...  L661773       NaT   \n",
              "259104  {'movie_id': 'm519', 'parsed': [{'rt': 7, 'tok...  L514228       NaT   \n",
              "\n",
              "       vectors  \n",
              "46974       []  \n",
              "215268      []  \n",
              "249388      []  \n",
              "119282      []  \n",
              "259104      []  "
            ],
            "text/html": [
              "\n",
              "  <div id=\"df-e1315810-4fc4-467f-ba3a-8a9f4f361b2b\">\n",
              "    <div class=\"colab-df-container\">\n",
              "      <div>\n",
              "<style scoped>\n",
              "    .dataframe tbody tr th:only-of-type {\n",
              "        vertical-align: middle;\n",
              "    }\n",
              "\n",
              "    .dataframe tbody tr th {\n",
              "        vertical-align: top;\n",
              "    }\n",
              "\n",
              "    .dataframe thead th {\n",
              "        text-align: right;\n",
              "    }\n",
              "</style>\n",
              "<table border=\"1\" class=\"dataframe\">\n",
              "  <thead>\n",
              "    <tr style=\"text-align: right;\">\n",
              "      <th></th>\n",
              "      <th>id</th>\n",
              "      <th>conversation_id</th>\n",
              "      <th>text</th>\n",
              "      <th>speaker</th>\n",
              "      <th>meta</th>\n",
              "      <th>reply-to</th>\n",
              "      <th>timestamp</th>\n",
              "      <th>vectors</th>\n",
              "    </tr>\n",
              "  </thead>\n",
              "  <tbody>\n",
              "    <tr>\n",
              "      <th>46974</th>\n",
              "      <td>L290707</td>\n",
              "      <td>L290706</td>\n",
              "      <td>A vehicle registered to a William S. Hudley.</td>\n",
              "      <td>u1401</td>\n",
              "      <td>{'movie_id': 'm92', 'parsed': [{'rt': 1, 'toks...</td>\n",
              "      <td>L290706</td>\n",
              "      <td>NaT</td>\n",
              "      <td>[]</td>\n",
              "    </tr>\n",
              "    <tr>\n",
              "      <th>215268</th>\n",
              "      <td>L356446</td>\n",
              "      <td>L356446</td>\n",
              "      <td>Mr. Harris?</td>\n",
              "      <td>u6386</td>\n",
              "      <td>{'movie_id': 'm425', 'parsed': [{'rt': 1, 'tok...</td>\n",
              "      <td>None</td>\n",
              "      <td>NaT</td>\n",
              "      <td>[]</td>\n",
              "    </tr>\n",
              "    <tr>\n",
              "      <th>249388</th>\n",
              "      <td>L481483</td>\n",
              "      <td>L481476</td>\n",
              "      <td>You think my kids have enough to eat, you rat?</td>\n",
              "      <td>u7399</td>\n",
              "      <td>{'movie_id': 'm500', 'parsed': [{'rt': 10, 'to...</td>\n",
              "      <td>L481482</td>\n",
              "      <td>NaT</td>\n",
              "      <td>[]</td>\n",
              "    </tr>\n",
              "    <tr>\n",
              "      <th>119282</th>\n",
              "      <td>L661774</td>\n",
              "      <td>L661771</td>\n",
              "      <td>Me?</td>\n",
              "      <td>u3519</td>\n",
              "      <td>{'movie_id': 'm231', 'parsed': [{'rt': 0, 'tok...</td>\n",
              "      <td>L661773</td>\n",
              "      <td>NaT</td>\n",
              "      <td>[]</td>\n",
              "    </tr>\n",
              "    <tr>\n",
              "      <th>259104</th>\n",
              "      <td>L514229</td>\n",
              "      <td>L514224</td>\n",
              "      <td>I don't know, it just came to me. It's my corn...</td>\n",
              "      <td>u7676</td>\n",
              "      <td>{'movie_id': 'm519', 'parsed': [{'rt': 7, 'tok...</td>\n",
              "      <td>L514228</td>\n",
              "      <td>NaT</td>\n",
              "      <td>[]</td>\n",
              "    </tr>\n",
              "  </tbody>\n",
              "</table>\n",
              "</div>\n",
              "      <button class=\"colab-df-convert\" onclick=\"convertToInteractive('df-e1315810-4fc4-467f-ba3a-8a9f4f361b2b')\"\n",
              "              title=\"Convert this dataframe to an interactive table.\"\n",
              "              style=\"display:none;\">\n",
              "        \n",
              "  <svg xmlns=\"http://www.w3.org/2000/svg\" height=\"24px\"viewBox=\"0 0 24 24\"\n",
              "       width=\"24px\">\n",
              "    <path d=\"M0 0h24v24H0V0z\" fill=\"none\"/>\n",
              "    <path d=\"M18.56 5.44l.94 2.06.94-2.06 2.06-.94-2.06-.94-.94-2.06-.94 2.06-2.06.94zm-11 1L8.5 8.5l.94-2.06 2.06-.94-2.06-.94L8.5 2.5l-.94 2.06-2.06.94zm10 10l.94 2.06.94-2.06 2.06-.94-2.06-.94-.94-2.06-.94 2.06-2.06.94z\"/><path d=\"M17.41 7.96l-1.37-1.37c-.4-.4-.92-.59-1.43-.59-.52 0-1.04.2-1.43.59L10.3 9.45l-7.72 7.72c-.78.78-.78 2.05 0 2.83L4 21.41c.39.39.9.59 1.41.59.51 0 1.02-.2 1.41-.59l7.78-7.78 2.81-2.81c.8-.78.8-2.07 0-2.86zM5.41 20L4 18.59l7.72-7.72 1.47 1.35L5.41 20z\"/>\n",
              "  </svg>\n",
              "      </button>\n",
              "      \n",
              "  <style>\n",
              "    .colab-df-container {\n",
              "      display:flex;\n",
              "      flex-wrap:wrap;\n",
              "      gap: 12px;\n",
              "    }\n",
              "\n",
              "    .colab-df-convert {\n",
              "      background-color: #E8F0FE;\n",
              "      border: none;\n",
              "      border-radius: 50%;\n",
              "      cursor: pointer;\n",
              "      display: none;\n",
              "      fill: #1967D2;\n",
              "      height: 32px;\n",
              "      padding: 0 0 0 0;\n",
              "      width: 32px;\n",
              "    }\n",
              "\n",
              "    .colab-df-convert:hover {\n",
              "      background-color: #E2EBFA;\n",
              "      box-shadow: 0px 1px 2px rgba(60, 64, 67, 0.3), 0px 1px 3px 1px rgba(60, 64, 67, 0.15);\n",
              "      fill: #174EA6;\n",
              "    }\n",
              "\n",
              "    [theme=dark] .colab-df-convert {\n",
              "      background-color: #3B4455;\n",
              "      fill: #D2E3FC;\n",
              "    }\n",
              "\n",
              "    [theme=dark] .colab-df-convert:hover {\n",
              "      background-color: #434B5C;\n",
              "      box-shadow: 0px 1px 3px 1px rgba(0, 0, 0, 0.15);\n",
              "      filter: drop-shadow(0px 1px 2px rgba(0, 0, 0, 0.3));\n",
              "      fill: #FFFFFF;\n",
              "    }\n",
              "  </style>\n",
              "\n",
              "      <script>\n",
              "        const buttonEl =\n",
              "          document.querySelector('#df-e1315810-4fc4-467f-ba3a-8a9f4f361b2b button.colab-df-convert');\n",
              "        buttonEl.style.display =\n",
              "          google.colab.kernel.accessAllowed ? 'block' : 'none';\n",
              "\n",
              "        async function convertToInteractive(key) {\n",
              "          const element = document.querySelector('#df-e1315810-4fc4-467f-ba3a-8a9f4f361b2b');\n",
              "          const dataTable =\n",
              "            await google.colab.kernel.invokeFunction('convertToInteractive',\n",
              "                                                     [key], {});\n",
              "          if (!dataTable) return;\n",
              "\n",
              "          const docLinkHtml = 'Like what you see? Visit the ' +\n",
              "            '<a target=\"_blank\" href=https://colab.research.google.com/notebooks/data_table.ipynb>data table notebook</a>'\n",
              "            + ' to learn more about interactive tables.';\n",
              "          element.innerHTML = '';\n",
              "          dataTable['output_type'] = 'display_data';\n",
              "          await google.colab.output.renderOutput(dataTable, element);\n",
              "          const docLink = document.createElement('div');\n",
              "          docLink.innerHTML = docLinkHtml;\n",
              "          element.appendChild(docLink);\n",
              "        }\n",
              "      </script>\n",
              "    </div>\n",
              "  </div>\n",
              "  "
            ]
          },
          "metadata": {},
          "execution_count": 99
        }
      ]
    },
    {
      "cell_type": "markdown",
      "source": [
        "---\n",
        "\n",
        "# SECTION 3 - Preprocessing the datasets\n",
        "\n",
        "In this section we will do the data preprocessing and make the datasets a bit better. The target is to make a unified dataset for train an another one for test, from all of our diffrent datasets. So we can start the further data cleaning which will be performed in the next step."
      ],
      "metadata": {
        "id": "v5QYMLuG9-oU"
      }
    },
    {
      "cell_type": "markdown",
      "source": [
        "\n",
        "*   First dataset\n",
        "\n",
        "To preprocess and clean the EmoBank dataset:"
      ],
      "metadata": {
        "id": "Mw9ZNjAaHkDn"
      }
    },
    {
      "cell_type": "code",
      "source": [
        "# Define emotion categories based on V, A, and D values\n",
        "def label_emotion(row):\n",
        "    valence = row['V']\n",
        "    arousal = row['A']\n",
        "    dominance = row['D']\n",
        "\n",
        "    if valence > 3 and arousal > 3 and dominance > 3:\n",
        "        return 'Positive'\n",
        "    elif valence <= 3 and arousal > 3 and dominance > 3:\n",
        "        return 'Negative'\n",
        "    else:\n",
        "        return 'Neutral'\n",
        "\n",
        "# Apply the labeling function to create the emotion labels\n",
        "eb['emotion'] = eb.apply(label_emotion, axis=1)\n",
        "\n",
        "# Print the labeled dataframe\n",
        "eb.sample(5)"
      ],
      "metadata": {
        "colab": {
          "base_uri": "https://localhost:8080/",
          "height": 206
        },
        "id": "c5-7BwlMMF8E",
        "outputId": "eed1387e-e739-42a6-abef-fafd96094e6d"
      },
      "execution_count": 100,
      "outputs": [
        {
          "output_type": "execute_result",
          "data": {
            "text/plain": [
              "                                         id  split     V     A     D  \\\n",
              "8411                 easy_money_13623_13705    dev  2.10  3.90  3.80   \n",
              "773                20020731-nyt_18962_19044  train  2.44  3.00  3.11   \n",
              "7302  blog-new-year's-resolutions_1818_1972  train  3.10  3.20  3.30   \n",
              "6104     Uprooted_Farming-on-Sand_1892_1896  train  3.00  3.25  3.00   \n",
              "6389              WhereToHongKong_1121_1284  train  3.00  3.11  3.00   \n",
              "\n",
              "                                                   text   emotion  \n",
              "8411  \"None,\" I said and slipped the knife into his ...  Negative  \n",
              "773   And Starke was tired of seeing Washington and ...   Neutral  \n",
              "7302  Combine this with theories of self-control, an...  Positive  \n",
              "6104                                               How?   Neutral  \n",
              "6389  There are restaurants and a Starbuck’s in the ...   Neutral  "
            ],
            "text/html": [
              "\n",
              "  <div id=\"df-eb1d7a80-5cf9-4060-801e-5828d297a24b\">\n",
              "    <div class=\"colab-df-container\">\n",
              "      <div>\n",
              "<style scoped>\n",
              "    .dataframe tbody tr th:only-of-type {\n",
              "        vertical-align: middle;\n",
              "    }\n",
              "\n",
              "    .dataframe tbody tr th {\n",
              "        vertical-align: top;\n",
              "    }\n",
              "\n",
              "    .dataframe thead th {\n",
              "        text-align: right;\n",
              "    }\n",
              "</style>\n",
              "<table border=\"1\" class=\"dataframe\">\n",
              "  <thead>\n",
              "    <tr style=\"text-align: right;\">\n",
              "      <th></th>\n",
              "      <th>id</th>\n",
              "      <th>split</th>\n",
              "      <th>V</th>\n",
              "      <th>A</th>\n",
              "      <th>D</th>\n",
              "      <th>text</th>\n",
              "      <th>emotion</th>\n",
              "    </tr>\n",
              "  </thead>\n",
              "  <tbody>\n",
              "    <tr>\n",
              "      <th>8411</th>\n",
              "      <td>easy_money_13623_13705</td>\n",
              "      <td>dev</td>\n",
              "      <td>2.10</td>\n",
              "      <td>3.90</td>\n",
              "      <td>3.80</td>\n",
              "      <td>\"None,\" I said and slipped the knife into his ...</td>\n",
              "      <td>Negative</td>\n",
              "    </tr>\n",
              "    <tr>\n",
              "      <th>773</th>\n",
              "      <td>20020731-nyt_18962_19044</td>\n",
              "      <td>train</td>\n",
              "      <td>2.44</td>\n",
              "      <td>3.00</td>\n",
              "      <td>3.11</td>\n",
              "      <td>And Starke was tired of seeing Washington and ...</td>\n",
              "      <td>Neutral</td>\n",
              "    </tr>\n",
              "    <tr>\n",
              "      <th>7302</th>\n",
              "      <td>blog-new-year's-resolutions_1818_1972</td>\n",
              "      <td>train</td>\n",
              "      <td>3.10</td>\n",
              "      <td>3.20</td>\n",
              "      <td>3.30</td>\n",
              "      <td>Combine this with theories of self-control, an...</td>\n",
              "      <td>Positive</td>\n",
              "    </tr>\n",
              "    <tr>\n",
              "      <th>6104</th>\n",
              "      <td>Uprooted_Farming-on-Sand_1892_1896</td>\n",
              "      <td>train</td>\n",
              "      <td>3.00</td>\n",
              "      <td>3.25</td>\n",
              "      <td>3.00</td>\n",
              "      <td>How?</td>\n",
              "      <td>Neutral</td>\n",
              "    </tr>\n",
              "    <tr>\n",
              "      <th>6389</th>\n",
              "      <td>WhereToHongKong_1121_1284</td>\n",
              "      <td>train</td>\n",
              "      <td>3.00</td>\n",
              "      <td>3.11</td>\n",
              "      <td>3.00</td>\n",
              "      <td>There are restaurants and a Starbuck’s in the ...</td>\n",
              "      <td>Neutral</td>\n",
              "    </tr>\n",
              "  </tbody>\n",
              "</table>\n",
              "</div>\n",
              "      <button class=\"colab-df-convert\" onclick=\"convertToInteractive('df-eb1d7a80-5cf9-4060-801e-5828d297a24b')\"\n",
              "              title=\"Convert this dataframe to an interactive table.\"\n",
              "              style=\"display:none;\">\n",
              "        \n",
              "  <svg xmlns=\"http://www.w3.org/2000/svg\" height=\"24px\"viewBox=\"0 0 24 24\"\n",
              "       width=\"24px\">\n",
              "    <path d=\"M0 0h24v24H0V0z\" fill=\"none\"/>\n",
              "    <path d=\"M18.56 5.44l.94 2.06.94-2.06 2.06-.94-2.06-.94-.94-2.06-.94 2.06-2.06.94zm-11 1L8.5 8.5l.94-2.06 2.06-.94-2.06-.94L8.5 2.5l-.94 2.06-2.06.94zm10 10l.94 2.06.94-2.06 2.06-.94-2.06-.94-.94-2.06-.94 2.06-2.06.94z\"/><path d=\"M17.41 7.96l-1.37-1.37c-.4-.4-.92-.59-1.43-.59-.52 0-1.04.2-1.43.59L10.3 9.45l-7.72 7.72c-.78.78-.78 2.05 0 2.83L4 21.41c.39.39.9.59 1.41.59.51 0 1.02-.2 1.41-.59l7.78-7.78 2.81-2.81c.8-.78.8-2.07 0-2.86zM5.41 20L4 18.59l7.72-7.72 1.47 1.35L5.41 20z\"/>\n",
              "  </svg>\n",
              "      </button>\n",
              "      \n",
              "  <style>\n",
              "    .colab-df-container {\n",
              "      display:flex;\n",
              "      flex-wrap:wrap;\n",
              "      gap: 12px;\n",
              "    }\n",
              "\n",
              "    .colab-df-convert {\n",
              "      background-color: #E8F0FE;\n",
              "      border: none;\n",
              "      border-radius: 50%;\n",
              "      cursor: pointer;\n",
              "      display: none;\n",
              "      fill: #1967D2;\n",
              "      height: 32px;\n",
              "      padding: 0 0 0 0;\n",
              "      width: 32px;\n",
              "    }\n",
              "\n",
              "    .colab-df-convert:hover {\n",
              "      background-color: #E2EBFA;\n",
              "      box-shadow: 0px 1px 2px rgba(60, 64, 67, 0.3), 0px 1px 3px 1px rgba(60, 64, 67, 0.15);\n",
              "      fill: #174EA6;\n",
              "    }\n",
              "\n",
              "    [theme=dark] .colab-df-convert {\n",
              "      background-color: #3B4455;\n",
              "      fill: #D2E3FC;\n",
              "    }\n",
              "\n",
              "    [theme=dark] .colab-df-convert:hover {\n",
              "      background-color: #434B5C;\n",
              "      box-shadow: 0px 1px 3px 1px rgba(0, 0, 0, 0.15);\n",
              "      filter: drop-shadow(0px 1px 2px rgba(0, 0, 0, 0.3));\n",
              "      fill: #FFFFFF;\n",
              "    }\n",
              "  </style>\n",
              "\n",
              "      <script>\n",
              "        const buttonEl =\n",
              "          document.querySelector('#df-eb1d7a80-5cf9-4060-801e-5828d297a24b button.colab-df-convert');\n",
              "        buttonEl.style.display =\n",
              "          google.colab.kernel.accessAllowed ? 'block' : 'none';\n",
              "\n",
              "        async function convertToInteractive(key) {\n",
              "          const element = document.querySelector('#df-eb1d7a80-5cf9-4060-801e-5828d297a24b');\n",
              "          const dataTable =\n",
              "            await google.colab.kernel.invokeFunction('convertToInteractive',\n",
              "                                                     [key], {});\n",
              "          if (!dataTable) return;\n",
              "\n",
              "          const docLinkHtml = 'Like what you see? Visit the ' +\n",
              "            '<a target=\"_blank\" href=https://colab.research.google.com/notebooks/data_table.ipynb>data table notebook</a>'\n",
              "            + ' to learn more about interactive tables.';\n",
              "          element.innerHTML = '';\n",
              "          dataTable['output_type'] = 'display_data';\n",
              "          await google.colab.output.renderOutput(dataTable, element);\n",
              "          const docLink = document.createElement('div');\n",
              "          docLink.innerHTML = docLinkHtml;\n",
              "          element.appendChild(docLink);\n",
              "        }\n",
              "      </script>\n",
              "    </div>\n",
              "  </div>\n",
              "  "
            ]
          },
          "metadata": {},
          "execution_count": 100
        }
      ]
    },
    {
      "cell_type": "code",
      "source": [
        "# Drop the V, A, and D and id columns\n",
        "eb = eb.drop(['V', 'A', 'D', 'id'], axis=1)"
      ],
      "metadata": {
        "id": "npWU782GNQ8T"
      },
      "execution_count": 101,
      "outputs": []
    },
    {
      "cell_type": "code",
      "source": [
        "#eb.rename(columns={'id': 'ID'}, inplace=True)\n",
        "eb.rename(columns={'text': 'Text'}, inplace=True)\n",
        "eb.rename(columns={'emotion': 'Emotion'}, inplace=True)"
      ],
      "metadata": {
        "id": "zSFZCRUo2g9n"
      },
      "execution_count": 103,
      "outputs": []
    },
    {
      "cell_type": "markdown",
      "source": [
        "Now lets look at what we have done:"
      ],
      "metadata": {
        "id": "IImyggLYH3b1"
      }
    },
    {
      "cell_type": "code",
      "source": [
        "# Print the updated dataframe\n",
        "eb.sample(5)"
      ],
      "metadata": {
        "colab": {
          "base_uri": "https://localhost:8080/",
          "height": 206
        },
        "id": "GJ5LQ2RmNkGB",
        "outputId": "76c50b11-2394-49ce-cc20-9c7f889f3618"
      },
      "execution_count": 104,
      "outputs": [
        {
          "output_type": "execute_result",
          "data": {
            "text/plain": [
              "      split                                               Text   Emotion\n",
              "2966    dev  But manufacturing technology products is a cos...   Neutral\n",
              "3618  train  Nepthys didn’t need to warn me not to speak to...  Negative\n",
              "3719    dev  Madame Entera took me back up to the stone’s r...  Positive\n",
              "4265  train  We have a lot of work ahead of us, and it’s be...   Neutral\n",
              "3728  train                              “Vodka, straight up,”  Positive"
            ],
            "text/html": [
              "\n",
              "  <div id=\"df-ca5c5534-fca9-4962-ab96-65ffda3bcdf0\">\n",
              "    <div class=\"colab-df-container\">\n",
              "      <div>\n",
              "<style scoped>\n",
              "    .dataframe tbody tr th:only-of-type {\n",
              "        vertical-align: middle;\n",
              "    }\n",
              "\n",
              "    .dataframe tbody tr th {\n",
              "        vertical-align: top;\n",
              "    }\n",
              "\n",
              "    .dataframe thead th {\n",
              "        text-align: right;\n",
              "    }\n",
              "</style>\n",
              "<table border=\"1\" class=\"dataframe\">\n",
              "  <thead>\n",
              "    <tr style=\"text-align: right;\">\n",
              "      <th></th>\n",
              "      <th>split</th>\n",
              "      <th>Text</th>\n",
              "      <th>Emotion</th>\n",
              "    </tr>\n",
              "  </thead>\n",
              "  <tbody>\n",
              "    <tr>\n",
              "      <th>2966</th>\n",
              "      <td>dev</td>\n",
              "      <td>But manufacturing technology products is a cos...</td>\n",
              "      <td>Neutral</td>\n",
              "    </tr>\n",
              "    <tr>\n",
              "      <th>3618</th>\n",
              "      <td>train</td>\n",
              "      <td>Nepthys didn’t need to warn me not to speak to...</td>\n",
              "      <td>Negative</td>\n",
              "    </tr>\n",
              "    <tr>\n",
              "      <th>3719</th>\n",
              "      <td>dev</td>\n",
              "      <td>Madame Entera took me back up to the stone’s r...</td>\n",
              "      <td>Positive</td>\n",
              "    </tr>\n",
              "    <tr>\n",
              "      <th>4265</th>\n",
              "      <td>train</td>\n",
              "      <td>We have a lot of work ahead of us, and it’s be...</td>\n",
              "      <td>Neutral</td>\n",
              "    </tr>\n",
              "    <tr>\n",
              "      <th>3728</th>\n",
              "      <td>train</td>\n",
              "      <td>“Vodka, straight up,”</td>\n",
              "      <td>Positive</td>\n",
              "    </tr>\n",
              "  </tbody>\n",
              "</table>\n",
              "</div>\n",
              "      <button class=\"colab-df-convert\" onclick=\"convertToInteractive('df-ca5c5534-fca9-4962-ab96-65ffda3bcdf0')\"\n",
              "              title=\"Convert this dataframe to an interactive table.\"\n",
              "              style=\"display:none;\">\n",
              "        \n",
              "  <svg xmlns=\"http://www.w3.org/2000/svg\" height=\"24px\"viewBox=\"0 0 24 24\"\n",
              "       width=\"24px\">\n",
              "    <path d=\"M0 0h24v24H0V0z\" fill=\"none\"/>\n",
              "    <path d=\"M18.56 5.44l.94 2.06.94-2.06 2.06-.94-2.06-.94-.94-2.06-.94 2.06-2.06.94zm-11 1L8.5 8.5l.94-2.06 2.06-.94-2.06-.94L8.5 2.5l-.94 2.06-2.06.94zm10 10l.94 2.06.94-2.06 2.06-.94-2.06-.94-.94-2.06-.94 2.06-2.06.94z\"/><path d=\"M17.41 7.96l-1.37-1.37c-.4-.4-.92-.59-1.43-.59-.52 0-1.04.2-1.43.59L10.3 9.45l-7.72 7.72c-.78.78-.78 2.05 0 2.83L4 21.41c.39.39.9.59 1.41.59.51 0 1.02-.2 1.41-.59l7.78-7.78 2.81-2.81c.8-.78.8-2.07 0-2.86zM5.41 20L4 18.59l7.72-7.72 1.47 1.35L5.41 20z\"/>\n",
              "  </svg>\n",
              "      </button>\n",
              "      \n",
              "  <style>\n",
              "    .colab-df-container {\n",
              "      display:flex;\n",
              "      flex-wrap:wrap;\n",
              "      gap: 12px;\n",
              "    }\n",
              "\n",
              "    .colab-df-convert {\n",
              "      background-color: #E8F0FE;\n",
              "      border: none;\n",
              "      border-radius: 50%;\n",
              "      cursor: pointer;\n",
              "      display: none;\n",
              "      fill: #1967D2;\n",
              "      height: 32px;\n",
              "      padding: 0 0 0 0;\n",
              "      width: 32px;\n",
              "    }\n",
              "\n",
              "    .colab-df-convert:hover {\n",
              "      background-color: #E2EBFA;\n",
              "      box-shadow: 0px 1px 2px rgba(60, 64, 67, 0.3), 0px 1px 3px 1px rgba(60, 64, 67, 0.15);\n",
              "      fill: #174EA6;\n",
              "    }\n",
              "\n",
              "    [theme=dark] .colab-df-convert {\n",
              "      background-color: #3B4455;\n",
              "      fill: #D2E3FC;\n",
              "    }\n",
              "\n",
              "    [theme=dark] .colab-df-convert:hover {\n",
              "      background-color: #434B5C;\n",
              "      box-shadow: 0px 1px 3px 1px rgba(0, 0, 0, 0.15);\n",
              "      filter: drop-shadow(0px 1px 2px rgba(0, 0, 0, 0.3));\n",
              "      fill: #FFFFFF;\n",
              "    }\n",
              "  </style>\n",
              "\n",
              "      <script>\n",
              "        const buttonEl =\n",
              "          document.querySelector('#df-ca5c5534-fca9-4962-ab96-65ffda3bcdf0 button.colab-df-convert');\n",
              "        buttonEl.style.display =\n",
              "          google.colab.kernel.accessAllowed ? 'block' : 'none';\n",
              "\n",
              "        async function convertToInteractive(key) {\n",
              "          const element = document.querySelector('#df-ca5c5534-fca9-4962-ab96-65ffda3bcdf0');\n",
              "          const dataTable =\n",
              "            await google.colab.kernel.invokeFunction('convertToInteractive',\n",
              "                                                     [key], {});\n",
              "          if (!dataTable) return;\n",
              "\n",
              "          const docLinkHtml = 'Like what you see? Visit the ' +\n",
              "            '<a target=\"_blank\" href=https://colab.research.google.com/notebooks/data_table.ipynb>data table notebook</a>'\n",
              "            + ' to learn more about interactive tables.';\n",
              "          element.innerHTML = '';\n",
              "          dataTable['output_type'] = 'display_data';\n",
              "          await google.colab.output.renderOutput(dataTable, element);\n",
              "          const docLink = document.createElement('div');\n",
              "          docLink.innerHTML = docLinkHtml;\n",
              "          element.appendChild(docLink);\n",
              "        }\n",
              "      </script>\n",
              "    </div>\n",
              "  </div>\n",
              "  "
            ]
          },
          "metadata": {},
          "execution_count": 104
        }
      ]
    },
    {
      "cell_type": "markdown",
      "source": [
        "Everything looks good!\n",
        "\n",
        "Now it's time to devide it into train and tesst datasets."
      ],
      "metadata": {
        "id": "Y2ZaAqPLH72X"
      }
    },
    {
      "cell_type": "code",
      "source": [
        "# Separate the dataframe into test and train dataframes\n",
        "eb_train_df = eb[eb['split'] == 'train']\n",
        "eb_test_df = eb[eb['split'] == 'test']"
      ],
      "metadata": {
        "id": "Qo8vVCSaOD5S"
      },
      "execution_count": 105,
      "outputs": []
    },
    {
      "cell_type": "code",
      "source": [
        "eb_train_df = eb_train_df.drop('split', axis=1)"
      ],
      "metadata": {
        "id": "BBwVUGESPIzv"
      },
      "execution_count": 106,
      "outputs": []
    },
    {
      "cell_type": "code",
      "source": [
        "# Print the train dataframe\n",
        "print(\"Train dataframe:\")\n",
        "eb_train_df.head()"
      ],
      "metadata": {
        "colab": {
          "base_uri": "https://localhost:8080/",
          "height": 224
        },
        "id": "aj5t966qOgP0",
        "outputId": "b00ee01d-429c-440b-ad42-d0f6d1325f4e"
      },
      "execution_count": 107,
      "outputs": [
        {
          "output_type": "stream",
          "name": "stdout",
          "text": [
            "Train dataframe:\n"
          ]
        },
        {
          "output_type": "execute_result",
          "data": {
            "text/plain": [
              "                                                Text   Emotion\n",
              "0        Remember what she said in my last letter? \"   Neutral\n",
              "2                                                ..\"   Neutral\n",
              "3  Goodwill helps people get off of public assist...   Neutral\n",
              "4  Sherry learned through our Future Works class ...  Positive\n",
              "5  Coming to Goodwill was the first step toward m...  Positive"
            ],
            "text/html": [
              "\n",
              "  <div id=\"df-5cebba11-79b2-40d7-9748-0043a3519264\">\n",
              "    <div class=\"colab-df-container\">\n",
              "      <div>\n",
              "<style scoped>\n",
              "    .dataframe tbody tr th:only-of-type {\n",
              "        vertical-align: middle;\n",
              "    }\n",
              "\n",
              "    .dataframe tbody tr th {\n",
              "        vertical-align: top;\n",
              "    }\n",
              "\n",
              "    .dataframe thead th {\n",
              "        text-align: right;\n",
              "    }\n",
              "</style>\n",
              "<table border=\"1\" class=\"dataframe\">\n",
              "  <thead>\n",
              "    <tr style=\"text-align: right;\">\n",
              "      <th></th>\n",
              "      <th>Text</th>\n",
              "      <th>Emotion</th>\n",
              "    </tr>\n",
              "  </thead>\n",
              "  <tbody>\n",
              "    <tr>\n",
              "      <th>0</th>\n",
              "      <td>Remember what she said in my last letter? \"</td>\n",
              "      <td>Neutral</td>\n",
              "    </tr>\n",
              "    <tr>\n",
              "      <th>2</th>\n",
              "      <td>..\"</td>\n",
              "      <td>Neutral</td>\n",
              "    </tr>\n",
              "    <tr>\n",
              "      <th>3</th>\n",
              "      <td>Goodwill helps people get off of public assist...</td>\n",
              "      <td>Neutral</td>\n",
              "    </tr>\n",
              "    <tr>\n",
              "      <th>4</th>\n",
              "      <td>Sherry learned through our Future Works class ...</td>\n",
              "      <td>Positive</td>\n",
              "    </tr>\n",
              "    <tr>\n",
              "      <th>5</th>\n",
              "      <td>Coming to Goodwill was the first step toward m...</td>\n",
              "      <td>Positive</td>\n",
              "    </tr>\n",
              "  </tbody>\n",
              "</table>\n",
              "</div>\n",
              "      <button class=\"colab-df-convert\" onclick=\"convertToInteractive('df-5cebba11-79b2-40d7-9748-0043a3519264')\"\n",
              "              title=\"Convert this dataframe to an interactive table.\"\n",
              "              style=\"display:none;\">\n",
              "        \n",
              "  <svg xmlns=\"http://www.w3.org/2000/svg\" height=\"24px\"viewBox=\"0 0 24 24\"\n",
              "       width=\"24px\">\n",
              "    <path d=\"M0 0h24v24H0V0z\" fill=\"none\"/>\n",
              "    <path d=\"M18.56 5.44l.94 2.06.94-2.06 2.06-.94-2.06-.94-.94-2.06-.94 2.06-2.06.94zm-11 1L8.5 8.5l.94-2.06 2.06-.94-2.06-.94L8.5 2.5l-.94 2.06-2.06.94zm10 10l.94 2.06.94-2.06 2.06-.94-2.06-.94-.94-2.06-.94 2.06-2.06.94z\"/><path d=\"M17.41 7.96l-1.37-1.37c-.4-.4-.92-.59-1.43-.59-.52 0-1.04.2-1.43.59L10.3 9.45l-7.72 7.72c-.78.78-.78 2.05 0 2.83L4 21.41c.39.39.9.59 1.41.59.51 0 1.02-.2 1.41-.59l7.78-7.78 2.81-2.81c.8-.78.8-2.07 0-2.86zM5.41 20L4 18.59l7.72-7.72 1.47 1.35L5.41 20z\"/>\n",
              "  </svg>\n",
              "      </button>\n",
              "      \n",
              "  <style>\n",
              "    .colab-df-container {\n",
              "      display:flex;\n",
              "      flex-wrap:wrap;\n",
              "      gap: 12px;\n",
              "    }\n",
              "\n",
              "    .colab-df-convert {\n",
              "      background-color: #E8F0FE;\n",
              "      border: none;\n",
              "      border-radius: 50%;\n",
              "      cursor: pointer;\n",
              "      display: none;\n",
              "      fill: #1967D2;\n",
              "      height: 32px;\n",
              "      padding: 0 0 0 0;\n",
              "      width: 32px;\n",
              "    }\n",
              "\n",
              "    .colab-df-convert:hover {\n",
              "      background-color: #E2EBFA;\n",
              "      box-shadow: 0px 1px 2px rgba(60, 64, 67, 0.3), 0px 1px 3px 1px rgba(60, 64, 67, 0.15);\n",
              "      fill: #174EA6;\n",
              "    }\n",
              "\n",
              "    [theme=dark] .colab-df-convert {\n",
              "      background-color: #3B4455;\n",
              "      fill: #D2E3FC;\n",
              "    }\n",
              "\n",
              "    [theme=dark] .colab-df-convert:hover {\n",
              "      background-color: #434B5C;\n",
              "      box-shadow: 0px 1px 3px 1px rgba(0, 0, 0, 0.15);\n",
              "      filter: drop-shadow(0px 1px 2px rgba(0, 0, 0, 0.3));\n",
              "      fill: #FFFFFF;\n",
              "    }\n",
              "  </style>\n",
              "\n",
              "      <script>\n",
              "        const buttonEl =\n",
              "          document.querySelector('#df-5cebba11-79b2-40d7-9748-0043a3519264 button.colab-df-convert');\n",
              "        buttonEl.style.display =\n",
              "          google.colab.kernel.accessAllowed ? 'block' : 'none';\n",
              "\n",
              "        async function convertToInteractive(key) {\n",
              "          const element = document.querySelector('#df-5cebba11-79b2-40d7-9748-0043a3519264');\n",
              "          const dataTable =\n",
              "            await google.colab.kernel.invokeFunction('convertToInteractive',\n",
              "                                                     [key], {});\n",
              "          if (!dataTable) return;\n",
              "\n",
              "          const docLinkHtml = 'Like what you see? Visit the ' +\n",
              "            '<a target=\"_blank\" href=https://colab.research.google.com/notebooks/data_table.ipynb>data table notebook</a>'\n",
              "            + ' to learn more about interactive tables.';\n",
              "          element.innerHTML = '';\n",
              "          dataTable['output_type'] = 'display_data';\n",
              "          await google.colab.output.renderOutput(dataTable, element);\n",
              "          const docLink = document.createElement('div');\n",
              "          docLink.innerHTML = docLinkHtml;\n",
              "          element.appendChild(docLink);\n",
              "        }\n",
              "      </script>\n",
              "    </div>\n",
              "  </div>\n",
              "  "
            ]
          },
          "metadata": {},
          "execution_count": 107
        }
      ]
    },
    {
      "cell_type": "code",
      "source": [
        "eb_test_df = eb_test_df.drop('split', axis=1)"
      ],
      "metadata": {
        "id": "rxbpHiDoQODq"
      },
      "execution_count": 108,
      "outputs": []
    },
    {
      "cell_type": "code",
      "source": [
        "# Print the test dataframe\n",
        "print(\"Test dataframe:\")\n",
        "eb_test_df.head()"
      ],
      "metadata": {
        "colab": {
          "base_uri": "https://localhost:8080/",
          "height": 224
        },
        "id": "aGojxRgMOrqh",
        "outputId": "502c4de9-1e1c-435c-b543-8eb015b35175"
      },
      "execution_count": 109,
      "outputs": [
        {
          "output_type": "stream",
          "name": "stdout",
          "text": [
            "Test dataframe:\n"
          ]
        },
        {
          "output_type": "execute_result",
          "data": {
            "text/plain": [
              "                                                 Text   Emotion\n",
              "1                           If I wasn't working here.   Neutral\n",
              "12      I've got more than a job; I've got a career.\"  Positive\n",
              "51                           He has no time to waste.  Negative\n",
              "58  With the help of friends like you, Goodwill ha...  Positive\n",
              "60                                      Real results.   Neutral"
            ],
            "text/html": [
              "\n",
              "  <div id=\"df-5e57e934-f710-4103-958a-933dc824a075\">\n",
              "    <div class=\"colab-df-container\">\n",
              "      <div>\n",
              "<style scoped>\n",
              "    .dataframe tbody tr th:only-of-type {\n",
              "        vertical-align: middle;\n",
              "    }\n",
              "\n",
              "    .dataframe tbody tr th {\n",
              "        vertical-align: top;\n",
              "    }\n",
              "\n",
              "    .dataframe thead th {\n",
              "        text-align: right;\n",
              "    }\n",
              "</style>\n",
              "<table border=\"1\" class=\"dataframe\">\n",
              "  <thead>\n",
              "    <tr style=\"text-align: right;\">\n",
              "      <th></th>\n",
              "      <th>Text</th>\n",
              "      <th>Emotion</th>\n",
              "    </tr>\n",
              "  </thead>\n",
              "  <tbody>\n",
              "    <tr>\n",
              "      <th>1</th>\n",
              "      <td>If I wasn't working here.</td>\n",
              "      <td>Neutral</td>\n",
              "    </tr>\n",
              "    <tr>\n",
              "      <th>12</th>\n",
              "      <td>I've got more than a job; I've got a career.\"</td>\n",
              "      <td>Positive</td>\n",
              "    </tr>\n",
              "    <tr>\n",
              "      <th>51</th>\n",
              "      <td>He has no time to waste.</td>\n",
              "      <td>Negative</td>\n",
              "    </tr>\n",
              "    <tr>\n",
              "      <th>58</th>\n",
              "      <td>With the help of friends like you, Goodwill ha...</td>\n",
              "      <td>Positive</td>\n",
              "    </tr>\n",
              "    <tr>\n",
              "      <th>60</th>\n",
              "      <td>Real results.</td>\n",
              "      <td>Neutral</td>\n",
              "    </tr>\n",
              "  </tbody>\n",
              "</table>\n",
              "</div>\n",
              "      <button class=\"colab-df-convert\" onclick=\"convertToInteractive('df-5e57e934-f710-4103-958a-933dc824a075')\"\n",
              "              title=\"Convert this dataframe to an interactive table.\"\n",
              "              style=\"display:none;\">\n",
              "        \n",
              "  <svg xmlns=\"http://www.w3.org/2000/svg\" height=\"24px\"viewBox=\"0 0 24 24\"\n",
              "       width=\"24px\">\n",
              "    <path d=\"M0 0h24v24H0V0z\" fill=\"none\"/>\n",
              "    <path d=\"M18.56 5.44l.94 2.06.94-2.06 2.06-.94-2.06-.94-.94-2.06-.94 2.06-2.06.94zm-11 1L8.5 8.5l.94-2.06 2.06-.94-2.06-.94L8.5 2.5l-.94 2.06-2.06.94zm10 10l.94 2.06.94-2.06 2.06-.94-2.06-.94-.94-2.06-.94 2.06-2.06.94z\"/><path d=\"M17.41 7.96l-1.37-1.37c-.4-.4-.92-.59-1.43-.59-.52 0-1.04.2-1.43.59L10.3 9.45l-7.72 7.72c-.78.78-.78 2.05 0 2.83L4 21.41c.39.39.9.59 1.41.59.51 0 1.02-.2 1.41-.59l7.78-7.78 2.81-2.81c.8-.78.8-2.07 0-2.86zM5.41 20L4 18.59l7.72-7.72 1.47 1.35L5.41 20z\"/>\n",
              "  </svg>\n",
              "      </button>\n",
              "      \n",
              "  <style>\n",
              "    .colab-df-container {\n",
              "      display:flex;\n",
              "      flex-wrap:wrap;\n",
              "      gap: 12px;\n",
              "    }\n",
              "\n",
              "    .colab-df-convert {\n",
              "      background-color: #E8F0FE;\n",
              "      border: none;\n",
              "      border-radius: 50%;\n",
              "      cursor: pointer;\n",
              "      display: none;\n",
              "      fill: #1967D2;\n",
              "      height: 32px;\n",
              "      padding: 0 0 0 0;\n",
              "      width: 32px;\n",
              "    }\n",
              "\n",
              "    .colab-df-convert:hover {\n",
              "      background-color: #E2EBFA;\n",
              "      box-shadow: 0px 1px 2px rgba(60, 64, 67, 0.3), 0px 1px 3px 1px rgba(60, 64, 67, 0.15);\n",
              "      fill: #174EA6;\n",
              "    }\n",
              "\n",
              "    [theme=dark] .colab-df-convert {\n",
              "      background-color: #3B4455;\n",
              "      fill: #D2E3FC;\n",
              "    }\n",
              "\n",
              "    [theme=dark] .colab-df-convert:hover {\n",
              "      background-color: #434B5C;\n",
              "      box-shadow: 0px 1px 3px 1px rgba(0, 0, 0, 0.15);\n",
              "      filter: drop-shadow(0px 1px 2px rgba(0, 0, 0, 0.3));\n",
              "      fill: #FFFFFF;\n",
              "    }\n",
              "  </style>\n",
              "\n",
              "      <script>\n",
              "        const buttonEl =\n",
              "          document.querySelector('#df-5e57e934-f710-4103-958a-933dc824a075 button.colab-df-convert');\n",
              "        buttonEl.style.display =\n",
              "          google.colab.kernel.accessAllowed ? 'block' : 'none';\n",
              "\n",
              "        async function convertToInteractive(key) {\n",
              "          const element = document.querySelector('#df-5e57e934-f710-4103-958a-933dc824a075');\n",
              "          const dataTable =\n",
              "            await google.colab.kernel.invokeFunction('convertToInteractive',\n",
              "                                                     [key], {});\n",
              "          if (!dataTable) return;\n",
              "\n",
              "          const docLinkHtml = 'Like what you see? Visit the ' +\n",
              "            '<a target=\"_blank\" href=https://colab.research.google.com/notebooks/data_table.ipynb>data table notebook</a>'\n",
              "            + ' to learn more about interactive tables.';\n",
              "          element.innerHTML = '';\n",
              "          dataTable['output_type'] = 'display_data';\n",
              "          await google.colab.output.renderOutput(dataTable, element);\n",
              "          const docLink = document.createElement('div');\n",
              "          docLink.innerHTML = docLinkHtml;\n",
              "          element.appendChild(docLink);\n",
              "        }\n",
              "      </script>\n",
              "    </div>\n",
              "  </div>\n",
              "  "
            ]
          },
          "metadata": {},
          "execution_count": 109
        }
      ]
    },
    {
      "cell_type": "markdown",
      "source": [
        "*  Second dataset\n",
        "\n",
        "To preprocess and clean the tweet_emotions dataset:\n",
        "\n",
        "We want to know what types of emotion have been used in the dataset. So we can label them as we did with the previous dataset. We will use the `unique` function for this matter."
      ],
      "metadata": {
        "id": "hn-YyK-LRTaU"
      }
    },
    {
      "cell_type": "code",
      "source": [
        "unique_emotions = et['sentiment'].unique()\n",
        "\n",
        "# Print the unique emotions\n",
        "print(unique_emotions)"
      ],
      "metadata": {
        "colab": {
          "base_uri": "https://localhost:8080/"
        },
        "id": "b6dJ3U6vyIFd",
        "outputId": "2b5ec7ef-5917-4027-be41-10662e0329ec"
      },
      "execution_count": 110,
      "outputs": [
        {
          "output_type": "stream",
          "name": "stdout",
          "text": [
            "['empty' 'sadness' 'enthusiasm' 'neutral' 'worry' 'surprise' 'love' 'fun'\n",
            " 'hate' 'happiness' 'boredom' 'relief' 'anger']\n"
          ]
        }
      ]
    },
    {
      "cell_type": "code",
      "source": [
        "# Drop the id column\n",
        "et = et.drop(['tweet_id'], axis=1)"
      ],
      "metadata": {
        "id": "dfKRT4EBJYaG"
      },
      "execution_count": 111,
      "outputs": []
    },
    {
      "cell_type": "code",
      "source": [
        "# Define a function to label emotions\n",
        "def label_emotions(sentiment):\n",
        "    if sentiment in ['sadness', 'worry', 'hate', 'boredom', 'anger']:\n",
        "        return 'Negative'\n",
        "    elif sentiment in ['enthusiasm', 'love', 'fun', 'happiness']:\n",
        "        return 'Positive'\n",
        "    else:\n",
        "        return 'Neutral'\n",
        "\n",
        "# Rename the \"sentiment\" column to \"emotion\"\n",
        "et.rename(columns={'sentiment': 'emotion'}, inplace=True)\n",
        "\n",
        "# Apply the function to create a new column\n",
        "et['Emotion_Label'] = et['emotion'].apply(label_emotions)"
      ],
      "metadata": {
        "id": "-vlgD0T8zB06"
      },
      "execution_count": 112,
      "outputs": []
    },
    {
      "cell_type": "code",
      "source": [
        "#et.rename(columns={'tweet_id': 'ID'}, inplace=True)\n",
        "et.rename(columns={'emotion': 'Emotion'}, inplace=True)\n",
        "et.rename(columns={'content': 'Text'}, inplace=True)"
      ],
      "metadata": {
        "id": "VLL4CHRJ1gsO"
      },
      "execution_count": 113,
      "outputs": []
    },
    {
      "cell_type": "markdown",
      "source": [
        "And now we want to see the results."
      ],
      "metadata": {
        "id": "xjtaNr5TIX1Q"
      }
    },
    {
      "cell_type": "code",
      "source": [
        "et.head()"
      ],
      "metadata": {
        "colab": {
          "base_uri": "https://localhost:8080/",
          "height": 206
        },
        "id": "0rSZy55izMU1",
        "outputId": "f227fe57-77cd-4efb-b9d5-b3d12c246ea3"
      },
      "execution_count": 114,
      "outputs": [
        {
          "output_type": "execute_result",
          "data": {
            "text/plain": [
              "      Emotion                                               Text Emotion_Label\n",
              "0       empty  @tiffanylue i know  i was listenin to bad habi...       Neutral\n",
              "1     sadness  Layin n bed with a headache  ughhhh...waitin o...      Negative\n",
              "2     sadness                Funeral ceremony...gloomy friday...      Negative\n",
              "3  enthusiasm               wants to hang out with friends SOON!      Positive\n",
              "4     neutral  @dannycastillo We want to trade with someone w...       Neutral"
            ],
            "text/html": [
              "\n",
              "  <div id=\"df-506202c4-36fd-41f9-a043-a22958adf4c5\">\n",
              "    <div class=\"colab-df-container\">\n",
              "      <div>\n",
              "<style scoped>\n",
              "    .dataframe tbody tr th:only-of-type {\n",
              "        vertical-align: middle;\n",
              "    }\n",
              "\n",
              "    .dataframe tbody tr th {\n",
              "        vertical-align: top;\n",
              "    }\n",
              "\n",
              "    .dataframe thead th {\n",
              "        text-align: right;\n",
              "    }\n",
              "</style>\n",
              "<table border=\"1\" class=\"dataframe\">\n",
              "  <thead>\n",
              "    <tr style=\"text-align: right;\">\n",
              "      <th></th>\n",
              "      <th>Emotion</th>\n",
              "      <th>Text</th>\n",
              "      <th>Emotion_Label</th>\n",
              "    </tr>\n",
              "  </thead>\n",
              "  <tbody>\n",
              "    <tr>\n",
              "      <th>0</th>\n",
              "      <td>empty</td>\n",
              "      <td>@tiffanylue i know  i was listenin to bad habi...</td>\n",
              "      <td>Neutral</td>\n",
              "    </tr>\n",
              "    <tr>\n",
              "      <th>1</th>\n",
              "      <td>sadness</td>\n",
              "      <td>Layin n bed with a headache  ughhhh...waitin o...</td>\n",
              "      <td>Negative</td>\n",
              "    </tr>\n",
              "    <tr>\n",
              "      <th>2</th>\n",
              "      <td>sadness</td>\n",
              "      <td>Funeral ceremony...gloomy friday...</td>\n",
              "      <td>Negative</td>\n",
              "    </tr>\n",
              "    <tr>\n",
              "      <th>3</th>\n",
              "      <td>enthusiasm</td>\n",
              "      <td>wants to hang out with friends SOON!</td>\n",
              "      <td>Positive</td>\n",
              "    </tr>\n",
              "    <tr>\n",
              "      <th>4</th>\n",
              "      <td>neutral</td>\n",
              "      <td>@dannycastillo We want to trade with someone w...</td>\n",
              "      <td>Neutral</td>\n",
              "    </tr>\n",
              "  </tbody>\n",
              "</table>\n",
              "</div>\n",
              "      <button class=\"colab-df-convert\" onclick=\"convertToInteractive('df-506202c4-36fd-41f9-a043-a22958adf4c5')\"\n",
              "              title=\"Convert this dataframe to an interactive table.\"\n",
              "              style=\"display:none;\">\n",
              "        \n",
              "  <svg xmlns=\"http://www.w3.org/2000/svg\" height=\"24px\"viewBox=\"0 0 24 24\"\n",
              "       width=\"24px\">\n",
              "    <path d=\"M0 0h24v24H0V0z\" fill=\"none\"/>\n",
              "    <path d=\"M18.56 5.44l.94 2.06.94-2.06 2.06-.94-2.06-.94-.94-2.06-.94 2.06-2.06.94zm-11 1L8.5 8.5l.94-2.06 2.06-.94-2.06-.94L8.5 2.5l-.94 2.06-2.06.94zm10 10l.94 2.06.94-2.06 2.06-.94-2.06-.94-.94-2.06-.94 2.06-2.06.94z\"/><path d=\"M17.41 7.96l-1.37-1.37c-.4-.4-.92-.59-1.43-.59-.52 0-1.04.2-1.43.59L10.3 9.45l-7.72 7.72c-.78.78-.78 2.05 0 2.83L4 21.41c.39.39.9.59 1.41.59.51 0 1.02-.2 1.41-.59l7.78-7.78 2.81-2.81c.8-.78.8-2.07 0-2.86zM5.41 20L4 18.59l7.72-7.72 1.47 1.35L5.41 20z\"/>\n",
              "  </svg>\n",
              "      </button>\n",
              "      \n",
              "  <style>\n",
              "    .colab-df-container {\n",
              "      display:flex;\n",
              "      flex-wrap:wrap;\n",
              "      gap: 12px;\n",
              "    }\n",
              "\n",
              "    .colab-df-convert {\n",
              "      background-color: #E8F0FE;\n",
              "      border: none;\n",
              "      border-radius: 50%;\n",
              "      cursor: pointer;\n",
              "      display: none;\n",
              "      fill: #1967D2;\n",
              "      height: 32px;\n",
              "      padding: 0 0 0 0;\n",
              "      width: 32px;\n",
              "    }\n",
              "\n",
              "    .colab-df-convert:hover {\n",
              "      background-color: #E2EBFA;\n",
              "      box-shadow: 0px 1px 2px rgba(60, 64, 67, 0.3), 0px 1px 3px 1px rgba(60, 64, 67, 0.15);\n",
              "      fill: #174EA6;\n",
              "    }\n",
              "\n",
              "    [theme=dark] .colab-df-convert {\n",
              "      background-color: #3B4455;\n",
              "      fill: #D2E3FC;\n",
              "    }\n",
              "\n",
              "    [theme=dark] .colab-df-convert:hover {\n",
              "      background-color: #434B5C;\n",
              "      box-shadow: 0px 1px 3px 1px rgba(0, 0, 0, 0.15);\n",
              "      filter: drop-shadow(0px 1px 2px rgba(0, 0, 0, 0.3));\n",
              "      fill: #FFFFFF;\n",
              "    }\n",
              "  </style>\n",
              "\n",
              "      <script>\n",
              "        const buttonEl =\n",
              "          document.querySelector('#df-506202c4-36fd-41f9-a043-a22958adf4c5 button.colab-df-convert');\n",
              "        buttonEl.style.display =\n",
              "          google.colab.kernel.accessAllowed ? 'block' : 'none';\n",
              "\n",
              "        async function convertToInteractive(key) {\n",
              "          const element = document.querySelector('#df-506202c4-36fd-41f9-a043-a22958adf4c5');\n",
              "          const dataTable =\n",
              "            await google.colab.kernel.invokeFunction('convertToInteractive',\n",
              "                                                     [key], {});\n",
              "          if (!dataTable) return;\n",
              "\n",
              "          const docLinkHtml = 'Like what you see? Visit the ' +\n",
              "            '<a target=\"_blank\" href=https://colab.research.google.com/notebooks/data_table.ipynb>data table notebook</a>'\n",
              "            + ' to learn more about interactive tables.';\n",
              "          element.innerHTML = '';\n",
              "          dataTable['output_type'] = 'display_data';\n",
              "          await google.colab.output.renderOutput(dataTable, element);\n",
              "          const docLink = document.createElement('div');\n",
              "          docLink.innerHTML = docLinkHtml;\n",
              "          element.appendChild(docLink);\n",
              "        }\n",
              "      </script>\n",
              "    </div>\n",
              "  </div>\n",
              "  "
            ]
          },
          "metadata": {},
          "execution_count": 114
        }
      ]
    },
    {
      "cell_type": "markdown",
      "source": [
        "To split your dataframe into train and test sets, you can use the train_test_split function from the scikit-learn library. Here's an example of how you can do it:"
      ],
      "metadata": {
        "id": "IObgl-x04j-N"
      }
    },
    {
      "cell_type": "code",
      "source": [
        "from sklearn.model_selection import train_test_split"
      ],
      "metadata": {
        "id": "zREFExRs4qpW"
      },
      "execution_count": 115,
      "outputs": []
    },
    {
      "cell_type": "code",
      "source": [
        "# Split the dataframe into train and test\n",
        "et_train_df, et_test_df = train_test_split(et, test_size=0.2, random_state=42)"
      ],
      "metadata": {
        "id": "ewuWn23W4tDV"
      },
      "execution_count": 116,
      "outputs": []
    },
    {
      "cell_type": "code",
      "source": [
        "# Print the train dataframe\n",
        "print(\"Train dataframe:\")\n",
        "et_train_df.head()"
      ],
      "metadata": {
        "colab": {
          "base_uri": "https://localhost:8080/",
          "height": 224
        },
        "id": "iCpX4sKx4_Hd",
        "outputId": "e68c6ccb-d820-4898-b3ea-c20178537b3e"
      },
      "execution_count": 117,
      "outputs": [
        {
          "output_type": "stream",
          "name": "stdout",
          "text": [
            "Train dataframe:\n"
          ]
        },
        {
          "output_type": "execute_result",
          "data": {
            "text/plain": [
              "        Emotion                                               Text  \\\n",
              "14307   neutral          Thundershowers plus baseball equals awwww   \n",
              "17812       fun  The Hangover: That movie is gonna be hilarious...   \n",
              "11020     worry  Playing some games before I leave for work   W...   \n",
              "15158      hate  About to be stick at work till freakin 2 am.  ...   \n",
              "24990  surprise  @Sarah_x_ATL u mean jack barakat's?! wow so ha...   \n",
              "\n",
              "      Emotion_Label  \n",
              "14307       Neutral  \n",
              "17812      Positive  \n",
              "11020      Negative  \n",
              "15158      Negative  \n",
              "24990       Neutral  "
            ],
            "text/html": [
              "\n",
              "  <div id=\"df-ec81fdd4-9aa9-427e-87e1-a2c6440cd30b\">\n",
              "    <div class=\"colab-df-container\">\n",
              "      <div>\n",
              "<style scoped>\n",
              "    .dataframe tbody tr th:only-of-type {\n",
              "        vertical-align: middle;\n",
              "    }\n",
              "\n",
              "    .dataframe tbody tr th {\n",
              "        vertical-align: top;\n",
              "    }\n",
              "\n",
              "    .dataframe thead th {\n",
              "        text-align: right;\n",
              "    }\n",
              "</style>\n",
              "<table border=\"1\" class=\"dataframe\">\n",
              "  <thead>\n",
              "    <tr style=\"text-align: right;\">\n",
              "      <th></th>\n",
              "      <th>Emotion</th>\n",
              "      <th>Text</th>\n",
              "      <th>Emotion_Label</th>\n",
              "    </tr>\n",
              "  </thead>\n",
              "  <tbody>\n",
              "    <tr>\n",
              "      <th>14307</th>\n",
              "      <td>neutral</td>\n",
              "      <td>Thundershowers plus baseball equals awwww</td>\n",
              "      <td>Neutral</td>\n",
              "    </tr>\n",
              "    <tr>\n",
              "      <th>17812</th>\n",
              "      <td>fun</td>\n",
              "      <td>The Hangover: That movie is gonna be hilarious...</td>\n",
              "      <td>Positive</td>\n",
              "    </tr>\n",
              "    <tr>\n",
              "      <th>11020</th>\n",
              "      <td>worry</td>\n",
              "      <td>Playing some games before I leave for work   W...</td>\n",
              "      <td>Negative</td>\n",
              "    </tr>\n",
              "    <tr>\n",
              "      <th>15158</th>\n",
              "      <td>hate</td>\n",
              "      <td>About to be stick at work till freakin 2 am.  ...</td>\n",
              "      <td>Negative</td>\n",
              "    </tr>\n",
              "    <tr>\n",
              "      <th>24990</th>\n",
              "      <td>surprise</td>\n",
              "      <td>@Sarah_x_ATL u mean jack barakat's?! wow so ha...</td>\n",
              "      <td>Neutral</td>\n",
              "    </tr>\n",
              "  </tbody>\n",
              "</table>\n",
              "</div>\n",
              "      <button class=\"colab-df-convert\" onclick=\"convertToInteractive('df-ec81fdd4-9aa9-427e-87e1-a2c6440cd30b')\"\n",
              "              title=\"Convert this dataframe to an interactive table.\"\n",
              "              style=\"display:none;\">\n",
              "        \n",
              "  <svg xmlns=\"http://www.w3.org/2000/svg\" height=\"24px\"viewBox=\"0 0 24 24\"\n",
              "       width=\"24px\">\n",
              "    <path d=\"M0 0h24v24H0V0z\" fill=\"none\"/>\n",
              "    <path d=\"M18.56 5.44l.94 2.06.94-2.06 2.06-.94-2.06-.94-.94-2.06-.94 2.06-2.06.94zm-11 1L8.5 8.5l.94-2.06 2.06-.94-2.06-.94L8.5 2.5l-.94 2.06-2.06.94zm10 10l.94 2.06.94-2.06 2.06-.94-2.06-.94-.94-2.06-.94 2.06-2.06.94z\"/><path d=\"M17.41 7.96l-1.37-1.37c-.4-.4-.92-.59-1.43-.59-.52 0-1.04.2-1.43.59L10.3 9.45l-7.72 7.72c-.78.78-.78 2.05 0 2.83L4 21.41c.39.39.9.59 1.41.59.51 0 1.02-.2 1.41-.59l7.78-7.78 2.81-2.81c.8-.78.8-2.07 0-2.86zM5.41 20L4 18.59l7.72-7.72 1.47 1.35L5.41 20z\"/>\n",
              "  </svg>\n",
              "      </button>\n",
              "      \n",
              "  <style>\n",
              "    .colab-df-container {\n",
              "      display:flex;\n",
              "      flex-wrap:wrap;\n",
              "      gap: 12px;\n",
              "    }\n",
              "\n",
              "    .colab-df-convert {\n",
              "      background-color: #E8F0FE;\n",
              "      border: none;\n",
              "      border-radius: 50%;\n",
              "      cursor: pointer;\n",
              "      display: none;\n",
              "      fill: #1967D2;\n",
              "      height: 32px;\n",
              "      padding: 0 0 0 0;\n",
              "      width: 32px;\n",
              "    }\n",
              "\n",
              "    .colab-df-convert:hover {\n",
              "      background-color: #E2EBFA;\n",
              "      box-shadow: 0px 1px 2px rgba(60, 64, 67, 0.3), 0px 1px 3px 1px rgba(60, 64, 67, 0.15);\n",
              "      fill: #174EA6;\n",
              "    }\n",
              "\n",
              "    [theme=dark] .colab-df-convert {\n",
              "      background-color: #3B4455;\n",
              "      fill: #D2E3FC;\n",
              "    }\n",
              "\n",
              "    [theme=dark] .colab-df-convert:hover {\n",
              "      background-color: #434B5C;\n",
              "      box-shadow: 0px 1px 3px 1px rgba(0, 0, 0, 0.15);\n",
              "      filter: drop-shadow(0px 1px 2px rgba(0, 0, 0, 0.3));\n",
              "      fill: #FFFFFF;\n",
              "    }\n",
              "  </style>\n",
              "\n",
              "      <script>\n",
              "        const buttonEl =\n",
              "          document.querySelector('#df-ec81fdd4-9aa9-427e-87e1-a2c6440cd30b button.colab-df-convert');\n",
              "        buttonEl.style.display =\n",
              "          google.colab.kernel.accessAllowed ? 'block' : 'none';\n",
              "\n",
              "        async function convertToInteractive(key) {\n",
              "          const element = document.querySelector('#df-ec81fdd4-9aa9-427e-87e1-a2c6440cd30b');\n",
              "          const dataTable =\n",
              "            await google.colab.kernel.invokeFunction('convertToInteractive',\n",
              "                                                     [key], {});\n",
              "          if (!dataTable) return;\n",
              "\n",
              "          const docLinkHtml = 'Like what you see? Visit the ' +\n",
              "            '<a target=\"_blank\" href=https://colab.research.google.com/notebooks/data_table.ipynb>data table notebook</a>'\n",
              "            + ' to learn more about interactive tables.';\n",
              "          element.innerHTML = '';\n",
              "          dataTable['output_type'] = 'display_data';\n",
              "          await google.colab.output.renderOutput(dataTable, element);\n",
              "          const docLink = document.createElement('div');\n",
              "          docLink.innerHTML = docLinkHtml;\n",
              "          element.appendChild(docLink);\n",
              "        }\n",
              "      </script>\n",
              "    </div>\n",
              "  </div>\n",
              "  "
            ]
          },
          "metadata": {},
          "execution_count": 117
        }
      ]
    },
    {
      "cell_type": "code",
      "source": [
        "# Print the test dataframe\n",
        "print(\"Test dataframe:\")\n",
        "et_test_df.head()"
      ],
      "metadata": {
        "colab": {
          "base_uri": "https://localhost:8080/",
          "height": 224
        },
        "id": "YFuIlJb75B9g",
        "outputId": "ea712d69-3cb2-4c77-bf5b-6ce1b968ce21"
      },
      "execution_count": 118,
      "outputs": [
        {
          "output_type": "stream",
          "name": "stdout",
          "text": [
            "Test dataframe:\n"
          ]
        },
        {
          "output_type": "execute_result",
          "data": {
            "text/plain": [
              "       Emotion                                               Text  \\\n",
              "32823  neutral                                       Good Morning   \n",
              "16298    empty  I just put my computer up on craigslist. I've ...   \n",
              "28505     love  in ten minutes shopping   demi lovato-back aro...   \n",
              "6689   neutral  From twitterberry moved to ubertwitter - suffe...   \n",
              "26893  sadness                                  @thriftymom TEAR*   \n",
              "\n",
              "      Emotion_Label  \n",
              "32823       Neutral  \n",
              "16298       Neutral  \n",
              "28505      Positive  \n",
              "6689        Neutral  \n",
              "26893      Negative  "
            ],
            "text/html": [
              "\n",
              "  <div id=\"df-77b92d0a-fa4d-476c-8203-99b148047db8\">\n",
              "    <div class=\"colab-df-container\">\n",
              "      <div>\n",
              "<style scoped>\n",
              "    .dataframe tbody tr th:only-of-type {\n",
              "        vertical-align: middle;\n",
              "    }\n",
              "\n",
              "    .dataframe tbody tr th {\n",
              "        vertical-align: top;\n",
              "    }\n",
              "\n",
              "    .dataframe thead th {\n",
              "        text-align: right;\n",
              "    }\n",
              "</style>\n",
              "<table border=\"1\" class=\"dataframe\">\n",
              "  <thead>\n",
              "    <tr style=\"text-align: right;\">\n",
              "      <th></th>\n",
              "      <th>Emotion</th>\n",
              "      <th>Text</th>\n",
              "      <th>Emotion_Label</th>\n",
              "    </tr>\n",
              "  </thead>\n",
              "  <tbody>\n",
              "    <tr>\n",
              "      <th>32823</th>\n",
              "      <td>neutral</td>\n",
              "      <td>Good Morning</td>\n",
              "      <td>Neutral</td>\n",
              "    </tr>\n",
              "    <tr>\n",
              "      <th>16298</th>\n",
              "      <td>empty</td>\n",
              "      <td>I just put my computer up on craigslist. I've ...</td>\n",
              "      <td>Neutral</td>\n",
              "    </tr>\n",
              "    <tr>\n",
              "      <th>28505</th>\n",
              "      <td>love</td>\n",
              "      <td>in ten minutes shopping   demi lovato-back aro...</td>\n",
              "      <td>Positive</td>\n",
              "    </tr>\n",
              "    <tr>\n",
              "      <th>6689</th>\n",
              "      <td>neutral</td>\n",
              "      <td>From twitterberry moved to ubertwitter - suffe...</td>\n",
              "      <td>Neutral</td>\n",
              "    </tr>\n",
              "    <tr>\n",
              "      <th>26893</th>\n",
              "      <td>sadness</td>\n",
              "      <td>@thriftymom TEAR*</td>\n",
              "      <td>Negative</td>\n",
              "    </tr>\n",
              "  </tbody>\n",
              "</table>\n",
              "</div>\n",
              "      <button class=\"colab-df-convert\" onclick=\"convertToInteractive('df-77b92d0a-fa4d-476c-8203-99b148047db8')\"\n",
              "              title=\"Convert this dataframe to an interactive table.\"\n",
              "              style=\"display:none;\">\n",
              "        \n",
              "  <svg xmlns=\"http://www.w3.org/2000/svg\" height=\"24px\"viewBox=\"0 0 24 24\"\n",
              "       width=\"24px\">\n",
              "    <path d=\"M0 0h24v24H0V0z\" fill=\"none\"/>\n",
              "    <path d=\"M18.56 5.44l.94 2.06.94-2.06 2.06-.94-2.06-.94-.94-2.06-.94 2.06-2.06.94zm-11 1L8.5 8.5l.94-2.06 2.06-.94-2.06-.94L8.5 2.5l-.94 2.06-2.06.94zm10 10l.94 2.06.94-2.06 2.06-.94-2.06-.94-.94-2.06-.94 2.06-2.06.94z\"/><path d=\"M17.41 7.96l-1.37-1.37c-.4-.4-.92-.59-1.43-.59-.52 0-1.04.2-1.43.59L10.3 9.45l-7.72 7.72c-.78.78-.78 2.05 0 2.83L4 21.41c.39.39.9.59 1.41.59.51 0 1.02-.2 1.41-.59l7.78-7.78 2.81-2.81c.8-.78.8-2.07 0-2.86zM5.41 20L4 18.59l7.72-7.72 1.47 1.35L5.41 20z\"/>\n",
              "  </svg>\n",
              "      </button>\n",
              "      \n",
              "  <style>\n",
              "    .colab-df-container {\n",
              "      display:flex;\n",
              "      flex-wrap:wrap;\n",
              "      gap: 12px;\n",
              "    }\n",
              "\n",
              "    .colab-df-convert {\n",
              "      background-color: #E8F0FE;\n",
              "      border: none;\n",
              "      border-radius: 50%;\n",
              "      cursor: pointer;\n",
              "      display: none;\n",
              "      fill: #1967D2;\n",
              "      height: 32px;\n",
              "      padding: 0 0 0 0;\n",
              "      width: 32px;\n",
              "    }\n",
              "\n",
              "    .colab-df-convert:hover {\n",
              "      background-color: #E2EBFA;\n",
              "      box-shadow: 0px 1px 2px rgba(60, 64, 67, 0.3), 0px 1px 3px 1px rgba(60, 64, 67, 0.15);\n",
              "      fill: #174EA6;\n",
              "    }\n",
              "\n",
              "    [theme=dark] .colab-df-convert {\n",
              "      background-color: #3B4455;\n",
              "      fill: #D2E3FC;\n",
              "    }\n",
              "\n",
              "    [theme=dark] .colab-df-convert:hover {\n",
              "      background-color: #434B5C;\n",
              "      box-shadow: 0px 1px 3px 1px rgba(0, 0, 0, 0.15);\n",
              "      filter: drop-shadow(0px 1px 2px rgba(0, 0, 0, 0.3));\n",
              "      fill: #FFFFFF;\n",
              "    }\n",
              "  </style>\n",
              "\n",
              "      <script>\n",
              "        const buttonEl =\n",
              "          document.querySelector('#df-77b92d0a-fa4d-476c-8203-99b148047db8 button.colab-df-convert');\n",
              "        buttonEl.style.display =\n",
              "          google.colab.kernel.accessAllowed ? 'block' : 'none';\n",
              "\n",
              "        async function convertToInteractive(key) {\n",
              "          const element = document.querySelector('#df-77b92d0a-fa4d-476c-8203-99b148047db8');\n",
              "          const dataTable =\n",
              "            await google.colab.kernel.invokeFunction('convertToInteractive',\n",
              "                                                     [key], {});\n",
              "          if (!dataTable) return;\n",
              "\n",
              "          const docLinkHtml = 'Like what you see? Visit the ' +\n",
              "            '<a target=\"_blank\" href=https://colab.research.google.com/notebooks/data_table.ipynb>data table notebook</a>'\n",
              "            + ' to learn more about interactive tables.';\n",
              "          element.innerHTML = '';\n",
              "          dataTable['output_type'] = 'display_data';\n",
              "          await google.colab.output.renderOutput(dataTable, element);\n",
              "          const docLink = document.createElement('div');\n",
              "          docLink.innerHTML = docLinkHtml;\n",
              "          element.appendChild(docLink);\n",
              "        }\n",
              "      </script>\n",
              "    </div>\n",
              "  </div>\n",
              "  "
            ]
          },
          "metadata": {},
          "execution_count": 118
        }
      ]
    },
    {
      "cell_type": "markdown",
      "source": [
        "*   Third dataset\n",
        "\n",
        "To add a column for labeling the positive, negative, or neutral emotions based on the \"Emotion\" and \"Intensity\" columns of the third dataframe, we can define a function to map the values and then apply it to create the new column. Here's an example:"
      ],
      "metadata": {
        "id": "TuAkU1oWvpxO"
      }
    },
    {
      "cell_type": "markdown",
      "source": [
        "This part is just for taking a beter lookk at the dataaframe and the data inside of it. We want to see what is the realationship between the Emotions and Intensity. So ..."
      ],
      "metadata": {
        "id": "5yNuMM50MzI2"
      }
    },
    {
      "cell_type": "code",
      "source": [
        "#this is for finidng the relation between the emotions and intensity:\n",
        "\n",
        "# Group the data by emotion\n",
        "emotion_groups = ei_train_df.groupby('Emotion')\n",
        "\n",
        "# Calculate descriptive statistics for intensity within each group\n",
        "emtion_states = emotion_groups['Intensity'].describe()"
      ],
      "metadata": {
        "id": "ZCS4V15HJK-N"
      },
      "execution_count": 119,
      "outputs": []
    },
    {
      "cell_type": "code",
      "source": [
        "emtion_states.head()"
      ],
      "metadata": {
        "colab": {
          "base_uri": "https://localhost:8080/",
          "height": 206
        },
        "id": "xb211i9GJ8tn",
        "outputId": "917faf6f-008b-4b3c-f159-949e65f2080d"
      },
      "execution_count": 120,
      "outputs": [
        {
          "output_type": "execute_result",
          "data": {
            "text/plain": [
              "          count      mean       std    min    25%    50%    75%    max\n",
              "Emotion                                                               \n",
              "anger     856.0  0.495959  0.168592  0.067  0.375  0.479  0.604  0.938\n",
              "fear     1146.0  0.495157  0.194352  0.062  0.354  0.479  0.625  0.979\n",
              "joy       822.0  0.492026  0.203748  0.019  0.340  0.480  0.646  0.958\n",
              "sadness   785.0  0.495368  0.190247  0.083  0.351  0.479  0.646  0.958"
            ],
            "text/html": [
              "\n",
              "  <div id=\"df-954b5cce-e2c2-49dc-9e49-24e36999658c\">\n",
              "    <div class=\"colab-df-container\">\n",
              "      <div>\n",
              "<style scoped>\n",
              "    .dataframe tbody tr th:only-of-type {\n",
              "        vertical-align: middle;\n",
              "    }\n",
              "\n",
              "    .dataframe tbody tr th {\n",
              "        vertical-align: top;\n",
              "    }\n",
              "\n",
              "    .dataframe thead th {\n",
              "        text-align: right;\n",
              "    }\n",
              "</style>\n",
              "<table border=\"1\" class=\"dataframe\">\n",
              "  <thead>\n",
              "    <tr style=\"text-align: right;\">\n",
              "      <th></th>\n",
              "      <th>count</th>\n",
              "      <th>mean</th>\n",
              "      <th>std</th>\n",
              "      <th>min</th>\n",
              "      <th>25%</th>\n",
              "      <th>50%</th>\n",
              "      <th>75%</th>\n",
              "      <th>max</th>\n",
              "    </tr>\n",
              "    <tr>\n",
              "      <th>Emotion</th>\n",
              "      <th></th>\n",
              "      <th></th>\n",
              "      <th></th>\n",
              "      <th></th>\n",
              "      <th></th>\n",
              "      <th></th>\n",
              "      <th></th>\n",
              "      <th></th>\n",
              "    </tr>\n",
              "  </thead>\n",
              "  <tbody>\n",
              "    <tr>\n",
              "      <th>anger</th>\n",
              "      <td>856.0</td>\n",
              "      <td>0.495959</td>\n",
              "      <td>0.168592</td>\n",
              "      <td>0.067</td>\n",
              "      <td>0.375</td>\n",
              "      <td>0.479</td>\n",
              "      <td>0.604</td>\n",
              "      <td>0.938</td>\n",
              "    </tr>\n",
              "    <tr>\n",
              "      <th>fear</th>\n",
              "      <td>1146.0</td>\n",
              "      <td>0.495157</td>\n",
              "      <td>0.194352</td>\n",
              "      <td>0.062</td>\n",
              "      <td>0.354</td>\n",
              "      <td>0.479</td>\n",
              "      <td>0.625</td>\n",
              "      <td>0.979</td>\n",
              "    </tr>\n",
              "    <tr>\n",
              "      <th>joy</th>\n",
              "      <td>822.0</td>\n",
              "      <td>0.492026</td>\n",
              "      <td>0.203748</td>\n",
              "      <td>0.019</td>\n",
              "      <td>0.340</td>\n",
              "      <td>0.480</td>\n",
              "      <td>0.646</td>\n",
              "      <td>0.958</td>\n",
              "    </tr>\n",
              "    <tr>\n",
              "      <th>sadness</th>\n",
              "      <td>785.0</td>\n",
              "      <td>0.495368</td>\n",
              "      <td>0.190247</td>\n",
              "      <td>0.083</td>\n",
              "      <td>0.351</td>\n",
              "      <td>0.479</td>\n",
              "      <td>0.646</td>\n",
              "      <td>0.958</td>\n",
              "    </tr>\n",
              "  </tbody>\n",
              "</table>\n",
              "</div>\n",
              "      <button class=\"colab-df-convert\" onclick=\"convertToInteractive('df-954b5cce-e2c2-49dc-9e49-24e36999658c')\"\n",
              "              title=\"Convert this dataframe to an interactive table.\"\n",
              "              style=\"display:none;\">\n",
              "        \n",
              "  <svg xmlns=\"http://www.w3.org/2000/svg\" height=\"24px\"viewBox=\"0 0 24 24\"\n",
              "       width=\"24px\">\n",
              "    <path d=\"M0 0h24v24H0V0z\" fill=\"none\"/>\n",
              "    <path d=\"M18.56 5.44l.94 2.06.94-2.06 2.06-.94-2.06-.94-.94-2.06-.94 2.06-2.06.94zm-11 1L8.5 8.5l.94-2.06 2.06-.94-2.06-.94L8.5 2.5l-.94 2.06-2.06.94zm10 10l.94 2.06.94-2.06 2.06-.94-2.06-.94-.94-2.06-.94 2.06-2.06.94z\"/><path d=\"M17.41 7.96l-1.37-1.37c-.4-.4-.92-.59-1.43-.59-.52 0-1.04.2-1.43.59L10.3 9.45l-7.72 7.72c-.78.78-.78 2.05 0 2.83L4 21.41c.39.39.9.59 1.41.59.51 0 1.02-.2 1.41-.59l7.78-7.78 2.81-2.81c.8-.78.8-2.07 0-2.86zM5.41 20L4 18.59l7.72-7.72 1.47 1.35L5.41 20z\"/>\n",
              "  </svg>\n",
              "      </button>\n",
              "      \n",
              "  <style>\n",
              "    .colab-df-container {\n",
              "      display:flex;\n",
              "      flex-wrap:wrap;\n",
              "      gap: 12px;\n",
              "    }\n",
              "\n",
              "    .colab-df-convert {\n",
              "      background-color: #E8F0FE;\n",
              "      border: none;\n",
              "      border-radius: 50%;\n",
              "      cursor: pointer;\n",
              "      display: none;\n",
              "      fill: #1967D2;\n",
              "      height: 32px;\n",
              "      padding: 0 0 0 0;\n",
              "      width: 32px;\n",
              "    }\n",
              "\n",
              "    .colab-df-convert:hover {\n",
              "      background-color: #E2EBFA;\n",
              "      box-shadow: 0px 1px 2px rgba(60, 64, 67, 0.3), 0px 1px 3px 1px rgba(60, 64, 67, 0.15);\n",
              "      fill: #174EA6;\n",
              "    }\n",
              "\n",
              "    [theme=dark] .colab-df-convert {\n",
              "      background-color: #3B4455;\n",
              "      fill: #D2E3FC;\n",
              "    }\n",
              "\n",
              "    [theme=dark] .colab-df-convert:hover {\n",
              "      background-color: #434B5C;\n",
              "      box-shadow: 0px 1px 3px 1px rgba(0, 0, 0, 0.15);\n",
              "      filter: drop-shadow(0px 1px 2px rgba(0, 0, 0, 0.3));\n",
              "      fill: #FFFFFF;\n",
              "    }\n",
              "  </style>\n",
              "\n",
              "      <script>\n",
              "        const buttonEl =\n",
              "          document.querySelector('#df-954b5cce-e2c2-49dc-9e49-24e36999658c button.colab-df-convert');\n",
              "        buttonEl.style.display =\n",
              "          google.colab.kernel.accessAllowed ? 'block' : 'none';\n",
              "\n",
              "        async function convertToInteractive(key) {\n",
              "          const element = document.querySelector('#df-954b5cce-e2c2-49dc-9e49-24e36999658c');\n",
              "          const dataTable =\n",
              "            await google.colab.kernel.invokeFunction('convertToInteractive',\n",
              "                                                     [key], {});\n",
              "          if (!dataTable) return;\n",
              "\n",
              "          const docLinkHtml = 'Like what you see? Visit the ' +\n",
              "            '<a target=\"_blank\" href=https://colab.research.google.com/notebooks/data_table.ipynb>data table notebook</a>'\n",
              "            + ' to learn more about interactive tables.';\n",
              "          element.innerHTML = '';\n",
              "          dataTable['output_type'] = 'display_data';\n",
              "          await google.colab.output.renderOutput(dataTable, element);\n",
              "          const docLink = document.createElement('div');\n",
              "          docLink.innerHTML = docLinkHtml;\n",
              "          element.appendChild(docLink);\n",
              "        }\n",
              "      </script>\n",
              "    </div>\n",
              "  </div>\n",
              "  "
            ]
          },
          "metadata": {},
          "execution_count": 120
        }
      ]
    },
    {
      "cell_type": "code",
      "source": [
        "# Visualize the intensity distributions\n",
        "plt.figure(figsize=(8, 6))\n",
        "emotion_groups['Intensity'].plot(kind='hist', alpha=0.5, legend=True)\n",
        "plt.xlabel('Intensity')\n",
        "plt.ylabel('Frequency')\n",
        "plt.title('Intensity Distribution for Each Emotion')\n",
        "plt.show()"
      ],
      "metadata": {
        "colab": {
          "base_uri": "https://localhost:8080/",
          "height": 564
        },
        "id": "uDrSd2tTKkUm",
        "outputId": "79cdba46-8b1a-4630-aebd-70a0eaa3e8da"
      },
      "execution_count": 121,
      "outputs": [
        {
          "output_type": "display_data",
          "data": {
            "text/plain": [
              "<Figure size 800x600 with 1 Axes>"
            ],
            "image/png": "[encoded data removed]"
          },
          "metadata": {}
        }
      ]
    },
    {
      "cell_type": "markdown",
      "source": [
        "Now that we saw it, we can say that for each emotion, if the intensity is more than 0.5, it's more tense. So we can label the intensities less than 0.5 as neutral."
      ],
      "metadata": {
        "id": "TzXRVTnoNG_s"
      }
    },
    {
      "cell_type": "code",
      "source": [
        "unique_emotions = ei_train_df['Emotion'].unique()\n",
        "\n",
        "# Print the unique emotions\n",
        "print(unique_emotions)"
      ],
      "metadata": {
        "colab": {
          "base_uri": "https://localhost:8080/"
        },
        "id": "QLhRDcwEwFIf",
        "outputId": "acb72eb2-6fac-448a-ad87-4af85dd93aa1"
      },
      "execution_count": 122,
      "outputs": [
        {
          "output_type": "stream",
          "name": "stdout",
          "text": [
            "['anger' 'fear' 'joy' 'sadness']\n"
          ]
        }
      ]
    },
    {
      "cell_type": "code",
      "source": [
        "# Define a function to map intensity to labels\n",
        "def label_emotion(row):\n",
        "    if row['Emotion'] == 'joy':\n",
        "        return 'positive' if row['Intensity'] > 0.5 else 'neutral'\n",
        "    elif row['Emotion'] in ['anger', 'fear', 'sadness']:\n",
        "        return 'negative' if row['Intensity'] > 0.5 else 'neutral'\n",
        "    else:\n",
        "        return 'neutral'"
      ],
      "metadata": {
        "id": "xiueqXoEwGq_"
      },
      "execution_count": 123,
      "outputs": []
    },
    {
      "cell_type": "code",
      "source": [
        "# Apply the function to create a new column for the train dataframe\n",
        "ei_train_df['Emotion_Label'] = ei_train_df.apply(label_emotion, axis=1)"
      ],
      "metadata": {
        "id": "PMtfpghgMNMD"
      },
      "execution_count": 124,
      "outputs": []
    },
    {
      "cell_type": "code",
      "source": [
        "# Drop the id and Intensity column\n",
        "ei_train_df = ei_train_df.drop(['ID', 'Intensity'], axis=1)"
      ],
      "metadata": {
        "id": "5DKkW9fVJ4-6"
      },
      "execution_count": 125,
      "outputs": []
    },
    {
      "cell_type": "markdown",
      "source": [
        "And now the results:"
      ],
      "metadata": {
        "id": "_WMOt_eoJGlR"
      }
    },
    {
      "cell_type": "code",
      "source": [
        "# Print the train dataframe\n",
        "print(\"Train dataframe:\")\n",
        "ei_train_df.sample(5)"
      ],
      "metadata": {
        "colab": {
          "base_uri": "https://localhost:8080/",
          "height": 224
        },
        "id": "TcKeJMZmwqE7",
        "outputId": "3b5fc699-6077-4cee-b399-1e4d55ffae99"
      },
      "execution_count": 126,
      "outputs": [
        {
          "output_type": "stream",
          "name": "stdout",
          "text": [
            "Train dataframe:\n"
          ]
        },
        {
          "output_type": "execute_result",
          "data": {
            "text/plain": [
              "                                                   Text  Emotion Emotion_Label\n",
              "2434  @DailyMailCeleb @KTHopkins Katie I love how yo...      joy       neutral\n",
              "3574     why do i have such a thing for dark curly hAIR  sadness       neutral\n",
              "3525  @iJuvia_ \\n\\nHearing the noises, Akame opened ...  sadness       neutral\n",
              "472   Because it was a perfect illusion, but at leas...    anger       neutral\n",
              "152   When you break a record in #madden I wish it d...    anger      negative"
            ],
            "text/html": [
              "\n",
              "  <div id=\"df-ebdb20d7-f766-48fc-a31d-eb8b4c611825\">\n",
              "    <div class=\"colab-df-container\">\n",
              "      <div>\n",
              "<style scoped>\n",
              "    .dataframe tbody tr th:only-of-type {\n",
              "        vertical-align: middle;\n",
              "    }\n",
              "\n",
              "    .dataframe tbody tr th {\n",
              "        vertical-align: top;\n",
              "    }\n",
              "\n",
              "    .dataframe thead th {\n",
              "        text-align: right;\n",
              "    }\n",
              "</style>\n",
              "<table border=\"1\" class=\"dataframe\">\n",
              "  <thead>\n",
              "    <tr style=\"text-align: right;\">\n",
              "      <th></th>\n",
              "      <th>Text</th>\n",
              "      <th>Emotion</th>\n",
              "      <th>Emotion_Label</th>\n",
              "    </tr>\n",
              "  </thead>\n",
              "  <tbody>\n",
              "    <tr>\n",
              "      <th>2434</th>\n",
              "      <td>@DailyMailCeleb @KTHopkins Katie I love how yo...</td>\n",
              "      <td>joy</td>\n",
              "      <td>neutral</td>\n",
              "    </tr>\n",
              "    <tr>\n",
              "      <th>3574</th>\n",
              "      <td>why do i have such a thing for dark curly hAIR</td>\n",
              "      <td>sadness</td>\n",
              "      <td>neutral</td>\n",
              "    </tr>\n",
              "    <tr>\n",
              "      <th>3525</th>\n",
              "      <td>@iJuvia_ \\n\\nHearing the noises, Akame opened ...</td>\n",
              "      <td>sadness</td>\n",
              "      <td>neutral</td>\n",
              "    </tr>\n",
              "    <tr>\n",
              "      <th>472</th>\n",
              "      <td>Because it was a perfect illusion, but at leas...</td>\n",
              "      <td>anger</td>\n",
              "      <td>neutral</td>\n",
              "    </tr>\n",
              "    <tr>\n",
              "      <th>152</th>\n",
              "      <td>When you break a record in #madden I wish it d...</td>\n",
              "      <td>anger</td>\n",
              "      <td>negative</td>\n",
              "    </tr>\n",
              "  </tbody>\n",
              "</table>\n",
              "</div>\n",
              "      <button class=\"colab-df-convert\" onclick=\"convertToInteractive('df-ebdb20d7-f766-48fc-a31d-eb8b4c611825')\"\n",
              "              title=\"Convert this dataframe to an interactive table.\"\n",
              "              style=\"display:none;\">\n",
              "        \n",
              "  <svg xmlns=\"http://www.w3.org/2000/svg\" height=\"24px\"viewBox=\"0 0 24 24\"\n",
              "       width=\"24px\">\n",
              "    <path d=\"M0 0h24v24H0V0z\" fill=\"none\"/>\n",
              "    <path d=\"M18.56 5.44l.94 2.06.94-2.06 2.06-.94-2.06-.94-.94-2.06-.94 2.06-2.06.94zm-11 1L8.5 8.5l.94-2.06 2.06-.94-2.06-.94L8.5 2.5l-.94 2.06-2.06.94zm10 10l.94 2.06.94-2.06 2.06-.94-2.06-.94-.94-2.06-.94 2.06-2.06.94z\"/><path d=\"M17.41 7.96l-1.37-1.37c-.4-.4-.92-.59-1.43-.59-.52 0-1.04.2-1.43.59L10.3 9.45l-7.72 7.72c-.78.78-.78 2.05 0 2.83L4 21.41c.39.39.9.59 1.41.59.51 0 1.02-.2 1.41-.59l7.78-7.78 2.81-2.81c.8-.78.8-2.07 0-2.86zM5.41 20L4 18.59l7.72-7.72 1.47 1.35L5.41 20z\"/>\n",
              "  </svg>\n",
              "      </button>\n",
              "      \n",
              "  <style>\n",
              "    .colab-df-container {\n",
              "      display:flex;\n",
              "      flex-wrap:wrap;\n",
              "      gap: 12px;\n",
              "    }\n",
              "\n",
              "    .colab-df-convert {\n",
              "      background-color: #E8F0FE;\n",
              "      border: none;\n",
              "      border-radius: 50%;\n",
              "      cursor: pointer;\n",
              "      display: none;\n",
              "      fill: #1967D2;\n",
              "      height: 32px;\n",
              "      padding: 0 0 0 0;\n",
              "      width: 32px;\n",
              "    }\n",
              "\n",
              "    .colab-df-convert:hover {\n",
              "      background-color: #E2EBFA;\n",
              "      box-shadow: 0px 1px 2px rgba(60, 64, 67, 0.3), 0px 1px 3px 1px rgba(60, 64, 67, 0.15);\n",
              "      fill: #174EA6;\n",
              "    }\n",
              "\n",
              "    [theme=dark] .colab-df-convert {\n",
              "      background-color: #3B4455;\n",
              "      fill: #D2E3FC;\n",
              "    }\n",
              "\n",
              "    [theme=dark] .colab-df-convert:hover {\n",
              "      background-color: #434B5C;\n",
              "      box-shadow: 0px 1px 3px 1px rgba(0, 0, 0, 0.15);\n",
              "      filter: drop-shadow(0px 1px 2px rgba(0, 0, 0, 0.3));\n",
              "      fill: #FFFFFF;\n",
              "    }\n",
              "  </style>\n",
              "\n",
              "      <script>\n",
              "        const buttonEl =\n",
              "          document.querySelector('#df-ebdb20d7-f766-48fc-a31d-eb8b4c611825 button.colab-df-convert');\n",
              "        buttonEl.style.display =\n",
              "          google.colab.kernel.accessAllowed ? 'block' : 'none';\n",
              "\n",
              "        async function convertToInteractive(key) {\n",
              "          const element = document.querySelector('#df-ebdb20d7-f766-48fc-a31d-eb8b4c611825');\n",
              "          const dataTable =\n",
              "            await google.colab.kernel.invokeFunction('convertToInteractive',\n",
              "                                                     [key], {});\n",
              "          if (!dataTable) return;\n",
              "\n",
              "          const docLinkHtml = 'Like what you see? Visit the ' +\n",
              "            '<a target=\"_blank\" href=https://colab.research.google.com/notebooks/data_table.ipynb>data table notebook</a>'\n",
              "            + ' to learn more about interactive tables.';\n",
              "          element.innerHTML = '';\n",
              "          dataTable['output_type'] = 'display_data';\n",
              "          await google.colab.output.renderOutput(dataTable, element);\n",
              "          const docLink = document.createElement('div');\n",
              "          docLink.innerHTML = docLinkHtml;\n",
              "          element.appendChild(docLink);\n",
              "        }\n",
              "      </script>\n",
              "    </div>\n",
              "  </div>\n",
              "  "
            ]
          },
          "metadata": {},
          "execution_count": 126
        }
      ]
    },
    {
      "cell_type": "code",
      "source": [
        "# Apply the function to create a new column for the test dataframe\n",
        "ei_test_df['Emotion_Label'] = ei_test_df.apply(label_emotion, axis=1)"
      ],
      "metadata": {
        "id": "K9S1PSF58uOl"
      },
      "execution_count": 127,
      "outputs": []
    },
    {
      "cell_type": "code",
      "source": [
        "# Drop the id and Intensity column\n",
        "ei_test_df = ei_test_df.drop(['ID', 'Intensity'], axis=1)"
      ],
      "metadata": {
        "id": "vwQOh_GdJb1L"
      },
      "execution_count": 128,
      "outputs": []
    },
    {
      "cell_type": "code",
      "source": [
        "# Print the test dataframe\n",
        "print(\"Test dataframe:\")\n",
        "ei_test_df.sample(5)"
      ],
      "metadata": {
        "colab": {
          "base_uri": "https://localhost:8080/",
          "height": 224
        },
        "id": "uVuPJwjX89xO",
        "outputId": "70a7ea86-2f2e-435f-b904-f907d7ef576a"
      },
      "execution_count": 129,
      "outputs": [
        {
          "output_type": "stream",
          "name": "stdout",
          "text": [
            "Test dataframe:\n"
          ]
        },
        {
          "output_type": "execute_result",
          "data": {
            "text/plain": [
              "                                                   Text  Emotion Emotion_Label\n",
              "1794  God hears your voice optimism at the moment th...      joy       neutral\n",
              "997   @TheSummerIsHere Your ass looks horrible! Oh, ...     fear       neutral\n",
              "2491  😑😑😑&lt;---- that moment you finish a Netflix s...  sadness      negative\n",
              "371   my dogs making the most RIDICULOUS sounds righ...    anger       neutral\n",
              "528                            Goddamn headache. #anger    anger      negative"
            ],
            "text/html": [
              "\n",
              "  <div id=\"df-314af56b-672f-4374-81c6-056ec9f8f5e3\">\n",
              "    <div class=\"colab-df-container\">\n",
              "      <div>\n",
              "<style scoped>\n",
              "    .dataframe tbody tr th:only-of-type {\n",
              "        vertical-align: middle;\n",
              "    }\n",
              "\n",
              "    .dataframe tbody tr th {\n",
              "        vertical-align: top;\n",
              "    }\n",
              "\n",
              "    .dataframe thead th {\n",
              "        text-align: right;\n",
              "    }\n",
              "</style>\n",
              "<table border=\"1\" class=\"dataframe\">\n",
              "  <thead>\n",
              "    <tr style=\"text-align: right;\">\n",
              "      <th></th>\n",
              "      <th>Text</th>\n",
              "      <th>Emotion</th>\n",
              "      <th>Emotion_Label</th>\n",
              "    </tr>\n",
              "  </thead>\n",
              "  <tbody>\n",
              "    <tr>\n",
              "      <th>1794</th>\n",
              "      <td>God hears your voice optimism at the moment th...</td>\n",
              "      <td>joy</td>\n",
              "      <td>neutral</td>\n",
              "    </tr>\n",
              "    <tr>\n",
              "      <th>997</th>\n",
              "      <td>@TheSummerIsHere Your ass looks horrible! Oh, ...</td>\n",
              "      <td>fear</td>\n",
              "      <td>neutral</td>\n",
              "    </tr>\n",
              "    <tr>\n",
              "      <th>2491</th>\n",
              "      <td>😑😑😑&amp;lt;---- that moment you finish a Netflix s...</td>\n",
              "      <td>sadness</td>\n",
              "      <td>negative</td>\n",
              "    </tr>\n",
              "    <tr>\n",
              "      <th>371</th>\n",
              "      <td>my dogs making the most RIDICULOUS sounds righ...</td>\n",
              "      <td>anger</td>\n",
              "      <td>neutral</td>\n",
              "    </tr>\n",
              "    <tr>\n",
              "      <th>528</th>\n",
              "      <td>Goddamn headache. #anger</td>\n",
              "      <td>anger</td>\n",
              "      <td>negative</td>\n",
              "    </tr>\n",
              "  </tbody>\n",
              "</table>\n",
              "</div>\n",
              "      <button class=\"colab-df-convert\" onclick=\"convertToInteractive('df-314af56b-672f-4374-81c6-056ec9f8f5e3')\"\n",
              "              title=\"Convert this dataframe to an interactive table.\"\n",
              "              style=\"display:none;\">\n",
              "        \n",
              "  <svg xmlns=\"http://www.w3.org/2000/svg\" height=\"24px\"viewBox=\"0 0 24 24\"\n",
              "       width=\"24px\">\n",
              "    <path d=\"M0 0h24v24H0V0z\" fill=\"none\"/>\n",
              "    <path d=\"M18.56 5.44l.94 2.06.94-2.06 2.06-.94-2.06-.94-.94-2.06-.94 2.06-2.06.94zm-11 1L8.5 8.5l.94-2.06 2.06-.94-2.06-.94L8.5 2.5l-.94 2.06-2.06.94zm10 10l.94 2.06.94-2.06 2.06-.94-2.06-.94-.94-2.06-.94 2.06-2.06.94z\"/><path d=\"M17.41 7.96l-1.37-1.37c-.4-.4-.92-.59-1.43-.59-.52 0-1.04.2-1.43.59L10.3 9.45l-7.72 7.72c-.78.78-.78 2.05 0 2.83L4 21.41c.39.39.9.59 1.41.59.51 0 1.02-.2 1.41-.59l7.78-7.78 2.81-2.81c.8-.78.8-2.07 0-2.86zM5.41 20L4 18.59l7.72-7.72 1.47 1.35L5.41 20z\"/>\n",
              "  </svg>\n",
              "      </button>\n",
              "      \n",
              "  <style>\n",
              "    .colab-df-container {\n",
              "      display:flex;\n",
              "      flex-wrap:wrap;\n",
              "      gap: 12px;\n",
              "    }\n",
              "\n",
              "    .colab-df-convert {\n",
              "      background-color: #E8F0FE;\n",
              "      border: none;\n",
              "      border-radius: 50%;\n",
              "      cursor: pointer;\n",
              "      display: none;\n",
              "      fill: #1967D2;\n",
              "      height: 32px;\n",
              "      padding: 0 0 0 0;\n",
              "      width: 32px;\n",
              "    }\n",
              "\n",
              "    .colab-df-convert:hover {\n",
              "      background-color: #E2EBFA;\n",
              "      box-shadow: 0px 1px 2px rgba(60, 64, 67, 0.3), 0px 1px 3px 1px rgba(60, 64, 67, 0.15);\n",
              "      fill: #174EA6;\n",
              "    }\n",
              "\n",
              "    [theme=dark] .colab-df-convert {\n",
              "      background-color: #3B4455;\n",
              "      fill: #D2E3FC;\n",
              "    }\n",
              "\n",
              "    [theme=dark] .colab-df-convert:hover {\n",
              "      background-color: #434B5C;\n",
              "      box-shadow: 0px 1px 3px 1px rgba(0, 0, 0, 0.15);\n",
              "      filter: drop-shadow(0px 1px 2px rgba(0, 0, 0, 0.3));\n",
              "      fill: #FFFFFF;\n",
              "    }\n",
              "  </style>\n",
              "\n",
              "      <script>\n",
              "        const buttonEl =\n",
              "          document.querySelector('#df-314af56b-672f-4374-81c6-056ec9f8f5e3 button.colab-df-convert');\n",
              "        buttonEl.style.display =\n",
              "          google.colab.kernel.accessAllowed ? 'block' : 'none';\n",
              "\n",
              "        async function convertToInteractive(key) {\n",
              "          const element = document.querySelector('#df-314af56b-672f-4374-81c6-056ec9f8f5e3');\n",
              "          const dataTable =\n",
              "            await google.colab.kernel.invokeFunction('convertToInteractive',\n",
              "                                                     [key], {});\n",
              "          if (!dataTable) return;\n",
              "\n",
              "          const docLinkHtml = 'Like what you see? Visit the ' +\n",
              "            '<a target=\"_blank\" href=https://colab.research.google.com/notebooks/data_table.ipynb>data table notebook</a>'\n",
              "            + ' to learn more about interactive tables.';\n",
              "          element.innerHTML = '';\n",
              "          dataTable['output_type'] = 'display_data';\n",
              "          await google.colab.output.renderOutput(dataTable, element);\n",
              "          const docLink = document.createElement('div');\n",
              "          docLink.innerHTML = docLinkHtml;\n",
              "          element.appendChild(docLink);\n",
              "        }\n",
              "      </script>\n",
              "    </div>\n",
              "  </div>\n",
              "  "
            ]
          },
          "metadata": {},
          "execution_count": 129
        }
      ]
    },
    {
      "cell_type": "markdown",
      "source": [
        "*  Merge:\n",
        "\n",
        "Now all of the dataframes have a similar structure. So we can merge them together. We will do it for test and train dataframe as you can see the results."
      ],
      "metadata": {
        "id": "PUnkzCc4KlaE"
      }
    },
    {
      "cell_type": "code",
      "source": [
        "# Merge the train dataframes\n",
        "train_merged_df = pd.concat([eb_train_df, et_train_df, ei_train_df], ignore_index=True)"
      ],
      "metadata": {
        "id": "ckFo_Ur6-iW9"
      },
      "execution_count": 130,
      "outputs": []
    },
    {
      "cell_type": "code",
      "source": [
        "train_merged_df.sample(5)"
      ],
      "metadata": {
        "colab": {
          "base_uri": "https://localhost:8080/",
          "height": 206
        },
        "id": "jrDE1-6x-opS",
        "outputId": "d38a0216-2900-4cf6-cf01-6195ff228075"
      },
      "execution_count": 131,
      "outputs": [
        {
          "output_type": "execute_result",
          "data": {
            "text/plain": [
              "                                                    Text    Emotion  \\\n",
              "23046  Im.in.the.room Im.watching.the.HANNAHmovie.wit...    sadness   \n",
              "35266  #bgt What happened Greg.  That was a rubbish f...       hate   \n",
              "37728              May the 4th be with you  #starwarsday  happiness   \n",
              "14902  pretty bummed that it had to rain last nite! o...   surprise   \n",
              "2779                  “Oh, totally,” said the hunchback.    Neutral   \n",
              "\n",
              "      Emotion_Label  \n",
              "23046      Negative  \n",
              "35266      Negative  \n",
              "37728      Positive  \n",
              "14902       Neutral  \n",
              "2779            NaN  "
            ],
            "text/html": [
              "\n",
              "  <div id=\"df-4754e081-6629-4b9d-915c-c80d381a96fb\">\n",
              "    <div class=\"colab-df-container\">\n",
              "      <div>\n",
              "<style scoped>\n",
              "    .dataframe tbody tr th:only-of-type {\n",
              "        vertical-align: middle;\n",
              "    }\n",
              "\n",
              "    .dataframe tbody tr th {\n",
              "        vertical-align: top;\n",
              "    }\n",
              "\n",
              "    .dataframe thead th {\n",
              "        text-align: right;\n",
              "    }\n",
              "</style>\n",
              "<table border=\"1\" class=\"dataframe\">\n",
              "  <thead>\n",
              "    <tr style=\"text-align: right;\">\n",
              "      <th></th>\n",
              "      <th>Text</th>\n",
              "      <th>Emotion</th>\n",
              "      <th>Emotion_Label</th>\n",
              "    </tr>\n",
              "  </thead>\n",
              "  <tbody>\n",
              "    <tr>\n",
              "      <th>23046</th>\n",
              "      <td>Im.in.the.room Im.watching.the.HANNAHmovie.wit...</td>\n",
              "      <td>sadness</td>\n",
              "      <td>Negative</td>\n",
              "    </tr>\n",
              "    <tr>\n",
              "      <th>35266</th>\n",
              "      <td>#bgt What happened Greg.  That was a rubbish f...</td>\n",
              "      <td>hate</td>\n",
              "      <td>Negative</td>\n",
              "    </tr>\n",
              "    <tr>\n",
              "      <th>37728</th>\n",
              "      <td>May the 4th be with you  #starwarsday</td>\n",
              "      <td>happiness</td>\n",
              "      <td>Positive</td>\n",
              "    </tr>\n",
              "    <tr>\n",
              "      <th>14902</th>\n",
              "      <td>pretty bummed that it had to rain last nite! o...</td>\n",
              "      <td>surprise</td>\n",
              "      <td>Neutral</td>\n",
              "    </tr>\n",
              "    <tr>\n",
              "      <th>2779</th>\n",
              "      <td>“Oh, totally,” said the hunchback.</td>\n",
              "      <td>Neutral</td>\n",
              "      <td>NaN</td>\n",
              "    </tr>\n",
              "  </tbody>\n",
              "</table>\n",
              "</div>\n",
              "      <button class=\"colab-df-convert\" onclick=\"convertToInteractive('df-4754e081-6629-4b9d-915c-c80d381a96fb')\"\n",
              "              title=\"Convert this dataframe to an interactive table.\"\n",
              "              style=\"display:none;\">\n",
              "        \n",
              "  <svg xmlns=\"http://www.w3.org/2000/svg\" height=\"24px\"viewBox=\"0 0 24 24\"\n",
              "       width=\"24px\">\n",
              "    <path d=\"M0 0h24v24H0V0z\" fill=\"none\"/>\n",
              "    <path d=\"M18.56 5.44l.94 2.06.94-2.06 2.06-.94-2.06-.94-.94-2.06-.94 2.06-2.06.94zm-11 1L8.5 8.5l.94-2.06 2.06-.94-2.06-.94L8.5 2.5l-.94 2.06-2.06.94zm10 10l.94 2.06.94-2.06 2.06-.94-2.06-.94-.94-2.06-.94 2.06-2.06.94z\"/><path d=\"M17.41 7.96l-1.37-1.37c-.4-.4-.92-.59-1.43-.59-.52 0-1.04.2-1.43.59L10.3 9.45l-7.72 7.72c-.78.78-.78 2.05 0 2.83L4 21.41c.39.39.9.59 1.41.59.51 0 1.02-.2 1.41-.59l7.78-7.78 2.81-2.81c.8-.78.8-2.07 0-2.86zM5.41 20L4 18.59l7.72-7.72 1.47 1.35L5.41 20z\"/>\n",
              "  </svg>\n",
              "      </button>\n",
              "      \n",
              "  <style>\n",
              "    .colab-df-container {\n",
              "      display:flex;\n",
              "      flex-wrap:wrap;\n",
              "      gap: 12px;\n",
              "    }\n",
              "\n",
              "    .colab-df-convert {\n",
              "      background-color: #E8F0FE;\n",
              "      border: none;\n",
              "      border-radius: 50%;\n",
              "      cursor: pointer;\n",
              "      display: none;\n",
              "      fill: #1967D2;\n",
              "      height: 32px;\n",
              "      padding: 0 0 0 0;\n",
              "      width: 32px;\n",
              "    }\n",
              "\n",
              "    .colab-df-convert:hover {\n",
              "      background-color: #E2EBFA;\n",
              "      box-shadow: 0px 1px 2px rgba(60, 64, 67, 0.3), 0px 1px 3px 1px rgba(60, 64, 67, 0.15);\n",
              "      fill: #174EA6;\n",
              "    }\n",
              "\n",
              "    [theme=dark] .colab-df-convert {\n",
              "      background-color: #3B4455;\n",
              "      fill: #D2E3FC;\n",
              "    }\n",
              "\n",
              "    [theme=dark] .colab-df-convert:hover {\n",
              "      background-color: #434B5C;\n",
              "      box-shadow: 0px 1px 3px 1px rgba(0, 0, 0, 0.15);\n",
              "      filter: drop-shadow(0px 1px 2px rgba(0, 0, 0, 0.3));\n",
              "      fill: #FFFFFF;\n",
              "    }\n",
              "  </style>\n",
              "\n",
              "      <script>\n",
              "        const buttonEl =\n",
              "          document.querySelector('#df-4754e081-6629-4b9d-915c-c80d381a96fb button.colab-df-convert');\n",
              "        buttonEl.style.display =\n",
              "          google.colab.kernel.accessAllowed ? 'block' : 'none';\n",
              "\n",
              "        async function convertToInteractive(key) {\n",
              "          const element = document.querySelector('#df-4754e081-6629-4b9d-915c-c80d381a96fb');\n",
              "          const dataTable =\n",
              "            await google.colab.kernel.invokeFunction('convertToInteractive',\n",
              "                                                     [key], {});\n",
              "          if (!dataTable) return;\n",
              "\n",
              "          const docLinkHtml = 'Like what you see? Visit the ' +\n",
              "            '<a target=\"_blank\" href=https://colab.research.google.com/notebooks/data_table.ipynb>data table notebook</a>'\n",
              "            + ' to learn more about interactive tables.';\n",
              "          element.innerHTML = '';\n",
              "          dataTable['output_type'] = 'display_data';\n",
              "          await google.colab.output.renderOutput(dataTable, element);\n",
              "          const docLink = document.createElement('div');\n",
              "          docLink.innerHTML = docLinkHtml;\n",
              "          element.appendChild(docLink);\n",
              "        }\n",
              "      </script>\n",
              "    </div>\n",
              "  </div>\n",
              "  "
            ]
          },
          "metadata": {},
          "execution_count": 131
        }
      ]
    },
    {
      "cell_type": "markdown",
      "source": [
        "As you can see there are some missing values in the labeling. We will fill them out."
      ],
      "metadata": {
        "id": "wik7eZN2a0yK"
      }
    },
    {
      "cell_type": "code",
      "source": [
        "nan_rows = train_merged_df[train_merged_df['Emotion_Label'].isna()]\n",
        "\n",
        "nan_rows.sample(50)\n",
        "nan_rows.count()\n",
        "train_merged_df.isnull().sum()"
      ],
      "metadata": {
        "colab": {
          "base_uri": "https://localhost:8080/"
        },
        "id": "SAU3GFjFU9IP",
        "outputId": "282ac539-aab2-4959-dc2f-7d2daa297ea1"
      },
      "execution_count": 133,
      "outputs": [
        {
          "output_type": "execute_result",
          "data": {
            "text/plain": [
              "Text                0\n",
              "Emotion             0\n",
              "Emotion_Label    8062\n",
              "dtype: int64"
            ]
          },
          "metadata": {},
          "execution_count": 133
        }
      ]
    },
    {
      "cell_type": "code",
      "source": [
        "def fill_labels(df):\n",
        "    # Iterate over the rows of the DataFrame\n",
        "    for index, row in df.iterrows():\n",
        "        emotion = row['Emotion']\n",
        "        label = row['Emotion_Label']\n",
        "\n",
        "        # Check if the label is NaN and assign the corresponding value from the emotion column\n",
        "        if pd.isna(label):\n",
        "            if emotion.lower() == 'positive':\n",
        "                df.at[index, 'Emotion_Label'] = 'Positive'\n",
        "            elif emotion.lower() == 'negative':\n",
        "                df.at[index, 'Emotion_Label'] = 'Negative'\n",
        "            elif emotion.lower() == 'neutral':\n",
        "                df.at[index, 'Emotion_Label'] = 'Neutral'\n",
        "\n",
        "    return df"
      ],
      "metadata": {
        "id": "lTvktDxBaV35"
      },
      "execution_count": 134,
      "outputs": []
    },
    {
      "cell_type": "code",
      "source": [
        "# Call the function to fill labels in the DataFrame\n",
        "train_merged_df = fill_labels(train_merged_df)\n",
        "\n",
        "# Print the updated DataFrame\n",
        "train_merged_df.sample(5)"
      ],
      "metadata": {
        "colab": {
          "base_uri": "https://localhost:8080/",
          "height": 206
        },
        "id": "Pne4fxeOaepF",
        "outputId": "1dfd2d95-2753-4429-982d-eb497b8419d2"
      },
      "execution_count": 135,
      "outputs": [
        {
          "output_type": "execute_result",
          "data": {
            "text/plain": [
              "                                                    Text    Emotion  \\\n",
              "11647                finally gone to the beach, yeaaaah!  happiness   \n",
              "35028  Lots of tasks to complete today. First, weclom...      empty   \n",
              "23930  @babygirlparis Have a fantastic time in paradi...   surprise   \n",
              "5310   Portugal’s very precarious foothold on the Asi...    Neutral   \n",
              "28040  haha @ playing fall out boy in a bar full of o...        fun   \n",
              "\n",
              "      Emotion_Label  \n",
              "11647      Positive  \n",
              "35028       Neutral  \n",
              "23930       Neutral  \n",
              "5310        Neutral  \n",
              "28040      Positive  "
            ],
            "text/html": [
              "\n",
              "  <div id=\"df-ecb9a212-0a8e-4e3c-8bc7-0166ad72c3a8\">\n",
              "    <div class=\"colab-df-container\">\n",
              "      <div>\n",
              "<style scoped>\n",
              "    .dataframe tbody tr th:only-of-type {\n",
              "        vertical-align: middle;\n",
              "    }\n",
              "\n",
              "    .dataframe tbody tr th {\n",
              "        vertical-align: top;\n",
              "    }\n",
              "\n",
              "    .dataframe thead th {\n",
              "        text-align: right;\n",
              "    }\n",
              "</style>\n",
              "<table border=\"1\" class=\"dataframe\">\n",
              "  <thead>\n",
              "    <tr style=\"text-align: right;\">\n",
              "      <th></th>\n",
              "      <th>Text</th>\n",
              "      <th>Emotion</th>\n",
              "      <th>Emotion_Label</th>\n",
              "    </tr>\n",
              "  </thead>\n",
              "  <tbody>\n",
              "    <tr>\n",
              "      <th>11647</th>\n",
              "      <td>finally gone to the beach, yeaaaah!</td>\n",
              "      <td>happiness</td>\n",
              "      <td>Positive</td>\n",
              "    </tr>\n",
              "    <tr>\n",
              "      <th>35028</th>\n",
              "      <td>Lots of tasks to complete today. First, weclom...</td>\n",
              "      <td>empty</td>\n",
              "      <td>Neutral</td>\n",
              "    </tr>\n",
              "    <tr>\n",
              "      <th>23930</th>\n",
              "      <td>@babygirlparis Have a fantastic time in paradi...</td>\n",
              "      <td>surprise</td>\n",
              "      <td>Neutral</td>\n",
              "    </tr>\n",
              "    <tr>\n",
              "      <th>5310</th>\n",
              "      <td>Portugal’s very precarious foothold on the Asi...</td>\n",
              "      <td>Neutral</td>\n",
              "      <td>Neutral</td>\n",
              "    </tr>\n",
              "    <tr>\n",
              "      <th>28040</th>\n",
              "      <td>haha @ playing fall out boy in a bar full of o...</td>\n",
              "      <td>fun</td>\n",
              "      <td>Positive</td>\n",
              "    </tr>\n",
              "  </tbody>\n",
              "</table>\n",
              "</div>\n",
              "      <button class=\"colab-df-convert\" onclick=\"convertToInteractive('df-ecb9a212-0a8e-4e3c-8bc7-0166ad72c3a8')\"\n",
              "              title=\"Convert this dataframe to an interactive table.\"\n",
              "              style=\"display:none;\">\n",
              "        \n",
              "  <svg xmlns=\"http://www.w3.org/2000/svg\" height=\"24px\"viewBox=\"0 0 24 24\"\n",
              "       width=\"24px\">\n",
              "    <path d=\"M0 0h24v24H0V0z\" fill=\"none\"/>\n",
              "    <path d=\"M18.56 5.44l.94 2.06.94-2.06 2.06-.94-2.06-.94-.94-2.06-.94 2.06-2.06.94zm-11 1L8.5 8.5l.94-2.06 2.06-.94-2.06-.94L8.5 2.5l-.94 2.06-2.06.94zm10 10l.94 2.06.94-2.06 2.06-.94-2.06-.94-.94-2.06-.94 2.06-2.06.94z\"/><path d=\"M17.41 7.96l-1.37-1.37c-.4-.4-.92-.59-1.43-.59-.52 0-1.04.2-1.43.59L10.3 9.45l-7.72 7.72c-.78.78-.78 2.05 0 2.83L4 21.41c.39.39.9.59 1.41.59.51 0 1.02-.2 1.41-.59l7.78-7.78 2.81-2.81c.8-.78.8-2.07 0-2.86zM5.41 20L4 18.59l7.72-7.72 1.47 1.35L5.41 20z\"/>\n",
              "  </svg>\n",
              "      </button>\n",
              "      \n",
              "  <style>\n",
              "    .colab-df-container {\n",
              "      display:flex;\n",
              "      flex-wrap:wrap;\n",
              "      gap: 12px;\n",
              "    }\n",
              "\n",
              "    .colab-df-convert {\n",
              "      background-color: #E8F0FE;\n",
              "      border: none;\n",
              "      border-radius: 50%;\n",
              "      cursor: pointer;\n",
              "      display: none;\n",
              "      fill: #1967D2;\n",
              "      height: 32px;\n",
              "      padding: 0 0 0 0;\n",
              "      width: 32px;\n",
              "    }\n",
              "\n",
              "    .colab-df-convert:hover {\n",
              "      background-color: #E2EBFA;\n",
              "      box-shadow: 0px 1px 2px rgba(60, 64, 67, 0.3), 0px 1px 3px 1px rgba(60, 64, 67, 0.15);\n",
              "      fill: #174EA6;\n",
              "    }\n",
              "\n",
              "    [theme=dark] .colab-df-convert {\n",
              "      background-color: #3B4455;\n",
              "      fill: #D2E3FC;\n",
              "    }\n",
              "\n",
              "    [theme=dark] .colab-df-convert:hover {\n",
              "      background-color: #434B5C;\n",
              "      box-shadow: 0px 1px 3px 1px rgba(0, 0, 0, 0.15);\n",
              "      filter: drop-shadow(0px 1px 2px rgba(0, 0, 0, 0.3));\n",
              "      fill: #FFFFFF;\n",
              "    }\n",
              "  </style>\n",
              "\n",
              "      <script>\n",
              "        const buttonEl =\n",
              "          document.querySelector('#df-ecb9a212-0a8e-4e3c-8bc7-0166ad72c3a8 button.colab-df-convert');\n",
              "        buttonEl.style.display =\n",
              "          google.colab.kernel.accessAllowed ? 'block' : 'none';\n",
              "\n",
              "        async function convertToInteractive(key) {\n",
              "          const element = document.querySelector('#df-ecb9a212-0a8e-4e3c-8bc7-0166ad72c3a8');\n",
              "          const dataTable =\n",
              "            await google.colab.kernel.invokeFunction('convertToInteractive',\n",
              "                                                     [key], {});\n",
              "          if (!dataTable) return;\n",
              "\n",
              "          const docLinkHtml = 'Like what you see? Visit the ' +\n",
              "            '<a target=\"_blank\" href=https://colab.research.google.com/notebooks/data_table.ipynb>data table notebook</a>'\n",
              "            + ' to learn more about interactive tables.';\n",
              "          element.innerHTML = '';\n",
              "          dataTable['output_type'] = 'display_data';\n",
              "          await google.colab.output.renderOutput(dataTable, element);\n",
              "          const docLink = document.createElement('div');\n",
              "          docLink.innerHTML = docLinkHtml;\n",
              "          element.appendChild(docLink);\n",
              "        }\n",
              "      </script>\n",
              "    </div>\n",
              "  </div>\n",
              "  "
            ]
          },
          "metadata": {},
          "execution_count": 135
        }
      ]
    },
    {
      "cell_type": "code",
      "source": [
        "train_merged_df.isnull().sum()"
      ],
      "metadata": {
        "colab": {
          "base_uri": "https://localhost:8080/"
        },
        "id": "z0nsdAkJjRoE",
        "outputId": "8dd1459e-12b7-4463-c321-589f0b58f238"
      },
      "execution_count": 136,
      "outputs": [
        {
          "output_type": "execute_result",
          "data": {
            "text/plain": [
              "Text             0\n",
              "Emotion          0\n",
              "Emotion_Label    0\n",
              "dtype: int64"
            ]
          },
          "metadata": {},
          "execution_count": 136
        }
      ]
    },
    {
      "cell_type": "code",
      "source": [
        "# Merge the test dataframes\n",
        "test_merged_df = pd.concat([eb_test_df, et_test_df, ei_test_df], ignore_index=True)"
      ],
      "metadata": {
        "id": "2yzyZxXo-059"
      },
      "execution_count": 137,
      "outputs": []
    },
    {
      "cell_type": "code",
      "source": [
        "test_merged_df.sample(5)"
      ],
      "metadata": {
        "colab": {
          "base_uri": "https://localhost:8080/",
          "height": 206
        },
        "id": "Sfovchko_Awa",
        "outputId": "d30455c4-c8e1-49aa-f53a-5453b7324aca"
      },
      "execution_count": 138,
      "outputs": [
        {
          "output_type": "execute_result",
          "data": {
            "text/plain": [
              "                                                   Text    Emotion  \\\n",
              "3659                              @Tiaantjee Cool rite?    neutral   \n",
              "2948  Just spent the last two hours playing L4D with...       love   \n",
              "9255  @Jacqueline_69 haha! She did well today. I can...      anger   \n",
              "6595                  squirrel! where? i hate squirrels      worry   \n",
              "4139  @em1234 hahhaha indeed  kinda like the spoon.....  happiness   \n",
              "\n",
              "     Emotion_Label  \n",
              "3659       Neutral  \n",
              "2948      Positive  \n",
              "9255       neutral  \n",
              "6595      Negative  \n",
              "4139      Positive  "
            ],
            "text/html": [
              "\n",
              "  <div id=\"df-7058655e-a3e5-4a1b-94ae-89a15a0ea78e\">\n",
              "    <div class=\"colab-df-container\">\n",
              "      <div>\n",
              "<style scoped>\n",
              "    .dataframe tbody tr th:only-of-type {\n",
              "        vertical-align: middle;\n",
              "    }\n",
              "\n",
              "    .dataframe tbody tr th {\n",
              "        vertical-align: top;\n",
              "    }\n",
              "\n",
              "    .dataframe thead th {\n",
              "        text-align: right;\n",
              "    }\n",
              "</style>\n",
              "<table border=\"1\" class=\"dataframe\">\n",
              "  <thead>\n",
              "    <tr style=\"text-align: right;\">\n",
              "      <th></th>\n",
              "      <th>Text</th>\n",
              "      <th>Emotion</th>\n",
              "      <th>Emotion_Label</th>\n",
              "    </tr>\n",
              "  </thead>\n",
              "  <tbody>\n",
              "    <tr>\n",
              "      <th>3659</th>\n",
              "      <td>@Tiaantjee Cool rite?</td>\n",
              "      <td>neutral</td>\n",
              "      <td>Neutral</td>\n",
              "    </tr>\n",
              "    <tr>\n",
              "      <th>2948</th>\n",
              "      <td>Just spent the last two hours playing L4D with...</td>\n",
              "      <td>love</td>\n",
              "      <td>Positive</td>\n",
              "    </tr>\n",
              "    <tr>\n",
              "      <th>9255</th>\n",
              "      <td>@Jacqueline_69 haha! She did well today. I can...</td>\n",
              "      <td>anger</td>\n",
              "      <td>neutral</td>\n",
              "    </tr>\n",
              "    <tr>\n",
              "      <th>6595</th>\n",
              "      <td>squirrel! where? i hate squirrels</td>\n",
              "      <td>worry</td>\n",
              "      <td>Negative</td>\n",
              "    </tr>\n",
              "    <tr>\n",
              "      <th>4139</th>\n",
              "      <td>@em1234 hahhaha indeed  kinda like the spoon.....</td>\n",
              "      <td>happiness</td>\n",
              "      <td>Positive</td>\n",
              "    </tr>\n",
              "  </tbody>\n",
              "</table>\n",
              "</div>\n",
              "      <button class=\"colab-df-convert\" onclick=\"convertToInteractive('df-7058655e-a3e5-4a1b-94ae-89a15a0ea78e')\"\n",
              "              title=\"Convert this dataframe to an interactive table.\"\n",
              "              style=\"display:none;\">\n",
              "        \n",
              "  <svg xmlns=\"http://www.w3.org/2000/svg\" height=\"24px\"viewBox=\"0 0 24 24\"\n",
              "       width=\"24px\">\n",
              "    <path d=\"M0 0h24v24H0V0z\" fill=\"none\"/>\n",
              "    <path d=\"M18.56 5.44l.94 2.06.94-2.06 2.06-.94-2.06-.94-.94-2.06-.94 2.06-2.06.94zm-11 1L8.5 8.5l.94-2.06 2.06-.94-2.06-.94L8.5 2.5l-.94 2.06-2.06.94zm10 10l.94 2.06.94-2.06 2.06-.94-2.06-.94-.94-2.06-.94 2.06-2.06.94z\"/><path d=\"M17.41 7.96l-1.37-1.37c-.4-.4-.92-.59-1.43-.59-.52 0-1.04.2-1.43.59L10.3 9.45l-7.72 7.72c-.78.78-.78 2.05 0 2.83L4 21.41c.39.39.9.59 1.41.59.51 0 1.02-.2 1.41-.59l7.78-7.78 2.81-2.81c.8-.78.8-2.07 0-2.86zM5.41 20L4 18.59l7.72-7.72 1.47 1.35L5.41 20z\"/>\n",
              "  </svg>\n",
              "      </button>\n",
              "      \n",
              "  <style>\n",
              "    .colab-df-container {\n",
              "      display:flex;\n",
              "      flex-wrap:wrap;\n",
              "      gap: 12px;\n",
              "    }\n",
              "\n",
              "    .colab-df-convert {\n",
              "      background-color: #E8F0FE;\n",
              "      border: none;\n",
              "      border-radius: 50%;\n",
              "      cursor: pointer;\n",
              "      display: none;\n",
              "      fill: #1967D2;\n",
              "      height: 32px;\n",
              "      padding: 0 0 0 0;\n",
              "      width: 32px;\n",
              "    }\n",
              "\n",
              "    .colab-df-convert:hover {\n",
              "      background-color: #E2EBFA;\n",
              "      box-shadow: 0px 1px 2px rgba(60, 64, 67, 0.3), 0px 1px 3px 1px rgba(60, 64, 67, 0.15);\n",
              "      fill: #174EA6;\n",
              "    }\n",
              "\n",
              "    [theme=dark] .colab-df-convert {\n",
              "      background-color: #3B4455;\n",
              "      fill: #D2E3FC;\n",
              "    }\n",
              "\n",
              "    [theme=dark] .colab-df-convert:hover {\n",
              "      background-color: #434B5C;\n",
              "      box-shadow: 0px 1px 3px 1px rgba(0, 0, 0, 0.15);\n",
              "      filter: drop-shadow(0px 1px 2px rgba(0, 0, 0, 0.3));\n",
              "      fill: #FFFFFF;\n",
              "    }\n",
              "  </style>\n",
              "\n",
              "      <script>\n",
              "        const buttonEl =\n",
              "          document.querySelector('#df-7058655e-a3e5-4a1b-94ae-89a15a0ea78e button.colab-df-convert');\n",
              "        buttonEl.style.display =\n",
              "          google.colab.kernel.accessAllowed ? 'block' : 'none';\n",
              "\n",
              "        async function convertToInteractive(key) {\n",
              "          const element = document.querySelector('#df-7058655e-a3e5-4a1b-94ae-89a15a0ea78e');\n",
              "          const dataTable =\n",
              "            await google.colab.kernel.invokeFunction('convertToInteractive',\n",
              "                                                     [key], {});\n",
              "          if (!dataTable) return;\n",
              "\n",
              "          const docLinkHtml = 'Like what you see? Visit the ' +\n",
              "            '<a target=\"_blank\" href=https://colab.research.google.com/notebooks/data_table.ipynb>data table notebook</a>'\n",
              "            + ' to learn more about interactive tables.';\n",
              "          element.innerHTML = '';\n",
              "          dataTable['output_type'] = 'display_data';\n",
              "          await google.colab.output.renderOutput(dataTable, element);\n",
              "          const docLink = document.createElement('div');\n",
              "          docLink.innerHTML = docLinkHtml;\n",
              "          element.appendChild(docLink);\n",
              "        }\n",
              "      </script>\n",
              "    </div>\n",
              "  </div>\n",
              "  "
            ]
          },
          "metadata": {},
          "execution_count": 138
        }
      ]
    },
    {
      "cell_type": "code",
      "source": [
        "# Call the function to fill labels in the DataFrame\n",
        "test_merged_df = fill_labels(test_merged_df)\n",
        "\n",
        "# Print the updated DataFrame\n",
        "test_merged_df.sample(5)"
      ],
      "metadata": {
        "colab": {
          "base_uri": "https://localhost:8080/",
          "height": 206
        },
        "id": "zCVwcsK9bGdS",
        "outputId": "6f5dc13f-e0d4-4b20-b19d-53034f07c636"
      },
      "execution_count": 139,
      "outputs": [
        {
          "output_type": "execute_result",
          "data": {
            "text/plain": [
              "                                                    Text  Emotion  \\\n",
              "10614  Who's not going to hoco and wants to go to fri...     fear   \n",
              "3850   I ate Something I don't know what it is... Why...    worry   \n",
              "5316   Morning...I woke up to watch @taylorswift13 on...      fun   \n",
              "9159   @Who_JN I've been having a quad shot every day...    anger   \n",
              "837    I didn't see much resemblance except maybe the...  Neutral   \n",
              "\n",
              "      Emotion_Label  \n",
              "10614       neutral  \n",
              "3850       Negative  \n",
              "5316       Positive  \n",
              "9159        neutral  \n",
              "837         Neutral  "
            ],
            "text/html": [
              "\n",
              "  <div id=\"df-717bc1b2-86ab-4ce7-840c-2ffbb1c3fa86\">\n",
              "    <div class=\"colab-df-container\">\n",
              "      <div>\n",
              "<style scoped>\n",
              "    .dataframe tbody tr th:only-of-type {\n",
              "        vertical-align: middle;\n",
              "    }\n",
              "\n",
              "    .dataframe tbody tr th {\n",
              "        vertical-align: top;\n",
              "    }\n",
              "\n",
              "    .dataframe thead th {\n",
              "        text-align: right;\n",
              "    }\n",
              "</style>\n",
              "<table border=\"1\" class=\"dataframe\">\n",
              "  <thead>\n",
              "    <tr style=\"text-align: right;\">\n",
              "      <th></th>\n",
              "      <th>Text</th>\n",
              "      <th>Emotion</th>\n",
              "      <th>Emotion_Label</th>\n",
              "    </tr>\n",
              "  </thead>\n",
              "  <tbody>\n",
              "    <tr>\n",
              "      <th>10614</th>\n",
              "      <td>Who's not going to hoco and wants to go to fri...</td>\n",
              "      <td>fear</td>\n",
              "      <td>neutral</td>\n",
              "    </tr>\n",
              "    <tr>\n",
              "      <th>3850</th>\n",
              "      <td>I ate Something I don't know what it is... Why...</td>\n",
              "      <td>worry</td>\n",
              "      <td>Negative</td>\n",
              "    </tr>\n",
              "    <tr>\n",
              "      <th>5316</th>\n",
              "      <td>Morning...I woke up to watch @taylorswift13 on...</td>\n",
              "      <td>fun</td>\n",
              "      <td>Positive</td>\n",
              "    </tr>\n",
              "    <tr>\n",
              "      <th>9159</th>\n",
              "      <td>@Who_JN I've been having a quad shot every day...</td>\n",
              "      <td>anger</td>\n",
              "      <td>neutral</td>\n",
              "    </tr>\n",
              "    <tr>\n",
              "      <th>837</th>\n",
              "      <td>I didn't see much resemblance except maybe the...</td>\n",
              "      <td>Neutral</td>\n",
              "      <td>Neutral</td>\n",
              "    </tr>\n",
              "  </tbody>\n",
              "</table>\n",
              "</div>\n",
              "      <button class=\"colab-df-convert\" onclick=\"convertToInteractive('df-717bc1b2-86ab-4ce7-840c-2ffbb1c3fa86')\"\n",
              "              title=\"Convert this dataframe to an interactive table.\"\n",
              "              style=\"display:none;\">\n",
              "        \n",
              "  <svg xmlns=\"http://www.w3.org/2000/svg\" height=\"24px\"viewBox=\"0 0 24 24\"\n",
              "       width=\"24px\">\n",
              "    <path d=\"M0 0h24v24H0V0z\" fill=\"none\"/>\n",
              "    <path d=\"M18.56 5.44l.94 2.06.94-2.06 2.06-.94-2.06-.94-.94-2.06-.94 2.06-2.06.94zm-11 1L8.5 8.5l.94-2.06 2.06-.94-2.06-.94L8.5 2.5l-.94 2.06-2.06.94zm10 10l.94 2.06.94-2.06 2.06-.94-2.06-.94-.94-2.06-.94 2.06-2.06.94z\"/><path d=\"M17.41 7.96l-1.37-1.37c-.4-.4-.92-.59-1.43-.59-.52 0-1.04.2-1.43.59L10.3 9.45l-7.72 7.72c-.78.78-.78 2.05 0 2.83L4 21.41c.39.39.9.59 1.41.59.51 0 1.02-.2 1.41-.59l7.78-7.78 2.81-2.81c.8-.78.8-2.07 0-2.86zM5.41 20L4 18.59l7.72-7.72 1.47 1.35L5.41 20z\"/>\n",
              "  </svg>\n",
              "      </button>\n",
              "      \n",
              "  <style>\n",
              "    .colab-df-container {\n",
              "      display:flex;\n",
              "      flex-wrap:wrap;\n",
              "      gap: 12px;\n",
              "    }\n",
              "\n",
              "    .colab-df-convert {\n",
              "      background-color: #E8F0FE;\n",
              "      border: none;\n",
              "      border-radius: 50%;\n",
              "      cursor: pointer;\n",
              "      display: none;\n",
              "      fill: #1967D2;\n",
              "      height: 32px;\n",
              "      padding: 0 0 0 0;\n",
              "      width: 32px;\n",
              "    }\n",
              "\n",
              "    .colab-df-convert:hover {\n",
              "      background-color: #E2EBFA;\n",
              "      box-shadow: 0px 1px 2px rgba(60, 64, 67, 0.3), 0px 1px 3px 1px rgba(60, 64, 67, 0.15);\n",
              "      fill: #174EA6;\n",
              "    }\n",
              "\n",
              "    [theme=dark] .colab-df-convert {\n",
              "      background-color: #3B4455;\n",
              "      fill: #D2E3FC;\n",
              "    }\n",
              "\n",
              "    [theme=dark] .colab-df-convert:hover {\n",
              "      background-color: #434B5C;\n",
              "      box-shadow: 0px 1px 3px 1px rgba(0, 0, 0, 0.15);\n",
              "      filter: drop-shadow(0px 1px 2px rgba(0, 0, 0, 0.3));\n",
              "      fill: #FFFFFF;\n",
              "    }\n",
              "  </style>\n",
              "\n",
              "      <script>\n",
              "        const buttonEl =\n",
              "          document.querySelector('#df-717bc1b2-86ab-4ce7-840c-2ffbb1c3fa86 button.colab-df-convert');\n",
              "        buttonEl.style.display =\n",
              "          google.colab.kernel.accessAllowed ? 'block' : 'none';\n",
              "\n",
              "        async function convertToInteractive(key) {\n",
              "          const element = document.querySelector('#df-717bc1b2-86ab-4ce7-840c-2ffbb1c3fa86');\n",
              "          const dataTable =\n",
              "            await google.colab.kernel.invokeFunction('convertToInteractive',\n",
              "                                                     [key], {});\n",
              "          if (!dataTable) return;\n",
              "\n",
              "          const docLinkHtml = 'Like what you see? Visit the ' +\n",
              "            '<a target=\"_blank\" href=https://colab.research.google.com/notebooks/data_table.ipynb>data table notebook</a>'\n",
              "            + ' to learn more about interactive tables.';\n",
              "          element.innerHTML = '';\n",
              "          dataTable['output_type'] = 'display_data';\n",
              "          await google.colab.output.renderOutput(dataTable, element);\n",
              "          const docLink = document.createElement('div');\n",
              "          docLink.innerHTML = docLinkHtml;\n",
              "          element.appendChild(docLink);\n",
              "        }\n",
              "      </script>\n",
              "    </div>\n",
              "  </div>\n",
              "  "
            ]
          },
          "metadata": {},
          "execution_count": 139
        }
      ]
    },
    {
      "cell_type": "markdown",
      "source": [
        "Lets see what emotions we have here:"
      ],
      "metadata": {
        "id": "jTuJOmFVLbTO"
      }
    },
    {
      "cell_type": "code",
      "source": [
        "#this part is for encoding which u didnt do it\n",
        "\n",
        "test_unique_emotions = test_merged_df['Emotion'].unique()\n",
        "\n",
        "# Print the unique emotions\n",
        "print(test_unique_emotions)\n",
        "\n",
        "#remember to change the lower and upper case words to one"
      ],
      "metadata": {
        "colab": {
          "base_uri": "https://localhost:8080/"
        },
        "id": "K_Q6zG5pQgzs",
        "outputId": "273dda92-19d8-49b9-eafe-1c9e154ff461"
      },
      "execution_count": 140,
      "outputs": [
        {
          "output_type": "stream",
          "name": "stdout",
          "text": [
            "['Neutral' 'Positive' 'Negative' 'neutral' 'empty' 'love' 'sadness'\n",
            " 'happiness' 'worry' 'relief' 'hate' 'surprise' 'fun' 'boredom'\n",
            " 'enthusiasm' 'anger' 'fear' 'joy']\n"
          ]
        }
      ]
    },
    {
      "cell_type": "markdown",
      "source": [
        "*   Cornell Movie-Dialogs Corpus\n"
      ],
      "metadata": {
        "id": "SM5B2UMCGUD_"
      }
    },
    {
      "cell_type": "markdown",
      "source": [
        "1. *Conversational-level information:*\n",
        "\n",
        "\n",
        "Conversations are indexed by the id of the first utterance that make the conversation. For each conversation we provide:\n",
        "\n",
        "`movie_idx`: index of the movie from which this utterance occurs\n",
        "\n",
        "`movie_name`: title of the movie\n",
        "\n",
        "`release_year`: year of movie release\n",
        "\n",
        "`rating`: IMDB rating of the movie\n",
        "\n",
        "`votes`: number of IMDB votes\n",
        "\n",
        "`genre`: a list of genres this movie belongs to"
      ],
      "metadata": {
        "id": "wEUkbH7tPCKT"
      }
    },
    {
      "cell_type": "code",
      "source": [
        "text = conversations_df.loc[1044, 'meta']\n",
        "print(text)"
      ],
      "metadata": {
        "colab": {
          "base_uri": "https://localhost:8080/"
        },
        "id": "igEZ8lC_E1XA",
        "outputId": "b03152bf-e946-4072-98fb-f92565220c7c"
      },
      "execution_count": 141,
      "outputs": [
        {
          "output_type": "stream",
          "name": "stdout",
          "text": [
            "{'movie_idx': 'm7', 'movie_name': 'a nightmare on elm street 4: the dream master', 'release_year': '1988', 'rating': '5.20', 'votes': '13590', 'genre': \"['fantasy', 'horror', 'thriller']\"}\n"
          ]
        }
      ]
    },
    {
      "cell_type": "code",
      "source": [
        "# Extract separate columns from 'meta'\n",
        "conversations_df[['movie_idx', 'movie_name', 'release_year', 'rating', 'votes', 'genre']] = conversations_df['meta'].apply(pd.Series)\n",
        "\n",
        "# Drop the original 'meta' column\n",
        "conversations_df.drop('meta', axis=1, inplace=True)"
      ],
      "metadata": {
        "id": "I4ZFuDL2IfZ1"
      },
      "execution_count": 142,
      "outputs": []
    },
    {
      "cell_type": "code",
      "source": [
        "conversations_df.sample(5)"
      ],
      "metadata": {
        "colab": {
          "base_uri": "https://localhost:8080/",
          "height": 206
        },
        "id": "lVg801JEIrFh",
        "outputId": "6dcb8e60-7e57-4c57-b103-834430e0d510"
      },
      "execution_count": 143,
      "outputs": [
        {
          "output_type": "execute_result",
          "data": {
            "text/plain": [
              "         index vectors movie_idx              movie_name release_year rating  \\\n",
              "69672  L500936      []      m513                 shampoo         1975   6.20   \n",
              "49676  L218888      []      m353        five easy pieces         1970   7.50   \n",
              "8606   L221959      []       m62                 frances         1982   7.20   \n",
              "51618  L247935      []      m371   gone in sixty seconds         2000   6.00   \n",
              "26820  L545970      []      m191  star trek: generations         1994   6.50   \n",
              "\n",
              "       votes                                        genre  \n",
              "69672   4406                         ['drama', 'romance']  \n",
              "49676  11969                                    ['drama']  \n",
              "8606    2756                       ['biography', 'drama']  \n",
              "51618  74474              ['action', 'crime', 'thriller']  \n",
              "26820  26662  ['action', 'mystery', 'sci-fi', 'thriller']  "
            ],
            "text/html": [
              "\n",
              "  <div id=\"df-76cb6d0b-4a1c-4d1b-b017-53525c2a431b\">\n",
              "    <div class=\"colab-df-container\">\n",
              "      <div>\n",
              "<style scoped>\n",
              "    .dataframe tbody tr th:only-of-type {\n",
              "        vertical-align: middle;\n",
              "    }\n",
              "\n",
              "    .dataframe tbody tr th {\n",
              "        vertical-align: top;\n",
              "    }\n",
              "\n",
              "    .dataframe thead th {\n",
              "        text-align: right;\n",
              "    }\n",
              "</style>\n",
              "<table border=\"1\" class=\"dataframe\">\n",
              "  <thead>\n",
              "    <tr style=\"text-align: right;\">\n",
              "      <th></th>\n",
              "      <th>index</th>\n",
              "      <th>vectors</th>\n",
              "      <th>movie_idx</th>\n",
              "      <th>movie_name</th>\n",
              "      <th>release_year</th>\n",
              "      <th>rating</th>\n",
              "      <th>votes</th>\n",
              "      <th>genre</th>\n",
              "    </tr>\n",
              "  </thead>\n",
              "  <tbody>\n",
              "    <tr>\n",
              "      <th>69672</th>\n",
              "      <td>L500936</td>\n",
              "      <td>[]</td>\n",
              "      <td>m513</td>\n",
              "      <td>shampoo</td>\n",
              "      <td>1975</td>\n",
              "      <td>6.20</td>\n",
              "      <td>4406</td>\n",
              "      <td>['drama', 'romance']</td>\n",
              "    </tr>\n",
              "    <tr>\n",
              "      <th>49676</th>\n",
              "      <td>L218888</td>\n",
              "      <td>[]</td>\n",
              "      <td>m353</td>\n",
              "      <td>five easy pieces</td>\n",
              "      <td>1970</td>\n",
              "      <td>7.50</td>\n",
              "      <td>11969</td>\n",
              "      <td>['drama']</td>\n",
              "    </tr>\n",
              "    <tr>\n",
              "      <th>8606</th>\n",
              "      <td>L221959</td>\n",
              "      <td>[]</td>\n",
              "      <td>m62</td>\n",
              "      <td>frances</td>\n",
              "      <td>1982</td>\n",
              "      <td>7.20</td>\n",
              "      <td>2756</td>\n",
              "      <td>['biography', 'drama']</td>\n",
              "    </tr>\n",
              "    <tr>\n",
              "      <th>51618</th>\n",
              "      <td>L247935</td>\n",
              "      <td>[]</td>\n",
              "      <td>m371</td>\n",
              "      <td>gone in sixty seconds</td>\n",
              "      <td>2000</td>\n",
              "      <td>6.00</td>\n",
              "      <td>74474</td>\n",
              "      <td>['action', 'crime', 'thriller']</td>\n",
              "    </tr>\n",
              "    <tr>\n",
              "      <th>26820</th>\n",
              "      <td>L545970</td>\n",
              "      <td>[]</td>\n",
              "      <td>m191</td>\n",
              "      <td>star trek: generations</td>\n",
              "      <td>1994</td>\n",
              "      <td>6.50</td>\n",
              "      <td>26662</td>\n",
              "      <td>['action', 'mystery', 'sci-fi', 'thriller']</td>\n",
              "    </tr>\n",
              "  </tbody>\n",
              "</table>\n",
              "</div>\n",
              "      <button class=\"colab-df-convert\" onclick=\"convertToInteractive('df-76cb6d0b-4a1c-4d1b-b017-53525c2a431b')\"\n",
              "              title=\"Convert this dataframe to an interactive table.\"\n",
              "              style=\"display:none;\">\n",
              "        \n",
              "  <svg xmlns=\"http://www.w3.org/2000/svg\" height=\"24px\"viewBox=\"0 0 24 24\"\n",
              "       width=\"24px\">\n",
              "    <path d=\"M0 0h24v24H0V0z\" fill=\"none\"/>\n",
              "    <path d=\"M18.56 5.44l.94 2.06.94-2.06 2.06-.94-2.06-.94-.94-2.06-.94 2.06-2.06.94zm-11 1L8.5 8.5l.94-2.06 2.06-.94-2.06-.94L8.5 2.5l-.94 2.06-2.06.94zm10 10l.94 2.06.94-2.06 2.06-.94-2.06-.94-.94-2.06-.94 2.06-2.06.94z\"/><path d=\"M17.41 7.96l-1.37-1.37c-.4-.4-.92-.59-1.43-.59-.52 0-1.04.2-1.43.59L10.3 9.45l-7.72 7.72c-.78.78-.78 2.05 0 2.83L4 21.41c.39.39.9.59 1.41.59.51 0 1.02-.2 1.41-.59l7.78-7.78 2.81-2.81c.8-.78.8-2.07 0-2.86zM5.41 20L4 18.59l7.72-7.72 1.47 1.35L5.41 20z\"/>\n",
              "  </svg>\n",
              "      </button>\n",
              "      \n",
              "  <style>\n",
              "    .colab-df-container {\n",
              "      display:flex;\n",
              "      flex-wrap:wrap;\n",
              "      gap: 12px;\n",
              "    }\n",
              "\n",
              "    .colab-df-convert {\n",
              "      background-color: #E8F0FE;\n",
              "      border: none;\n",
              "      border-radius: 50%;\n",
              "      cursor: pointer;\n",
              "      display: none;\n",
              "      fill: #1967D2;\n",
              "      height: 32px;\n",
              "      padding: 0 0 0 0;\n",
              "      width: 32px;\n",
              "    }\n",
              "\n",
              "    .colab-df-convert:hover {\n",
              "      background-color: #E2EBFA;\n",
              "      box-shadow: 0px 1px 2px rgba(60, 64, 67, 0.3), 0px 1px 3px 1px rgba(60, 64, 67, 0.15);\n",
              "      fill: #174EA6;\n",
              "    }\n",
              "\n",
              "    [theme=dark] .colab-df-convert {\n",
              "      background-color: #3B4455;\n",
              "      fill: #D2E3FC;\n",
              "    }\n",
              "\n",
              "    [theme=dark] .colab-df-convert:hover {\n",
              "      background-color: #434B5C;\n",
              "      box-shadow: 0px 1px 3px 1px rgba(0, 0, 0, 0.15);\n",
              "      filter: drop-shadow(0px 1px 2px rgba(0, 0, 0, 0.3));\n",
              "      fill: #FFFFFF;\n",
              "    }\n",
              "  </style>\n",
              "\n",
              "      <script>\n",
              "        const buttonEl =\n",
              "          document.querySelector('#df-76cb6d0b-4a1c-4d1b-b017-53525c2a431b button.colab-df-convert');\n",
              "        buttonEl.style.display =\n",
              "          google.colab.kernel.accessAllowed ? 'block' : 'none';\n",
              "\n",
              "        async function convertToInteractive(key) {\n",
              "          const element = document.querySelector('#df-76cb6d0b-4a1c-4d1b-b017-53525c2a431b');\n",
              "          const dataTable =\n",
              "            await google.colab.kernel.invokeFunction('convertToInteractive',\n",
              "                                                     [key], {});\n",
              "          if (!dataTable) return;\n",
              "\n",
              "          const docLinkHtml = 'Like what you see? Visit the ' +\n",
              "            '<a target=\"_blank\" href=https://colab.research.google.com/notebooks/data_table.ipynb>data table notebook</a>'\n",
              "            + ' to learn more about interactive tables.';\n",
              "          element.innerHTML = '';\n",
              "          dataTable['output_type'] = 'display_data';\n",
              "          await google.colab.output.renderOutput(dataTable, element);\n",
              "          const docLink = document.createElement('div');\n",
              "          docLink.innerHTML = docLinkHtml;\n",
              "          element.appendChild(docLink);\n",
              "        }\n",
              "      </script>\n",
              "    </div>\n",
              "  </div>\n",
              "  "
            ]
          },
          "metadata": {},
          "execution_count": 143
        }
      ]
    },
    {
      "cell_type": "markdown",
      "source": [
        "2. *Corpus-level information:*\n",
        "\n",
        "Additional information for the movies these conversations occur are included as Corpus-level metadata, which includes, for each movie:\n",
        "\n",
        "`url`: a dictionary mapping movie_idx to the url from which the raw sources were retrieved\n",
        "\n",
        "`name`: name of the corpus"
      ],
      "metadata": {
        "id": "WUlvHWimPV1C"
      }
    },
    {
      "cell_type": "code",
      "source": [
        "#No further preprocessing needed! (at least for now)"
      ],
      "metadata": {
        "id": "KOqnQ1YxPb1p"
      },
      "execution_count": null,
      "outputs": []
    },
    {
      "cell_type": "markdown",
      "source": [
        "3. *Speaker-level information:*\n",
        "\n",
        "speakers in this dataset are movie characters. We take speaker index from the original data release as the speaker name. For each character, we further provide the following information as speaker-level metadata:\n",
        "\n",
        "`character_name`: name of the character in the movie\n",
        "\n",
        "`movie_idx`: index of the movie this character appears in\n",
        "\n",
        "`movie_name`: title of the movie\n",
        "\n",
        "`gender`: gender of the character (“?” for unlabeled cases)\n",
        "\n",
        "`credit_pos`: position on movie credits (“?” for unlabeled cases)"
      ],
      "metadata": {
        "id": "yKZlkDLuQGmp"
      }
    },
    {
      "cell_type": "code",
      "source": [
        "# Extract separate columns from 'meta'\n",
        "speakers_df[['movie_idx','character_name','movie_name','genre','credit_pos']] = speakers_df['meta'].apply(pd.Series)\n",
        "\n",
        "# Drop the original 'meta' column\n",
        "speakers_df.drop('meta', axis=1, inplace=True)"
      ],
      "metadata": {
        "id": "gvrTc8PlJtjR"
      },
      "execution_count": 144,
      "outputs": []
    },
    {
      "cell_type": "code",
      "source": [
        "speakers_df.sample(5)"
      ],
      "metadata": {
        "colab": {
          "base_uri": "https://localhost:8080/",
          "height": 206
        },
        "id": "w8N1_gopKN0E",
        "outputId": "914d61ad-0a88-4db6-e5d7-33201a0643d4"
      },
      "execution_count": 145,
      "outputs": [
        {
          "output_type": "execute_result",
          "data": {
            "text/plain": [
              "      index vectors  movie_idx character_name                    movie_name  \\\n",
              "7287  u7295      []    VALIANT           m492       who framed roger rabbit   \n",
              "1304  u1302      []    2ND MAN            m87                    hellraiser   \n",
              "8590  u8586      []     MOTHER           m582                 trainspotting   \n",
              "913    u907      []    GRIFFIN            m59  fast times at ridgemont high   \n",
              "7434  u7432      []  ASSISTANT           m503               say anything...   \n",
              "\n",
              "     genre credit_pos  \n",
              "7287     m          1  \n",
              "1304     ?          ?  \n",
              "8590     ?          ?  \n",
              "913      ?          ?  \n",
              "7434     ?          ?  "
            ],
            "text/html": [
              "\n",
              "  <div id=\"df-8656d49a-9c49-4f53-bc08-b1e82d6a8b46\">\n",
              "    <div class=\"colab-df-container\">\n",
              "      <div>\n",
              "<style scoped>\n",
              "    .dataframe tbody tr th:only-of-type {\n",
              "        vertical-align: middle;\n",
              "    }\n",
              "\n",
              "    .dataframe tbody tr th {\n",
              "        vertical-align: top;\n",
              "    }\n",
              "\n",
              "    .dataframe thead th {\n",
              "        text-align: right;\n",
              "    }\n",
              "</style>\n",
              "<table border=\"1\" class=\"dataframe\">\n",
              "  <thead>\n",
              "    <tr style=\"text-align: right;\">\n",
              "      <th></th>\n",
              "      <th>index</th>\n",
              "      <th>vectors</th>\n",
              "      <th>movie_idx</th>\n",
              "      <th>character_name</th>\n",
              "      <th>movie_name</th>\n",
              "      <th>genre</th>\n",
              "      <th>credit_pos</th>\n",
              "    </tr>\n",
              "  </thead>\n",
              "  <tbody>\n",
              "    <tr>\n",
              "      <th>7287</th>\n",
              "      <td>u7295</td>\n",
              "      <td>[]</td>\n",
              "      <td>VALIANT</td>\n",
              "      <td>m492</td>\n",
              "      <td>who framed roger rabbit</td>\n",
              "      <td>m</td>\n",
              "      <td>1</td>\n",
              "    </tr>\n",
              "    <tr>\n",
              "      <th>1304</th>\n",
              "      <td>u1302</td>\n",
              "      <td>[]</td>\n",
              "      <td>2ND MAN</td>\n",
              "      <td>m87</td>\n",
              "      <td>hellraiser</td>\n",
              "      <td>?</td>\n",
              "      <td>?</td>\n",
              "    </tr>\n",
              "    <tr>\n",
              "      <th>8590</th>\n",
              "      <td>u8586</td>\n",
              "      <td>[]</td>\n",
              "      <td>MOTHER</td>\n",
              "      <td>m582</td>\n",
              "      <td>trainspotting</td>\n",
              "      <td>?</td>\n",
              "      <td>?</td>\n",
              "    </tr>\n",
              "    <tr>\n",
              "      <th>913</th>\n",
              "      <td>u907</td>\n",
              "      <td>[]</td>\n",
              "      <td>GRIFFIN</td>\n",
              "      <td>m59</td>\n",
              "      <td>fast times at ridgemont high</td>\n",
              "      <td>?</td>\n",
              "      <td>?</td>\n",
              "    </tr>\n",
              "    <tr>\n",
              "      <th>7434</th>\n",
              "      <td>u7432</td>\n",
              "      <td>[]</td>\n",
              "      <td>ASSISTANT</td>\n",
              "      <td>m503</td>\n",
              "      <td>say anything...</td>\n",
              "      <td>?</td>\n",
              "      <td>?</td>\n",
              "    </tr>\n",
              "  </tbody>\n",
              "</table>\n",
              "</div>\n",
              "      <button class=\"colab-df-convert\" onclick=\"convertToInteractive('df-8656d49a-9c49-4f53-bc08-b1e82d6a8b46')\"\n",
              "              title=\"Convert this dataframe to an interactive table.\"\n",
              "              style=\"display:none;\">\n",
              "        \n",
              "  <svg xmlns=\"http://www.w3.org/2000/svg\" height=\"24px\"viewBox=\"0 0 24 24\"\n",
              "       width=\"24px\">\n",
              "    <path d=\"M0 0h24v24H0V0z\" fill=\"none\"/>\n",
              "    <path d=\"M18.56 5.44l.94 2.06.94-2.06 2.06-.94-2.06-.94-.94-2.06-.94 2.06-2.06.94zm-11 1L8.5 8.5l.94-2.06 2.06-.94-2.06-.94L8.5 2.5l-.94 2.06-2.06.94zm10 10l.94 2.06.94-2.06 2.06-.94-2.06-.94-.94-2.06-.94 2.06-2.06.94z\"/><path d=\"M17.41 7.96l-1.37-1.37c-.4-.4-.92-.59-1.43-.59-.52 0-1.04.2-1.43.59L10.3 9.45l-7.72 7.72c-.78.78-.78 2.05 0 2.83L4 21.41c.39.39.9.59 1.41.59.51 0 1.02-.2 1.41-.59l7.78-7.78 2.81-2.81c.8-.78.8-2.07 0-2.86zM5.41 20L4 18.59l7.72-7.72 1.47 1.35L5.41 20z\"/>\n",
              "  </svg>\n",
              "      </button>\n",
              "      \n",
              "  <style>\n",
              "    .colab-df-container {\n",
              "      display:flex;\n",
              "      flex-wrap:wrap;\n",
              "      gap: 12px;\n",
              "    }\n",
              "\n",
              "    .colab-df-convert {\n",
              "      background-color: #E8F0FE;\n",
              "      border: none;\n",
              "      border-radius: 50%;\n",
              "      cursor: pointer;\n",
              "      display: none;\n",
              "      fill: #1967D2;\n",
              "      height: 32px;\n",
              "      padding: 0 0 0 0;\n",
              "      width: 32px;\n",
              "    }\n",
              "\n",
              "    .colab-df-convert:hover {\n",
              "      background-color: #E2EBFA;\n",
              "      box-shadow: 0px 1px 2px rgba(60, 64, 67, 0.3), 0px 1px 3px 1px rgba(60, 64, 67, 0.15);\n",
              "      fill: #174EA6;\n",
              "    }\n",
              "\n",
              "    [theme=dark] .colab-df-convert {\n",
              "      background-color: #3B4455;\n",
              "      fill: #D2E3FC;\n",
              "    }\n",
              "\n",
              "    [theme=dark] .colab-df-convert:hover {\n",
              "      background-color: #434B5C;\n",
              "      box-shadow: 0px 1px 3px 1px rgba(0, 0, 0, 0.15);\n",
              "      filter: drop-shadow(0px 1px 2px rgba(0, 0, 0, 0.3));\n",
              "      fill: #FFFFFF;\n",
              "    }\n",
              "  </style>\n",
              "\n",
              "      <script>\n",
              "        const buttonEl =\n",
              "          document.querySelector('#df-8656d49a-9c49-4f53-bc08-b1e82d6a8b46 button.colab-df-convert');\n",
              "        buttonEl.style.display =\n",
              "          google.colab.kernel.accessAllowed ? 'block' : 'none';\n",
              "\n",
              "        async function convertToInteractive(key) {\n",
              "          const element = document.querySelector('#df-8656d49a-9c49-4f53-bc08-b1e82d6a8b46');\n",
              "          const dataTable =\n",
              "            await google.colab.kernel.invokeFunction('convertToInteractive',\n",
              "                                                     [key], {});\n",
              "          if (!dataTable) return;\n",
              "\n",
              "          const docLinkHtml = 'Like what you see? Visit the ' +\n",
              "            '<a target=\"_blank\" href=https://colab.research.google.com/notebooks/data_table.ipynb>data table notebook</a>'\n",
              "            + ' to learn more about interactive tables.';\n",
              "          element.innerHTML = '';\n",
              "          dataTable['output_type'] = 'display_data';\n",
              "          await google.colab.output.renderOutput(dataTable, element);\n",
              "          const docLink = document.createElement('div');\n",
              "          docLink.innerHTML = docLinkHtml;\n",
              "          element.appendChild(docLink);\n",
              "        }\n",
              "      </script>\n",
              "    </div>\n",
              "  </div>\n",
              "  "
            ]
          },
          "metadata": {},
          "execution_count": 145
        }
      ]
    },
    {
      "cell_type": "markdown",
      "source": [
        "4. *Utterance-level information:*\n",
        "\n",
        "For each utterance, we provide:\n",
        "\n",
        "`id`: index of the utterance\n",
        "\n",
        "`speaker`: the speaker who authored the utterance\n",
        "\n",
        "`conversation_id`: id of the first utterance in the conversation this utterance belongs to\n",
        "\n",
        "`reply_to`: id of the utterance to which this utterance replies to (None if the utterance is not a reply)\n",
        "\n",
        "`timestamp`: time of the utterance\n",
        "\n",
        "`text`: textual content of the utterance\n",
        "\n",
        "Metadata for utterances include:\n",
        "\n",
        "`movie_idx`: index of the movie from which this utterance occurs\n",
        "\n",
        "`parsed`: parsed version of the utterance text, represented as a SpaCy Doc"
      ],
      "metadata": {
        "id": "xrAL4h2iQP5h"
      }
    },
    {
      "cell_type": "markdown",
      "source": [
        "Lets take a closer look at what exactly is inside the dataframe. I want to know about the structure of `meta` column."
      ],
      "metadata": {
        "id": "lA3_3Sex-1zy"
      }
    },
    {
      "cell_type": "code",
      "source": [
        "text1 = movie_df.loc[6697, 'meta']\n",
        "text2 = movie_df.loc[6643, 'meta']\n",
        "text3 = movie_df.loc[5742, 'meta']\n",
        "\n",
        "print(text1)\n",
        "print(text2)\n",
        "print(text3)"
      ],
      "metadata": {
        "colab": {
          "base_uri": "https://localhost:8080/"
        },
        "id": "pFXzWjS2QcPX",
        "outputId": "01826151-ab3a-45b8-ea4c-a359466b3d4c"
      },
      "execution_count": 146,
      "outputs": [
        {
          "output_type": "stream",
          "name": "stdout",
          "text": [
            "{'movie_id': 'm16', 'parsed': [{'rt': 5, 'toks': [{'tok': 'In', 'tag': 'IN', 'dep': 'prep', 'up': 5, 'dn': [2]}, {'tok': 'my', 'tag': 'PRP$', 'dep': 'poss', 'up': 2, 'dn': []}, {'tok': 'opinion', 'tag': 'NN', 'dep': 'pobj', 'up': 0, 'dn': [1]}, {'tok': ',', 'tag': ',', 'dep': 'punct', 'up': 5, 'dn': []}, {'tok': 'it', 'tag': 'PRP', 'dep': 'nsubj', 'up': 5, 'dn': []}, {'tok': 'is', 'tag': 'VBZ', 'dep': 'ROOT', 'dn': [0, 3, 4, 6, 17]}, {'tok': 'time', 'tag': 'NN', 'dep': 'attr', 'up': 5, 'dn': [8]}, {'tok': 'we', 'tag': 'PRP', 'dep': 'nsubj', 'up': 8, 'dn': []}, {'tok': 'had', 'tag': 'VBD', 'dep': 'relcl', 'up': 6, 'dn': [7, 10, 15, 16]}, {'tok': 'a', 'tag': 'DT', 'dep': 'det', 'up': 10, 'dn': []}, {'tok': 'piece', 'tag': 'NN', 'dep': 'dobj', 'up': 8, 'dn': [9, 11]}, {'tok': 'in', 'tag': 'IN', 'dep': 'prep', 'up': 10, 'dn': [14]}, {'tok': 'our', 'tag': 'PRP$', 'dep': 'poss', 'up': 14, 'dn': []}, {'tok': 'own', 'tag': 'JJ', 'dep': 'amod', 'up': 14, 'dn': []}, {'tok': 'language', 'tag': 'NN', 'dep': 'pobj', 'up': 11, 'dn': [12, 13]}, {'tok': ',', 'tag': ',', 'dep': 'punct', 'up': 8, 'dn': []}, {'tok': 'sir', 'tag': 'NN', 'dep': 'npadvmod', 'up': 8, 'dn': []}, {'tok': '.', 'tag': '.', 'dep': 'punct', 'up': 5, 'dn': []}]}, {'rt': 1, 'toks': [{'tok': 'Plain', 'tag': 'JJ', 'dep': 'amod', 'up': 1, 'dn': []}, {'tok': 'German', 'tag': 'JJ', 'dep': 'ROOT', 'dn': [0, 2]}, {'tok': '.', 'tag': '.', 'dep': 'punct', 'up': 1, 'dn': []}]}, {'rt': 0, 'toks': [{'tok': 'For', 'tag': 'IN', 'dep': 'ROOT', 'dn': [2, 3]}, {'tok': 'plain', 'tag': 'JJ', 'dep': 'amod', 'up': 2, 'dn': []}, {'tok': 'people', 'tag': 'NNS', 'dep': 'pobj', 'up': 0, 'dn': [1]}, {'tok': '.', 'tag': '.', 'dep': 'punct', 'up': 0, 'dn': []}]}]}\n",
            "{'movie_id': 'm16', 'parsed': [{'rt': 2, 'toks': [{'tok': 'Yet', 'tag': 'CC', 'dep': 'cc', 'up': 2, 'dn': []}, {'tok': 'we', 'tag': 'PRP', 'dep': 'nsubj', 'up': 2, 'dn': []}, {'tok': 'hear', 'tag': 'VBP', 'dep': 'ROOT', 'dn': [0, 1, 5, 10]}, {'tok': 'you', 'tag': 'PRP', 'dep': 'nsubj', 'up': 5, 'dn': []}, {'tok': 'are', 'tag': 'VBP', 'dep': 'aux', 'up': 5, 'dn': []}, {'tok': 'making', 'tag': 'VBG', 'dep': 'ccomp', 'up': 2, 'dn': [3, 4, 7, 8]}, {'tok': 'an', 'tag': 'DT', 'dep': 'det', 'up': 7, 'dn': []}, {'tok': 'opera', 'tag': 'NN', 'dep': 'dobj', 'up': 5, 'dn': [6]}, {'tok': 'from', 'tag': 'IN', 'dep': 'prep', 'up': 5, 'dn': [9]}, {'tok': 'it', 'tag': 'PRP', 'dep': 'pobj', 'up': 8, 'dn': []}, {'tok': '.', 'tag': '.', 'dep': 'punct', 'up': 2, 'dn': []}]}, {'rt': 0, 'toks': [{'tok': 'Is', 'tag': 'VBZ', 'dep': 'ROOT', 'dn': [1, 2, 3]}, {'tok': 'this', 'tag': 'DT', 'dep': 'nsubj', 'up': 0, 'dn': []}, {'tok': 'true', 'tag': 'JJ', 'dep': 'acomp', 'up': 0, 'dn': []}, {'tok': '?', 'tag': '.', 'dep': 'punct', 'up': 0, 'dn': []}]}]}\n",
            "{'movie_id': 'm14', 'parsed': [{'rt': 2, 'toks': [{'tok': 'Uh', 'tag': 'UH', 'dep': 'intj', 'up': 2, 'dn': []}, {'tok': ',', 'tag': ',', 'dep': 'punct', 'up': 2, 'dn': []}, {'tok': 'Matthew', 'tag': 'NNP', 'dep': 'ROOT', 'dn': [0, 1, 3]}, {'tok': '...', 'tag': '.', 'dep': 'punct', 'up': 2, 'dn': []}]}]}\n"
          ]
        }
      ]
    },
    {
      "cell_type": "markdown",
      "source": [
        "As you can see, there are a lot of data in the `meta` column. We want to spllit them from each other so we can have more access to the data.\n",
        "\n",
        "So let's get some informations out of this column."
      ],
      "metadata": {
        "id": "2ncrV_vFovXC"
      }
    },
    {
      "cell_type": "code",
      "source": [
        "import ast\n",
        "from pandas.io.json import json_normalize"
      ],
      "metadata": {
        "id": "WGpPsIc8M1J4"
      },
      "execution_count": 147,
      "outputs": []
    },
    {
      "cell_type": "code",
      "source": [
        "import numpy as np"
      ],
      "metadata": {
        "id": "26Gen0uBWNVc"
      },
      "execution_count": 148,
      "outputs": []
    },
    {
      "cell_type": "markdown",
      "source": [
        "Now we are defining a function called `extract_meta_info` that serves the purpose of extracting important information from a `meta` object. This function ensures that the `meta` object is properly parsed, and it retrieves the `movie_id`, `parsed_rating`, and `parsed_tokens` from it. This extracted information is crucial for subsequent processing and analysis. If the extraction process encounters any issues or if the `parsed` object is empty, the function returns NaN values to indicate the absence of information."
      ],
      "metadata": {
        "id": "G6Utyugmrwjk"
      }
    },
    {
      "cell_type": "code",
      "source": [
        "def extract_meta_info(meta):\n",
        "    if isinstance(meta, str):\n",
        "        parsed = ast.literal_eval(meta)\n",
        "    else:\n",
        "        parsed = meta\n",
        "    if parsed:\n",
        "        movie_id = parsed['movie_id']\n",
        "        if parsed['parsed']:\n",
        "            parsed_rating = parsed['parsed'][0].get('rt')\n",
        "            parsed_tokens = parsed['parsed'][0].get('toks')\n",
        "            return movie_id, parsed_rating, parsed_tokens\n",
        "    return np.nan, np.nan, np.nan"
      ],
      "metadata": {
        "id": "UvKaGjBEl3Qe"
      },
      "execution_count": 149,
      "outputs": []
    },
    {
      "cell_type": "markdown",
      "source": [
        "\n",
        "In this part, we are assigning new columns to the movie_df DataFrame. These columns are named 'movie_id', 'parsed_rating', and 'parsed_tokens'.\n",
        "\n",
        "We are using the apply function on the 'meta' column of the DataFrame and applying the extract_meta_info function to each element. This function extracts the relevant information from the 'meta' object and returns it as a Series.\n",
        "\n",
        "By using apply(pd.Series), we expand the returned Series into separate columns. Finally, we assign these new columns to the movie_df DataFrame, allowing us to access and analyze the extracted information easily."
      ],
      "metadata": {
        "id": "serNTGXQr8V4"
      }
    },
    {
      "cell_type": "code",
      "source": [
        "movie_df[['movie_id', 'parsed_rating', 'parsed_tokens']] = movie_df['meta'].apply(extract_meta_info).apply(pd.Series)"
      ],
      "metadata": {
        "id": "0xqyd8VyknHL"
      },
      "execution_count": 150,
      "outputs": []
    },
    {
      "cell_type": "code",
      "source": [
        "movie_df.head()"
      ],
      "metadata": {
        "colab": {
          "base_uri": "https://localhost:8080/",
          "height": 354
        },
        "id": "rsfpwkkAUquh",
        "outputId": "49185238-09de-4e0f-f644-0f5c306118b0"
      },
      "execution_count": 151,
      "outputs": [
        {
          "output_type": "execute_result",
          "data": {
            "text/plain": [
              "      id conversation_id          text speaker  \\\n",
              "0  L1045           L1044  They do not!      u0   \n",
              "1  L1044           L1044   They do to!      u2   \n",
              "2   L985            L984    I hope so.      u0   \n",
              "3   L984            L984     She okay?      u2   \n",
              "4   L925            L924     Let's go.      u0   \n",
              "\n",
              "                                                meta reply-to timestamp  \\\n",
              "0  {'movie_id': 'm0', 'parsed': [{'rt': 1, 'toks'...    L1044       NaT   \n",
              "1  {'movie_id': 'm0', 'parsed': [{'rt': 1, 'toks'...     None       NaT   \n",
              "2  {'movie_id': 'm0', 'parsed': [{'rt': 1, 'toks'...     L984       NaT   \n",
              "3  {'movie_id': 'm0', 'parsed': [{'rt': 1, 'toks'...     None       NaT   \n",
              "4  {'movie_id': 'm0', 'parsed': [{'rt': 0, 'toks'...     L924       NaT   \n",
              "\n",
              "  vectors movie_id  parsed_rating  \\\n",
              "0      []       m0            1.0   \n",
              "1      []       m0            1.0   \n",
              "2      []       m0            1.0   \n",
              "3      []       m0            1.0   \n",
              "4      []       m0            0.0   \n",
              "\n",
              "                                       parsed_tokens  \n",
              "0  [{'tok': 'They', 'tag': 'PRP', 'dep': 'nsubj',...  \n",
              "1  [{'tok': 'They', 'tag': 'PRP', 'dep': 'nsubj',...  \n",
              "2  [{'tok': 'I', 'tag': 'PRP', 'dep': 'nsubj', 'u...  \n",
              "3  [{'tok': 'She', 'tag': 'PRP', 'dep': 'nsubj', ...  \n",
              "4  [{'tok': 'Let', 'tag': 'VB', 'dep': 'ROOT', 'd...  "
            ],
            "text/html": [
              "\n",
              "  <div id=\"df-c25e2659-480c-44cc-83f6-4b8b131ddf56\">\n",
              "    <div class=\"colab-df-container\">\n",
              "      <div>\n",
              "<style scoped>\n",
              "    .dataframe tbody tr th:only-of-type {\n",
              "        vertical-align: middle;\n",
              "    }\n",
              "\n",
              "    .dataframe tbody tr th {\n",
              "        vertical-align: top;\n",
              "    }\n",
              "\n",
              "    .dataframe thead th {\n",
              "        text-align: right;\n",
              "    }\n",
              "</style>\n",
              "<table border=\"1\" class=\"dataframe\">\n",
              "  <thead>\n",
              "    <tr style=\"text-align: right;\">\n",
              "      <th></th>\n",
              "      <th>id</th>\n",
              "      <th>conversation_id</th>\n",
              "      <th>text</th>\n",
              "      <th>speaker</th>\n",
              "      <th>meta</th>\n",
              "      <th>reply-to</th>\n",
              "      <th>timestamp</th>\n",
              "      <th>vectors</th>\n",
              "      <th>movie_id</th>\n",
              "      <th>parsed_rating</th>\n",
              "      <th>parsed_tokens</th>\n",
              "    </tr>\n",
              "  </thead>\n",
              "  <tbody>\n",
              "    <tr>\n",
              "      <th>0</th>\n",
              "      <td>L1045</td>\n",
              "      <td>L1044</td>\n",
              "      <td>They do not!</td>\n",
              "      <td>u0</td>\n",
              "      <td>{'movie_id': 'm0', 'parsed': [{'rt': 1, 'toks'...</td>\n",
              "      <td>L1044</td>\n",
              "      <td>NaT</td>\n",
              "      <td>[]</td>\n",
              "      <td>m0</td>\n",
              "      <td>1.0</td>\n",
              "      <td>[{'tok': 'They', 'tag': 'PRP', 'dep': 'nsubj',...</td>\n",
              "    </tr>\n",
              "    <tr>\n",
              "      <th>1</th>\n",
              "      <td>L1044</td>\n",
              "      <td>L1044</td>\n",
              "      <td>They do to!</td>\n",
              "      <td>u2</td>\n",
              "      <td>{'movie_id': 'm0', 'parsed': [{'rt': 1, 'toks'...</td>\n",
              "      <td>None</td>\n",
              "      <td>NaT</td>\n",
              "      <td>[]</td>\n",
              "      <td>m0</td>\n",
              "      <td>1.0</td>\n",
              "      <td>[{'tok': 'They', 'tag': 'PRP', 'dep': 'nsubj',...</td>\n",
              "    </tr>\n",
              "    <tr>\n",
              "      <th>2</th>\n",
              "      <td>L985</td>\n",
              "      <td>L984</td>\n",
              "      <td>I hope so.</td>\n",
              "      <td>u0</td>\n",
              "      <td>{'movie_id': 'm0', 'parsed': [{'rt': 1, 'toks'...</td>\n",
              "      <td>L984</td>\n",
              "      <td>NaT</td>\n",
              "      <td>[]</td>\n",
              "      <td>m0</td>\n",
              "      <td>1.0</td>\n",
              "      <td>[{'tok': 'I', 'tag': 'PRP', 'dep': 'nsubj', 'u...</td>\n",
              "    </tr>\n",
              "    <tr>\n",
              "      <th>3</th>\n",
              "      <td>L984</td>\n",
              "      <td>L984</td>\n",
              "      <td>She okay?</td>\n",
              "      <td>u2</td>\n",
              "      <td>{'movie_id': 'm0', 'parsed': [{'rt': 1, 'toks'...</td>\n",
              "      <td>None</td>\n",
              "      <td>NaT</td>\n",
              "      <td>[]</td>\n",
              "      <td>m0</td>\n",
              "      <td>1.0</td>\n",
              "      <td>[{'tok': 'She', 'tag': 'PRP', 'dep': 'nsubj', ...</td>\n",
              "    </tr>\n",
              "    <tr>\n",
              "      <th>4</th>\n",
              "      <td>L925</td>\n",
              "      <td>L924</td>\n",
              "      <td>Let's go.</td>\n",
              "      <td>u0</td>\n",
              "      <td>{'movie_id': 'm0', 'parsed': [{'rt': 0, 'toks'...</td>\n",
              "      <td>L924</td>\n",
              "      <td>NaT</td>\n",
              "      <td>[]</td>\n",
              "      <td>m0</td>\n",
              "      <td>0.0</td>\n",
              "      <td>[{'tok': 'Let', 'tag': 'VB', 'dep': 'ROOT', 'd...</td>\n",
              "    </tr>\n",
              "  </tbody>\n",
              "</table>\n",
              "</div>\n",
              "      <button class=\"colab-df-convert\" onclick=\"convertToInteractive('df-c25e2659-480c-44cc-83f6-4b8b131ddf56')\"\n",
              "              title=\"Convert this dataframe to an interactive table.\"\n",
              "              style=\"display:none;\">\n",
              "        \n",
              "  <svg xmlns=\"http://www.w3.org/2000/svg\" height=\"24px\"viewBox=\"0 0 24 24\"\n",
              "       width=\"24px\">\n",
              "    <path d=\"M0 0h24v24H0V0z\" fill=\"none\"/>\n",
              "    <path d=\"M18.56 5.44l.94 2.06.94-2.06 2.06-.94-2.06-.94-.94-2.06-.94 2.06-2.06.94zm-11 1L8.5 8.5l.94-2.06 2.06-.94-2.06-.94L8.5 2.5l-.94 2.06-2.06.94zm10 10l.94 2.06.94-2.06 2.06-.94-2.06-.94-.94-2.06-.94 2.06-2.06.94z\"/><path d=\"M17.41 7.96l-1.37-1.37c-.4-.4-.92-.59-1.43-.59-.52 0-1.04.2-1.43.59L10.3 9.45l-7.72 7.72c-.78.78-.78 2.05 0 2.83L4 21.41c.39.39.9.59 1.41.59.51 0 1.02-.2 1.41-.59l7.78-7.78 2.81-2.81c.8-.78.8-2.07 0-2.86zM5.41 20L4 18.59l7.72-7.72 1.47 1.35L5.41 20z\"/>\n",
              "  </svg>\n",
              "      </button>\n",
              "      \n",
              "  <style>\n",
              "    .colab-df-container {\n",
              "      display:flex;\n",
              "      flex-wrap:wrap;\n",
              "      gap: 12px;\n",
              "    }\n",
              "\n",
              "    .colab-df-convert {\n",
              "      background-color: #E8F0FE;\n",
              "      border: none;\n",
              "      border-radius: 50%;\n",
              "      cursor: pointer;\n",
              "      display: none;\n",
              "      fill: #1967D2;\n",
              "      height: 32px;\n",
              "      padding: 0 0 0 0;\n",
              "      width: 32px;\n",
              "    }\n",
              "\n",
              "    .colab-df-convert:hover {\n",
              "      background-color: #E2EBFA;\n",
              "      box-shadow: 0px 1px 2px rgba(60, 64, 67, 0.3), 0px 1px 3px 1px rgba(60, 64, 67, 0.15);\n",
              "      fill: #174EA6;\n",
              "    }\n",
              "\n",
              "    [theme=dark] .colab-df-convert {\n",
              "      background-color: #3B4455;\n",
              "      fill: #D2E3FC;\n",
              "    }\n",
              "\n",
              "    [theme=dark] .colab-df-convert:hover {\n",
              "      background-color: #434B5C;\n",
              "      box-shadow: 0px 1px 3px 1px rgba(0, 0, 0, 0.15);\n",
              "      filter: drop-shadow(0px 1px 2px rgba(0, 0, 0, 0.3));\n",
              "      fill: #FFFFFF;\n",
              "    }\n",
              "  </style>\n",
              "\n",
              "      <script>\n",
              "        const buttonEl =\n",
              "          document.querySelector('#df-c25e2659-480c-44cc-83f6-4b8b131ddf56 button.colab-df-convert');\n",
              "        buttonEl.style.display =\n",
              "          google.colab.kernel.accessAllowed ? 'block' : 'none';\n",
              "\n",
              "        async function convertToInteractive(key) {\n",
              "          const element = document.querySelector('#df-c25e2659-480c-44cc-83f6-4b8b131ddf56');\n",
              "          const dataTable =\n",
              "            await google.colab.kernel.invokeFunction('convertToInteractive',\n",
              "                                                     [key], {});\n",
              "          if (!dataTable) return;\n",
              "\n",
              "          const docLinkHtml = 'Like what you see? Visit the ' +\n",
              "            '<a target=\"_blank\" href=https://colab.research.google.com/notebooks/data_table.ipynb>data table notebook</a>'\n",
              "            + ' to learn more about interactive tables.';\n",
              "          element.innerHTML = '';\n",
              "          dataTable['output_type'] = 'display_data';\n",
              "          await google.colab.output.renderOutput(dataTable, element);\n",
              "          const docLink = document.createElement('div');\n",
              "          docLink.innerHTML = docLinkHtml;\n",
              "          element.appendChild(docLink);\n",
              "        }\n",
              "      </script>\n",
              "    </div>\n",
              "  </div>\n",
              "  "
            ]
          },
          "metadata": {},
          "execution_count": 151
        }
      ]
    },
    {
      "cell_type": "code",
      "source": [
        "missing_values = movie_df['timestamp'].isna()\n",
        "print(missing_values)"
      ],
      "metadata": {
        "colab": {
          "base_uri": "https://localhost:8080/"
        },
        "id": "XHg35nIAkPLE",
        "outputId": "23499b4c-6ff1-4032-abb8-833e5326556a"
      },
      "execution_count": 152,
      "outputs": [
        {
          "output_type": "stream",
          "name": "stdout",
          "text": [
            "0         True\n",
            "1         True\n",
            "2         True\n",
            "3         True\n",
            "4         True\n",
            "          ... \n",
            "304708    True\n",
            "304709    True\n",
            "304710    True\n",
            "304711    True\n",
            "304712    True\n",
            "Name: timestamp, Length: 304713, dtype: bool\n"
          ]
        }
      ]
    },
    {
      "cell_type": "code",
      "source": [
        "column_type = movie_df['timestamp'].dtype\n",
        "print(column_type)"
      ],
      "metadata": {
        "colab": {
          "base_uri": "https://localhost:8080/"
        },
        "id": "g-FGR__WkrPQ",
        "outputId": "1add14fd-d846-476a-d2bc-5680cde6faa9"
      },
      "execution_count": 153,
      "outputs": [
        {
          "output_type": "stream",
          "name": "stdout",
          "text": [
            "datetime64[ns]\n"
          ]
        }
      ]
    },
    {
      "cell_type": "code",
      "source": [
        "na_count = movie_df['timestamp'].isna().sum()\n",
        "print(\"Number of rows with NaT in 'timestamp' column:\", na_count)"
      ],
      "metadata": {
        "colab": {
          "base_uri": "https://localhost:8080/"
        },
        "id": "oq6eRbdzluHB",
        "outputId": "c91231bf-b82f-4aa2-8913-d01df2dc3384"
      },
      "execution_count": 154,
      "outputs": [
        {
          "output_type": "stream",
          "name": "stdout",
          "text": [
            "Number of rows with NaT in 'timestamp' column: 304713\n"
          ]
        }
      ]
    },
    {
      "cell_type": "markdown",
      "source": [
        "Timestamp is Empty!"
      ],
      "metadata": {
        "id": "zg1kr6JZnyLI"
      }
    },
    {
      "cell_type": "code",
      "source": [
        "text1 = movie_df.loc[6697, 'parsed_tokens']\n",
        "text2 = movie_df.loc[6643, 'parsed_tokens']\n",
        "text3 = movie_df.loc[5742, 'parsed_tokens']\n",
        "\n",
        "print(text1)\n",
        "print(text2)\n",
        "print(text3)"
      ],
      "metadata": {
        "colab": {
          "base_uri": "https://localhost:8080/"
        },
        "id": "ND5-te_Im7wy",
        "outputId": "eb16215e-fc70-43d7-be05-06cb93b07926"
      },
      "execution_count": 155,
      "outputs": [
        {
          "output_type": "stream",
          "name": "stdout",
          "text": [
            "[{'tok': 'In', 'tag': 'IN', 'dep': 'prep', 'up': 5, 'dn': [2]}, {'tok': 'my', 'tag': 'PRP$', 'dep': 'poss', 'up': 2, 'dn': []}, {'tok': 'opinion', 'tag': 'NN', 'dep': 'pobj', 'up': 0, 'dn': [1]}, {'tok': ',', 'tag': ',', 'dep': 'punct', 'up': 5, 'dn': []}, {'tok': 'it', 'tag': 'PRP', 'dep': 'nsubj', 'up': 5, 'dn': []}, {'tok': 'is', 'tag': 'VBZ', 'dep': 'ROOT', 'dn': [0, 3, 4, 6, 17]}, {'tok': 'time', 'tag': 'NN', 'dep': 'attr', 'up': 5, 'dn': [8]}, {'tok': 'we', 'tag': 'PRP', 'dep': 'nsubj', 'up': 8, 'dn': []}, {'tok': 'had', 'tag': 'VBD', 'dep': 'relcl', 'up': 6, 'dn': [7, 10, 15, 16]}, {'tok': 'a', 'tag': 'DT', 'dep': 'det', 'up': 10, 'dn': []}, {'tok': 'piece', 'tag': 'NN', 'dep': 'dobj', 'up': 8, 'dn': [9, 11]}, {'tok': 'in', 'tag': 'IN', 'dep': 'prep', 'up': 10, 'dn': [14]}, {'tok': 'our', 'tag': 'PRP$', 'dep': 'poss', 'up': 14, 'dn': []}, {'tok': 'own', 'tag': 'JJ', 'dep': 'amod', 'up': 14, 'dn': []}, {'tok': 'language', 'tag': 'NN', 'dep': 'pobj', 'up': 11, 'dn': [12, 13]}, {'tok': ',', 'tag': ',', 'dep': 'punct', 'up': 8, 'dn': []}, {'tok': 'sir', 'tag': 'NN', 'dep': 'npadvmod', 'up': 8, 'dn': []}, {'tok': '.', 'tag': '.', 'dep': 'punct', 'up': 5, 'dn': []}]\n",
            "[{'tok': 'Yet', 'tag': 'CC', 'dep': 'cc', 'up': 2, 'dn': []}, {'tok': 'we', 'tag': 'PRP', 'dep': 'nsubj', 'up': 2, 'dn': []}, {'tok': 'hear', 'tag': 'VBP', 'dep': 'ROOT', 'dn': [0, 1, 5, 10]}, {'tok': 'you', 'tag': 'PRP', 'dep': 'nsubj', 'up': 5, 'dn': []}, {'tok': 'are', 'tag': 'VBP', 'dep': 'aux', 'up': 5, 'dn': []}, {'tok': 'making', 'tag': 'VBG', 'dep': 'ccomp', 'up': 2, 'dn': [3, 4, 7, 8]}, {'tok': 'an', 'tag': 'DT', 'dep': 'det', 'up': 7, 'dn': []}, {'tok': 'opera', 'tag': 'NN', 'dep': 'dobj', 'up': 5, 'dn': [6]}, {'tok': 'from', 'tag': 'IN', 'dep': 'prep', 'up': 5, 'dn': [9]}, {'tok': 'it', 'tag': 'PRP', 'dep': 'pobj', 'up': 8, 'dn': []}, {'tok': '.', 'tag': '.', 'dep': 'punct', 'up': 2, 'dn': []}]\n",
            "[{'tok': 'Uh', 'tag': 'UH', 'dep': 'intj', 'up': 2, 'dn': []}, {'tok': ',', 'tag': ',', 'dep': 'punct', 'up': 2, 'dn': []}, {'tok': 'Matthew', 'tag': 'NNP', 'dep': 'ROOT', 'dn': [0, 1, 3]}, {'tok': '...', 'tag': '.', 'dep': 'punct', 'up': 2, 'dn': []}]\n"
          ]
        }
      ]
    },
    {
      "cell_type": "markdown",
      "source": [
        "In this part, we define a function called `extract_attributes` that takes in two parameters: `tokens` and `attribute`.\n",
        "\n",
        "The function checks if `tokens` is a list. If it is, it iterates over each token in the list and extracts the value of the specified `attribute` using the `get()` method. The extracted attribute values are returned as a list. If `tokens` is not a list, an empty list is returned.\n",
        "\n",
        "We then use the `apply()` function on the 'parsed_tokens' column of the `movie_df` DataFrame. Inside the `apply()` function, we use lambda functions to call the `extract_attributes` function for each element of the 'parsed_tokens' column. We specify the `attribute` parameter as either 'tok', 'tag', or 'dep' to extract the corresponding attributes.\n",
        "\n",
        "The extracted attribute lists are assigned to new columns 'token', 'tag', and 'dep' in the `movie_df` DataFrame. These columns contain the token, tag, and dependency attribute values respectively, allowing for further analysis and processing of the parsed tokens.\n",
        "\n",
        "Overall, This code extracts specific attributes ('tok', 'tag', 'dep') from the 'parsed_tokens' column of the `movie_df` DataFrame and creates corresponding columns 'token', 'tag', and 'dep'."
      ],
      "metadata": {
        "id": "Uh0lKjhqsL94"
      }
    },
    {
      "cell_type": "code",
      "source": [
        "def extract_attributes(tokens, attribute):\n",
        "    if isinstance(tokens, list):\n",
        "        return [token.get(attribute) for token in tokens]\n",
        "    return []\n",
        "\n",
        "movie_df['token'] = movie_df['parsed_tokens'].apply(lambda tokens: extract_attributes(tokens, 'tok'))\n",
        "movie_df['tag'] = movie_df['parsed_tokens'].apply(lambda tokens: extract_attributes(tokens, 'tag'))\n",
        "movie_df['dep'] = movie_df['parsed_tokens'].apply(lambda tokens: extract_attributes(tokens, 'dep'))\n"
      ],
      "metadata": {
        "id": "dKgSVIqdnbaw"
      },
      "execution_count": 156,
      "outputs": []
    },
    {
      "cell_type": "code",
      "source": [
        "movie_df = movie_df.drop(['meta', 'parsed_tokens'], axis=1)"
      ],
      "metadata": {
        "id": "_OL1sduZm5Xp"
      },
      "execution_count": 157,
      "outputs": []
    },
    {
      "cell_type": "code",
      "source": [
        "movie_df.sample(5)"
      ],
      "metadata": {
        "colab": {
          "base_uri": "https://localhost:8080/",
          "height": 423
        },
        "id": "8T1FZv5Aob83",
        "outputId": "54edfe82-5add-45e8-f42f-64461faf3a15"
      },
      "execution_count": 158,
      "outputs": [
        {
          "output_type": "execute_result",
          "data": {
            "text/plain": [
              "             id conversation_id  \\\n",
              "223919  L388034         L388025   \n",
              "108701  L596516         L596515   \n",
              "223586  L388466         L388465   \n",
              "128140   L46702          L46696   \n",
              "188428  L235533         L235533   \n",
              "\n",
              "                                                     text speaker reply-to  \\\n",
              "223919  Miss Hall and Ambrose had a relationship which...   u6628  L388033   \n",
              "108701                    That's just the way we like it.   u3210  L596515   \n",
              "223586  If it'll make you feel any better I won't do i...   u6626  L388465   \n",
              "128140                                              Sure.   u3730   L46701   \n",
              "188428                                  Eh? Have a drink.   u5507     None   \n",
              "\n",
              "       timestamp vectors movie_id  parsed_rating  \\\n",
              "223919       NaT      []     m442            4.0   \n",
              "108701       NaT      []     m212            1.0   \n",
              "223586       NaT      []     m442           11.0   \n",
              "128140       NaT      []     m246            0.0   \n",
              "188428       NaT      []     m367            2.0   \n",
              "\n",
              "                                                    token  \\\n",
              "223919  [Miss, Hall, and, Ambrose, had, a, relationshi...   \n",
              "108701        [That, 's, just, the, way, we, like, it, .]   \n",
              "223586  [If, it, 'll, make, you, feel, any, better, I,...   \n",
              "128140                                          [Sure, .]   \n",
              "188428                         [Eh, ?, Have, a, drink, .]   \n",
              "\n",
              "                                                      tag  \\\n",
              "223919  [NNP, NNP, CC, NNP, VBD, DT, NN, WDT, PRP, VBD...   \n",
              "108701            [DT, VBZ, RB, DT, NN, PRP, VBP, PRP, .]   \n",
              "223586  [IN, PRP, MD, VB, PRP, VB, DT, RBR, PRP, MD, R...   \n",
              "128140                                            [UH, .]   \n",
              "188428                             [UH, ., VB, DT, NN, .]   \n",
              "\n",
              "                                                      dep  \n",
              "223919  [compound, nsubj, cc, conj, ROOT, det, dobj, d...  \n",
              "108701  [nsubj, ROOT, advmod, det, attr, nsubj, relcl,...  \n",
              "223586  [mark, nsubj, aux, advcl, nsubj, ccomp, advmod...  \n",
              "128140                                      [ROOT, punct]  \n",
              "188428              [intj, punct, ROOT, det, dobj, punct]  "
            ],
            "text/html": [
              "\n",
              "  <div id=\"df-cdec5449-61f1-4558-9835-6964da0a493a\">\n",
              "    <div class=\"colab-df-container\">\n",
              "      <div>\n",
              "<style scoped>\n",
              "    .dataframe tbody tr th:only-of-type {\n",
              "        vertical-align: middle;\n",
              "    }\n",
              "\n",
              "    .dataframe tbody tr th {\n",
              "        vertical-align: top;\n",
              "    }\n",
              "\n",
              "    .dataframe thead th {\n",
              "        text-align: right;\n",
              "    }\n",
              "</style>\n",
              "<table border=\"1\" class=\"dataframe\">\n",
              "  <thead>\n",
              "    <tr style=\"text-align: right;\">\n",
              "      <th></th>\n",
              "      <th>id</th>\n",
              "      <th>conversation_id</th>\n",
              "      <th>text</th>\n",
              "      <th>speaker</th>\n",
              "      <th>reply-to</th>\n",
              "      <th>timestamp</th>\n",
              "      <th>vectors</th>\n",
              "      <th>movie_id</th>\n",
              "      <th>parsed_rating</th>\n",
              "      <th>token</th>\n",
              "      <th>tag</th>\n",
              "      <th>dep</th>\n",
              "    </tr>\n",
              "  </thead>\n",
              "  <tbody>\n",
              "    <tr>\n",
              "      <th>223919</th>\n",
              "      <td>L388034</td>\n",
              "      <td>L388025</td>\n",
              "      <td>Miss Hall and Ambrose had a relationship which...</td>\n",
              "      <td>u6628</td>\n",
              "      <td>L388033</td>\n",
              "      <td>NaT</td>\n",
              "      <td>[]</td>\n",
              "      <td>m442</td>\n",
              "      <td>4.0</td>\n",
              "      <td>[Miss, Hall, and, Ambrose, had, a, relationshi...</td>\n",
              "      <td>[NNP, NNP, CC, NNP, VBD, DT, NN, WDT, PRP, VBD...</td>\n",
              "      <td>[compound, nsubj, cc, conj, ROOT, det, dobj, d...</td>\n",
              "    </tr>\n",
              "    <tr>\n",
              "      <th>108701</th>\n",
              "      <td>L596516</td>\n",
              "      <td>L596515</td>\n",
              "      <td>That's just the way we like it.</td>\n",
              "      <td>u3210</td>\n",
              "      <td>L596515</td>\n",
              "      <td>NaT</td>\n",
              "      <td>[]</td>\n",
              "      <td>m212</td>\n",
              "      <td>1.0</td>\n",
              "      <td>[That, 's, just, the, way, we, like, it, .]</td>\n",
              "      <td>[DT, VBZ, RB, DT, NN, PRP, VBP, PRP, .]</td>\n",
              "      <td>[nsubj, ROOT, advmod, det, attr, nsubj, relcl,...</td>\n",
              "    </tr>\n",
              "    <tr>\n",
              "      <th>223586</th>\n",
              "      <td>L388466</td>\n",
              "      <td>L388465</td>\n",
              "      <td>If it'll make you feel any better I won't do i...</td>\n",
              "      <td>u6626</td>\n",
              "      <td>L388465</td>\n",
              "      <td>NaT</td>\n",
              "      <td>[]</td>\n",
              "      <td>m442</td>\n",
              "      <td>11.0</td>\n",
              "      <td>[If, it, 'll, make, you, feel, any, better, I,...</td>\n",
              "      <td>[IN, PRP, MD, VB, PRP, VB, DT, RBR, PRP, MD, R...</td>\n",
              "      <td>[mark, nsubj, aux, advcl, nsubj, ccomp, advmod...</td>\n",
              "    </tr>\n",
              "    <tr>\n",
              "      <th>128140</th>\n",
              "      <td>L46702</td>\n",
              "      <td>L46696</td>\n",
              "      <td>Sure.</td>\n",
              "      <td>u3730</td>\n",
              "      <td>L46701</td>\n",
              "      <td>NaT</td>\n",
              "      <td>[]</td>\n",
              "      <td>m246</td>\n",
              "      <td>0.0</td>\n",
              "      <td>[Sure, .]</td>\n",
              "      <td>[UH, .]</td>\n",
              "      <td>[ROOT, punct]</td>\n",
              "    </tr>\n",
              "    <tr>\n",
              "      <th>188428</th>\n",
              "      <td>L235533</td>\n",
              "      <td>L235533</td>\n",
              "      <td>Eh? Have a drink.</td>\n",
              "      <td>u5507</td>\n",
              "      <td>None</td>\n",
              "      <td>NaT</td>\n",
              "      <td>[]</td>\n",
              "      <td>m367</td>\n",
              "      <td>2.0</td>\n",
              "      <td>[Eh, ?, Have, a, drink, .]</td>\n",
              "      <td>[UH, ., VB, DT, NN, .]</td>\n",
              "      <td>[intj, punct, ROOT, det, dobj, punct]</td>\n",
              "    </tr>\n",
              "  </tbody>\n",
              "</table>\n",
              "</div>\n",
              "      <button class=\"colab-df-convert\" onclick=\"convertToInteractive('df-cdec5449-61f1-4558-9835-6964da0a493a')\"\n",
              "              title=\"Convert this dataframe to an interactive table.\"\n",
              "              style=\"display:none;\">\n",
              "        \n",
              "  <svg xmlns=\"http://www.w3.org/2000/svg\" height=\"24px\"viewBox=\"0 0 24 24\"\n",
              "       width=\"24px\">\n",
              "    <path d=\"M0 0h24v24H0V0z\" fill=\"none\"/>\n",
              "    <path d=\"M18.56 5.44l.94 2.06.94-2.06 2.06-.94-2.06-.94-.94-2.06-.94 2.06-2.06.94zm-11 1L8.5 8.5l.94-2.06 2.06-.94-2.06-.94L8.5 2.5l-.94 2.06-2.06.94zm10 10l.94 2.06.94-2.06 2.06-.94-2.06-.94-.94-2.06-.94 2.06-2.06.94z\"/><path d=\"M17.41 7.96l-1.37-1.37c-.4-.4-.92-.59-1.43-.59-.52 0-1.04.2-1.43.59L10.3 9.45l-7.72 7.72c-.78.78-.78 2.05 0 2.83L4 21.41c.39.39.9.59 1.41.59.51 0 1.02-.2 1.41-.59l7.78-7.78 2.81-2.81c.8-.78.8-2.07 0-2.86zM5.41 20L4 18.59l7.72-7.72 1.47 1.35L5.41 20z\"/>\n",
              "  </svg>\n",
              "      </button>\n",
              "      \n",
              "  <style>\n",
              "    .colab-df-container {\n",
              "      display:flex;\n",
              "      flex-wrap:wrap;\n",
              "      gap: 12px;\n",
              "    }\n",
              "\n",
              "    .colab-df-convert {\n",
              "      background-color: #E8F0FE;\n",
              "      border: none;\n",
              "      border-radius: 50%;\n",
              "      cursor: pointer;\n",
              "      display: none;\n",
              "      fill: #1967D2;\n",
              "      height: 32px;\n",
              "      padding: 0 0 0 0;\n",
              "      width: 32px;\n",
              "    }\n",
              "\n",
              "    .colab-df-convert:hover {\n",
              "      background-color: #E2EBFA;\n",
              "      box-shadow: 0px 1px 2px rgba(60, 64, 67, 0.3), 0px 1px 3px 1px rgba(60, 64, 67, 0.15);\n",
              "      fill: #174EA6;\n",
              "    }\n",
              "\n",
              "    [theme=dark] .colab-df-convert {\n",
              "      background-color: #3B4455;\n",
              "      fill: #D2E3FC;\n",
              "    }\n",
              "\n",
              "    [theme=dark] .colab-df-convert:hover {\n",
              "      background-color: #434B5C;\n",
              "      box-shadow: 0px 1px 3px 1px rgba(0, 0, 0, 0.15);\n",
              "      filter: drop-shadow(0px 1px 2px rgba(0, 0, 0, 0.3));\n",
              "      fill: #FFFFFF;\n",
              "    }\n",
              "  </style>\n",
              "\n",
              "      <script>\n",
              "        const buttonEl =\n",
              "          document.querySelector('#df-cdec5449-61f1-4558-9835-6964da0a493a button.colab-df-convert');\n",
              "        buttonEl.style.display =\n",
              "          google.colab.kernel.accessAllowed ? 'block' : 'none';\n",
              "\n",
              "        async function convertToInteractive(key) {\n",
              "          const element = document.querySelector('#df-cdec5449-61f1-4558-9835-6964da0a493a');\n",
              "          const dataTable =\n",
              "            await google.colab.kernel.invokeFunction('convertToInteractive',\n",
              "                                                     [key], {});\n",
              "          if (!dataTable) return;\n",
              "\n",
              "          const docLinkHtml = 'Like what you see? Visit the ' +\n",
              "            '<a target=\"_blank\" href=https://colab.research.google.com/notebooks/data_table.ipynb>data table notebook</a>'\n",
              "            + ' to learn more about interactive tables.';\n",
              "          element.innerHTML = '';\n",
              "          dataTable['output_type'] = 'display_data';\n",
              "          await google.colab.output.renderOutput(dataTable, element);\n",
              "          const docLink = document.createElement('div');\n",
              "          docLink.innerHTML = docLinkHtml;\n",
              "          element.appendChild(docLink);\n",
              "        }\n",
              "      </script>\n",
              "    </div>\n",
              "  </div>\n",
              "  "
            ]
          },
          "metadata": {},
          "execution_count": 158
        }
      ]
    },
    {
      "cell_type": "markdown",
      "source": [
        "So now lets take a look at the structure of the Utterances dataframe.\n",
        "\n",
        "The utterance-level information provides the textual content of the conversations, which is essential for predicting emotions. It allows us to train our emotion prediction model and make predictions on the dialogues from the chosen movie.\n",
        "\n",
        "Considering the objectives of our project, we primarily focus on the utterance-level information for training the emotion prediction model and analyzing the emotional profiles of the main characters."
      ],
      "metadata": {
        "id": "JwVuRMYMBeR0"
      }
    },
    {
      "cell_type": "code",
      "source": [
        "movie_df.shape"
      ],
      "metadata": {
        "colab": {
          "base_uri": "https://localhost:8080/"
        },
        "id": "W7rGm3WNi7C8",
        "outputId": "eec7e10f-365c-4b16-b6e2-0dc448d06ef3"
      },
      "execution_count": 160,
      "outputs": [
        {
          "output_type": "execute_result",
          "data": {
            "text/plain": [
              "(304713, 12)"
            ]
          },
          "metadata": {},
          "execution_count": 160
        }
      ]
    },
    {
      "cell_type": "code",
      "source": [
        "movie_df.dtypes"
      ],
      "metadata": {
        "colab": {
          "base_uri": "https://localhost:8080/"
        },
        "id": "q16v4OH1i9s5",
        "outputId": "bae28753-d899-4149-9a47-bed845afb9d8"
      },
      "execution_count": 161,
      "outputs": [
        {
          "output_type": "execute_result",
          "data": {
            "text/plain": [
              "id                         object\n",
              "conversation_id            object\n",
              "text                       object\n",
              "speaker                    object\n",
              "reply-to                   object\n",
              "timestamp          datetime64[ns]\n",
              "vectors                    object\n",
              "movie_id                   object\n",
              "parsed_rating             float64\n",
              "token                      object\n",
              "tag                        object\n",
              "dep                        object\n",
              "dtype: object"
            ]
          },
          "metadata": {},
          "execution_count": 161
        }
      ]
    },
    {
      "cell_type": "code",
      "source": [
        "movie_df.isnull().sum()"
      ],
      "metadata": {
        "colab": {
          "base_uri": "https://localhost:8080/"
        },
        "id": "d039E67AjDBI",
        "outputId": "60ae7a00-ee9d-4f2a-be87-01831b5a7fdd"
      },
      "execution_count": 162,
      "outputs": [
        {
          "output_type": "execute_result",
          "data": {
            "text/plain": [
              "id                      0\n",
              "conversation_id         0\n",
              "text                    0\n",
              "speaker                 0\n",
              "reply-to            83097\n",
              "timestamp          304713\n",
              "vectors                 0\n",
              "movie_id              267\n",
              "parsed_rating         267\n",
              "token                   0\n",
              "tag                     0\n",
              "dep                     0\n",
              "dtype: int64"
            ]
          },
          "metadata": {},
          "execution_count": 162
        }
      ]
    },
    {
      "cell_type": "markdown",
      "source": [
        "As I mentioned before we only use uttrance for now. Let's delete the unnecessory columns."
      ],
      "metadata": {
        "id": "VcDIsPl7Kyj2"
      }
    },
    {
      "cell_type": "code",
      "source": [
        "movie_df = movie_df.drop(['id', 'conversation_id', 'timestamp'], axis=1)\n",
        "# Print the dataframe\n",
        "movie_df.sample(5)"
      ],
      "metadata": {
        "colab": {
          "base_uri": "https://localhost:8080/",
          "height": 319
        },
        "id": "LX_7PBezKx7W",
        "outputId": "90383a6a-ba35-49df-d364-40302d04cc89"
      },
      "execution_count": 163,
      "outputs": [
        {
          "output_type": "execute_result",
          "data": {
            "text/plain": [
              "                                                     text speaker reply-to  \\\n",
              "298351  ...for my kid Rudy -- 3 years old, electronics...   u8836  L644934   \n",
              "221577                                               Why?   u6562     None   \n",
              "69473                                        What letter?   u2036  L374466   \n",
              "71581   Yeah.  Not far.  You will be fine.  It's still...   u2129  L391688   \n",
              "12281   Jesus, open your eyes! Seagrave, Cosgrove, and...    u422   L60659   \n",
              "\n",
              "       vectors movie_id  parsed_rating  \\\n",
              "298351      []     m599           13.0   \n",
              "221577      []     m436            0.0   \n",
              "69473       []     m132            1.0   \n",
              "71581       []     m138            0.0   \n",
              "12281       []      m25            2.0   \n",
              "\n",
              "                                                    token  \\\n",
              "298351  [..., for, my, kid, Rudy, --, 3, years, old, ,...   \n",
              "221577                                           [Why, ?]   \n",
              "69473                                   [What, letter, ?]   \n",
              "71581                        [Yeah, .,  , Not, far, .,  ]   \n",
              "12281                     [Jesus, ,, open, your, eyes, !]   \n",
              "\n",
              "                                                      tag  \\\n",
              "298351  [:, IN, PRP$, NN, NNP, :, CD, NNS, JJ, ,, NNS,...   \n",
              "221577                                           [WRB, .]   \n",
              "69473                                        [WDT, NN, .]   \n",
              "71581                        [UH, ., _SP, RB, RB, ., _SP]   \n",
              "12281                          [NNP, ,, VB, PRP$, NNS, .]   \n",
              "\n",
              "                                                      dep  \n",
              "298351  [punct, prep, poss, compound, pobj, punct, num...  \n",
              "221577                                      [ROOT, punct]  \n",
              "69473                                  [det, ROOT, punct]  \n",
              "71581               [ROOT, punct, , neg, advmod, punct, ]  \n",
              "12281          [npadvmod, punct, ROOT, poss, dobj, punct]  "
            ],
            "text/html": [
              "\n",
              "  <div id=\"df-0031a38d-72f3-4000-8e28-94a69617694b\">\n",
              "    <div class=\"colab-df-container\">\n",
              "      <div>\n",
              "<style scoped>\n",
              "    .dataframe tbody tr th:only-of-type {\n",
              "        vertical-align: middle;\n",
              "    }\n",
              "\n",
              "    .dataframe tbody tr th {\n",
              "        vertical-align: top;\n",
              "    }\n",
              "\n",
              "    .dataframe thead th {\n",
              "        text-align: right;\n",
              "    }\n",
              "</style>\n",
              "<table border=\"1\" class=\"dataframe\">\n",
              "  <thead>\n",
              "    <tr style=\"text-align: right;\">\n",
              "      <th></th>\n",
              "      <th>text</th>\n",
              "      <th>speaker</th>\n",
              "      <th>reply-to</th>\n",
              "      <th>vectors</th>\n",
              "      <th>movie_id</th>\n",
              "      <th>parsed_rating</th>\n",
              "      <th>token</th>\n",
              "      <th>tag</th>\n",
              "      <th>dep</th>\n",
              "    </tr>\n",
              "  </thead>\n",
              "  <tbody>\n",
              "    <tr>\n",
              "      <th>298351</th>\n",
              "      <td>...for my kid Rudy -- 3 years old, electronics...</td>\n",
              "      <td>u8836</td>\n",
              "      <td>L644934</td>\n",
              "      <td>[]</td>\n",
              "      <td>m599</td>\n",
              "      <td>13.0</td>\n",
              "      <td>[..., for, my, kid, Rudy, --, 3, years, old, ,...</td>\n",
              "      <td>[:, IN, PRP$, NN, NNP, :, CD, NNS, JJ, ,, NNS,...</td>\n",
              "      <td>[punct, prep, poss, compound, pobj, punct, num...</td>\n",
              "    </tr>\n",
              "    <tr>\n",
              "      <th>221577</th>\n",
              "      <td>Why?</td>\n",
              "      <td>u6562</td>\n",
              "      <td>None</td>\n",
              "      <td>[]</td>\n",
              "      <td>m436</td>\n",
              "      <td>0.0</td>\n",
              "      <td>[Why, ?]</td>\n",
              "      <td>[WRB, .]</td>\n",
              "      <td>[ROOT, punct]</td>\n",
              "    </tr>\n",
              "    <tr>\n",
              "      <th>69473</th>\n",
              "      <td>What letter?</td>\n",
              "      <td>u2036</td>\n",
              "      <td>L374466</td>\n",
              "      <td>[]</td>\n",
              "      <td>m132</td>\n",
              "      <td>1.0</td>\n",
              "      <td>[What, letter, ?]</td>\n",
              "      <td>[WDT, NN, .]</td>\n",
              "      <td>[det, ROOT, punct]</td>\n",
              "    </tr>\n",
              "    <tr>\n",
              "      <th>71581</th>\n",
              "      <td>Yeah.  Not far.  You will be fine.  It's still...</td>\n",
              "      <td>u2129</td>\n",
              "      <td>L391688</td>\n",
              "      <td>[]</td>\n",
              "      <td>m138</td>\n",
              "      <td>0.0</td>\n",
              "      <td>[Yeah, .,  , Not, far, .,  ]</td>\n",
              "      <td>[UH, ., _SP, RB, RB, ., _SP]</td>\n",
              "      <td>[ROOT, punct, , neg, advmod, punct, ]</td>\n",
              "    </tr>\n",
              "    <tr>\n",
              "      <th>12281</th>\n",
              "      <td>Jesus, open your eyes! Seagrave, Cosgrove, and...</td>\n",
              "      <td>u422</td>\n",
              "      <td>L60659</td>\n",
              "      <td>[]</td>\n",
              "      <td>m25</td>\n",
              "      <td>2.0</td>\n",
              "      <td>[Jesus, ,, open, your, eyes, !]</td>\n",
              "      <td>[NNP, ,, VB, PRP$, NNS, .]</td>\n",
              "      <td>[npadvmod, punct, ROOT, poss, dobj, punct]</td>\n",
              "    </tr>\n",
              "  </tbody>\n",
              "</table>\n",
              "</div>\n",
              "      <button class=\"colab-df-convert\" onclick=\"convertToInteractive('df-0031a38d-72f3-4000-8e28-94a69617694b')\"\n",
              "              title=\"Convert this dataframe to an interactive table.\"\n",
              "              style=\"display:none;\">\n",
              "        \n",
              "  <svg xmlns=\"http://www.w3.org/2000/svg\" height=\"24px\"viewBox=\"0 0 24 24\"\n",
              "       width=\"24px\">\n",
              "    <path d=\"M0 0h24v24H0V0z\" fill=\"none\"/>\n",
              "    <path d=\"M18.56 5.44l.94 2.06.94-2.06 2.06-.94-2.06-.94-.94-2.06-.94 2.06-2.06.94zm-11 1L8.5 8.5l.94-2.06 2.06-.94-2.06-.94L8.5 2.5l-.94 2.06-2.06.94zm10 10l.94 2.06.94-2.06 2.06-.94-2.06-.94-.94-2.06-.94 2.06-2.06.94z\"/><path d=\"M17.41 7.96l-1.37-1.37c-.4-.4-.92-.59-1.43-.59-.52 0-1.04.2-1.43.59L10.3 9.45l-7.72 7.72c-.78.78-.78 2.05 0 2.83L4 21.41c.39.39.9.59 1.41.59.51 0 1.02-.2 1.41-.59l7.78-7.78 2.81-2.81c.8-.78.8-2.07 0-2.86zM5.41 20L4 18.59l7.72-7.72 1.47 1.35L5.41 20z\"/>\n",
              "  </svg>\n",
              "      </button>\n",
              "      \n",
              "  <style>\n",
              "    .colab-df-container {\n",
              "      display:flex;\n",
              "      flex-wrap:wrap;\n",
              "      gap: 12px;\n",
              "    }\n",
              "\n",
              "    .colab-df-convert {\n",
              "      background-color: #E8F0FE;\n",
              "      border: none;\n",
              "      border-radius: 50%;\n",
              "      cursor: pointer;\n",
              "      display: none;\n",
              "      fill: #1967D2;\n",
              "      height: 32px;\n",
              "      padding: 0 0 0 0;\n",
              "      width: 32px;\n",
              "    }\n",
              "\n",
              "    .colab-df-convert:hover {\n",
              "      background-color: #E2EBFA;\n",
              "      box-shadow: 0px 1px 2px rgba(60, 64, 67, 0.3), 0px 1px 3px 1px rgba(60, 64, 67, 0.15);\n",
              "      fill: #174EA6;\n",
              "    }\n",
              "\n",
              "    [theme=dark] .colab-df-convert {\n",
              "      background-color: #3B4455;\n",
              "      fill: #D2E3FC;\n",
              "    }\n",
              "\n",
              "    [theme=dark] .colab-df-convert:hover {\n",
              "      background-color: #434B5C;\n",
              "      box-shadow: 0px 1px 3px 1px rgba(0, 0, 0, 0.15);\n",
              "      filter: drop-shadow(0px 1px 2px rgba(0, 0, 0, 0.3));\n",
              "      fill: #FFFFFF;\n",
              "    }\n",
              "  </style>\n",
              "\n",
              "      <script>\n",
              "        const buttonEl =\n",
              "          document.querySelector('#df-0031a38d-72f3-4000-8e28-94a69617694b button.colab-df-convert');\n",
              "        buttonEl.style.display =\n",
              "          google.colab.kernel.accessAllowed ? 'block' : 'none';\n",
              "\n",
              "        async function convertToInteractive(key) {\n",
              "          const element = document.querySelector('#df-0031a38d-72f3-4000-8e28-94a69617694b');\n",
              "          const dataTable =\n",
              "            await google.colab.kernel.invokeFunction('convertToInteractive',\n",
              "                                                     [key], {});\n",
              "          if (!dataTable) return;\n",
              "\n",
              "          const docLinkHtml = 'Like what you see? Visit the ' +\n",
              "            '<a target=\"_blank\" href=https://colab.research.google.com/notebooks/data_table.ipynb>data table notebook</a>'\n",
              "            + ' to learn more about interactive tables.';\n",
              "          element.innerHTML = '';\n",
              "          dataTable['output_type'] = 'display_data';\n",
              "          await google.colab.output.renderOutput(dataTable, element);\n",
              "          const docLink = document.createElement('div');\n",
              "          docLink.innerHTML = docLinkHtml;\n",
              "          element.appendChild(docLink);\n",
              "        }\n",
              "      </script>\n",
              "    </div>\n",
              "  </div>\n",
              "  "
            ]
          },
          "metadata": {},
          "execution_count": 163
        }
      ]
    },
    {
      "cell_type": "code",
      "source": [
        "movie_predict_df=movie_df[['text']]\n",
        "movie_predict_df.sample(5)"
      ],
      "metadata": {
        "colab": {
          "base_uri": "https://localhost:8080/",
          "height": 206
        },
        "id": "Kfn2X97sj1O5",
        "outputId": "499c090b-74d9-4c7e-df70-4bcacd07723a"
      },
      "execution_count": 164,
      "outputs": [
        {
          "output_type": "execute_result",
          "data": {
            "text/plain": [
              "                                                     text\n",
              "240681                                            Always.\n",
              "69331                                   Mr. D. B. Norton!\n",
              "128757                       Lovely. You were a big help.\n",
              "273736                           It, John.  Not him.  It.\n",
              "164838  I know. I followed you. To the zoo, to her hou..."
            ],
            "text/html": [
              "\n",
              "  <div id=\"df-76894d01-2a0c-4c12-8bd4-3a762e8d473f\">\n",
              "    <div class=\"colab-df-container\">\n",
              "      <div>\n",
              "<style scoped>\n",
              "    .dataframe tbody tr th:only-of-type {\n",
              "        vertical-align: middle;\n",
              "    }\n",
              "\n",
              "    .dataframe tbody tr th {\n",
              "        vertical-align: top;\n",
              "    }\n",
              "\n",
              "    .dataframe thead th {\n",
              "        text-align: right;\n",
              "    }\n",
              "</style>\n",
              "<table border=\"1\" class=\"dataframe\">\n",
              "  <thead>\n",
              "    <tr style=\"text-align: right;\">\n",
              "      <th></th>\n",
              "      <th>text</th>\n",
              "    </tr>\n",
              "  </thead>\n",
              "  <tbody>\n",
              "    <tr>\n",
              "      <th>240681</th>\n",
              "      <td>Always.</td>\n",
              "    </tr>\n",
              "    <tr>\n",
              "      <th>69331</th>\n",
              "      <td>Mr. D. B. Norton!</td>\n",
              "    </tr>\n",
              "    <tr>\n",
              "      <th>128757</th>\n",
              "      <td>Lovely. You were a big help.</td>\n",
              "    </tr>\n",
              "    <tr>\n",
              "      <th>273736</th>\n",
              "      <td>It, John.  Not him.  It.</td>\n",
              "    </tr>\n",
              "    <tr>\n",
              "      <th>164838</th>\n",
              "      <td>I know. I followed you. To the zoo, to her hou...</td>\n",
              "    </tr>\n",
              "  </tbody>\n",
              "</table>\n",
              "</div>\n",
              "      <button class=\"colab-df-convert\" onclick=\"convertToInteractive('df-76894d01-2a0c-4c12-8bd4-3a762e8d473f')\"\n",
              "              title=\"Convert this dataframe to an interactive table.\"\n",
              "              style=\"display:none;\">\n",
              "        \n",
              "  <svg xmlns=\"http://www.w3.org/2000/svg\" height=\"24px\"viewBox=\"0 0 24 24\"\n",
              "       width=\"24px\">\n",
              "    <path d=\"M0 0h24v24H0V0z\" fill=\"none\"/>\n",
              "    <path d=\"M18.56 5.44l.94 2.06.94-2.06 2.06-.94-2.06-.94-.94-2.06-.94 2.06-2.06.94zm-11 1L8.5 8.5l.94-2.06 2.06-.94-2.06-.94L8.5 2.5l-.94 2.06-2.06.94zm10 10l.94 2.06.94-2.06 2.06-.94-2.06-.94-.94-2.06-.94 2.06-2.06.94z\"/><path d=\"M17.41 7.96l-1.37-1.37c-.4-.4-.92-.59-1.43-.59-.52 0-1.04.2-1.43.59L10.3 9.45l-7.72 7.72c-.78.78-.78 2.05 0 2.83L4 21.41c.39.39.9.59 1.41.59.51 0 1.02-.2 1.41-.59l7.78-7.78 2.81-2.81c.8-.78.8-2.07 0-2.86zM5.41 20L4 18.59l7.72-7.72 1.47 1.35L5.41 20z\"/>\n",
              "  </svg>\n",
              "      </button>\n",
              "      \n",
              "  <style>\n",
              "    .colab-df-container {\n",
              "      display:flex;\n",
              "      flex-wrap:wrap;\n",
              "      gap: 12px;\n",
              "    }\n",
              "\n",
              "    .colab-df-convert {\n",
              "      background-color: #E8F0FE;\n",
              "      border: none;\n",
              "      border-radius: 50%;\n",
              "      cursor: pointer;\n",
              "      display: none;\n",
              "      fill: #1967D2;\n",
              "      height: 32px;\n",
              "      padding: 0 0 0 0;\n",
              "      width: 32px;\n",
              "    }\n",
              "\n",
              "    .colab-df-convert:hover {\n",
              "      background-color: #E2EBFA;\n",
              "      box-shadow: 0px 1px 2px rgba(60, 64, 67, 0.3), 0px 1px 3px 1px rgba(60, 64, 67, 0.15);\n",
              "      fill: #174EA6;\n",
              "    }\n",
              "\n",
              "    [theme=dark] .colab-df-convert {\n",
              "      background-color: #3B4455;\n",
              "      fill: #D2E3FC;\n",
              "    }\n",
              "\n",
              "    [theme=dark] .colab-df-convert:hover {\n",
              "      background-color: #434B5C;\n",
              "      box-shadow: 0px 1px 3px 1px rgba(0, 0, 0, 0.15);\n",
              "      filter: drop-shadow(0px 1px 2px rgba(0, 0, 0, 0.3));\n",
              "      fill: #FFFFFF;\n",
              "    }\n",
              "  </style>\n",
              "\n",
              "      <script>\n",
              "        const buttonEl =\n",
              "          document.querySelector('#df-76894d01-2a0c-4c12-8bd4-3a762e8d473f button.colab-df-convert');\n",
              "        buttonEl.style.display =\n",
              "          google.colab.kernel.accessAllowed ? 'block' : 'none';\n",
              "\n",
              "        async function convertToInteractive(key) {\n",
              "          const element = document.querySelector('#df-76894d01-2a0c-4c12-8bd4-3a762e8d473f');\n",
              "          const dataTable =\n",
              "            await google.colab.kernel.invokeFunction('convertToInteractive',\n",
              "                                                     [key], {});\n",
              "          if (!dataTable) return;\n",
              "\n",
              "          const docLinkHtml = 'Like what you see? Visit the ' +\n",
              "            '<a target=\"_blank\" href=https://colab.research.google.com/notebooks/data_table.ipynb>data table notebook</a>'\n",
              "            + ' to learn more about interactive tables.';\n",
              "          element.innerHTML = '';\n",
              "          dataTable['output_type'] = 'display_data';\n",
              "          await google.colab.output.renderOutput(dataTable, element);\n",
              "          const docLink = document.createElement('div');\n",
              "          docLink.innerHTML = docLinkHtml;\n",
              "          element.appendChild(docLink);\n",
              "        }\n",
              "      </script>\n",
              "    </div>\n",
              "  </div>\n",
              "  "
            ]
          },
          "metadata": {},
          "execution_count": 164
        }
      ]
    },
    {
      "cell_type": "markdown",
      "source": [
        "---\n",
        "#SECTION 4 - Furthur Data cleaning and preprocessing\n",
        "Now that we have our 3 datasets successfully loaded, we need to ensure that the data is clean. Data cleaning can be a very intense task, so for this exercise, we will focus just on ensuring that the correct datatypes are present for each column, and if not, correcting them.\n",
        "\n",
        "Import the necessary libraries:"
      ],
      "metadata": {
        "id": "LdIYmGvtAv6r"
      }
    },
    {
      "cell_type": "code",
      "source": [
        "import nltk\n",
        "nltk.download('punkt')\n",
        "nltk.download('stopwords')\n",
        "nltk.download('wordnet')\n",
        "\n",
        "import re\n",
        "from nltk.corpus import stopwords\n",
        "from nltk.tokenize import word_tokenize\n",
        "from nltk.stem import WordNetLemmatizer"
      ],
      "metadata": {
        "colab": {
          "base_uri": "https://localhost:8080/"
        },
        "id": "vXWJf48JEVT2",
        "outputId": "4a5a0d82-c8b5-4276-a38c-57c73b24eb9e"
      },
      "execution_count": 165,
      "outputs": [
        {
          "output_type": "stream",
          "name": "stderr",
          "text": [
            "[nltk_data] Downloading package punkt to /root/nltk_data...\n",
            "[nltk_data]   Package punkt is already up-to-date!\n",
            "[nltk_data] Downloading package stopwords to /root/nltk_data...\n",
            "[nltk_data]   Package stopwords is already up-to-date!\n",
            "[nltk_data] Downloading package wordnet to /root/nltk_data...\n",
            "[nltk_data]   Package wordnet is already up-to-date!\n"
          ]
        }
      ]
    },
    {
      "cell_type": "markdown",
      "source": [
        "Now we will define function for data cleaning."
      ],
      "metadata": {
        "id": "zsqv6Q7dB1yz"
      }
    },
    {
      "cell_type": "code",
      "source": [
        "# Load stopwords\n",
        "stop_words = set(stopwords.words('english'))\n",
        "\n",
        "# Define a function for text cleaning\n",
        "def clean_text(text):\n",
        "    # Convert text to lowercase\n",
        "    text = text.lower()\n",
        "    # Remove URLs\n",
        "    text = re.sub(r'http\\S+', '', text)\n",
        "    # Remove special characters and punctuation\n",
        "    text = re.sub(r'[^a-zA-Z0-9]', ' ', text)\n",
        "    # Tokenize text into words\n",
        "    tokens = word_tokenize(text)\n",
        "    # Remove stopwords\n",
        "    tokens = [token for token in tokens if token not in stop_words]\n",
        "    # Lemmatize words\n",
        "    lemmatizer = WordNetLemmatizer()\n",
        "    tokens = [lemmatizer.lemmatize(token) for token in tokens]\n",
        "    # Join tokens back into a cleaned text\n",
        "    cleaned_text = ' '.join(tokens)\n",
        "    return cleaned_text"
      ],
      "metadata": {
        "id": "amOVkl-oDLXK"
      },
      "execution_count": 166,
      "outputs": []
    },
    {
      "cell_type": "markdown",
      "source": [
        "Now removing the missing values and performing the fuction on the train dataframe."
      ],
      "metadata": {
        "id": "ylMljI29No5D"
      }
    },
    {
      "cell_type": "code",
      "source": [
        "# Remove rows with missing values\n",
        "train_merged_df = train_merged_df.dropna()"
      ],
      "metadata": {
        "id": "orVD3Gg2GKx-"
      },
      "execution_count": 167,
      "outputs": []
    },
    {
      "cell_type": "code",
      "source": [
        "# Clean the 'Text' column\n",
        "train_merged_df['Text'] = train_merged_df['Text'].apply(clean_text)"
      ],
      "metadata": {
        "id": "vNRVBfGxGMkd"
      },
      "execution_count": 168,
      "outputs": []
    },
    {
      "cell_type": "code",
      "source": [
        "# Encode categorical labels\n",
        "#train_merged_df['Emotion_Label'] = train_merged_df['Emotion_Label'].astype('category').cat.codes"
      ],
      "metadata": {
        "id": "qQo2mrISDjTC"
      },
      "execution_count": null,
      "outputs": []
    },
    {
      "cell_type": "markdown",
      "source": [
        "Our cleaned train dataframe:"
      ],
      "metadata": {
        "id": "5wH-5vcaN3rn"
      }
    },
    {
      "cell_type": "code",
      "source": [
        "train_merged_df.sample(20)"
      ],
      "metadata": {
        "colab": {
          "base_uri": "https://localhost:8080/",
          "height": 676
        },
        "id": "QEu-DFbAEFYU",
        "outputId": "256f00f5-1256-4f18-c796-ea7ce502c46b"
      },
      "execution_count": 169,
      "outputs": [
        {
          "output_type": "execute_result",
          "data": {
            "text/plain": [
              "                                                    Text    Emotion  \\\n",
              "4250   mountain glacier melting faster united nation say    Neutral   \n",
              "38324                                 cwbtoad thanks bro    neutral   \n",
              "40344  seek conduct attack israel intended provoke re...      anger   \n",
              "21627      today salute mother honour feminine time beer        fun   \n",
              "10969  blood test today bad really needed dash 2 star...     relief   \n",
              "5608                                         listen loon    Neutral   \n",
              "15101  today sore surgery day glad took extra sick da...    sadness   \n",
              "28879         pythonkings nl equal gt almost better sims  happiness   \n",
              "3705   taliban seize rural district southwest police ...    Neutral   \n",
              "14934      eww town fair tire smell horrible making sick    neutral   \n",
              "427    summer 1993 marion county commission youth beg...    Neutral   \n",
              "5742   audubon truly making difference wildlife refug...    Neutral   \n",
              "20350  bad news btw started friend make jedi academy ...      worry   \n",
              "12183  egeriis lightest cleanest precise far know fas...   surprise   \n",
              "43139  voice miley alicia year longer contestant sad ...    sadness   \n",
              "37583  babystowz yo wats u doin 2day u havnt answerd ...      worry   \n",
              "40009                                jcbenge caught damn    neutral   \n",
              "26782                             sore head hope girl ok      worry   \n",
              "6668   pop fiction explores concept post human world ...   Positive   \n",
              "37226           babysitting little kid cant believe year      worry   \n",
              "\n",
              "      Emotion_Label  \n",
              "4250        Neutral  \n",
              "38324       Neutral  \n",
              "40344      negative  \n",
              "21627      Positive  \n",
              "10969       Neutral  \n",
              "5608        Neutral  \n",
              "15101      Negative  \n",
              "28879      Positive  \n",
              "3705        Neutral  \n",
              "14934       Neutral  \n",
              "427         Neutral  \n",
              "5742        Neutral  \n",
              "20350      Negative  \n",
              "12183       Neutral  \n",
              "43139      negative  \n",
              "37583      Negative  \n",
              "40009       Neutral  \n",
              "26782      Negative  \n",
              "6668       Positive  \n",
              "37226      Negative  "
            ],
            "text/html": [
              "\n",
              "  <div id=\"df-5f132ddf-7d27-42e0-a1da-8b4adcf753b8\">\n",
              "    <div class=\"colab-df-container\">\n",
              "      <div>\n",
              "<style scoped>\n",
              "    .dataframe tbody tr th:only-of-type {\n",
              "        vertical-align: middle;\n",
              "    }\n",
              "\n",
              "    .dataframe tbody tr th {\n",
              "        vertical-align: top;\n",
              "    }\n",
              "\n",
              "    .dataframe thead th {\n",
              "        text-align: right;\n",
              "    }\n",
              "</style>\n",
              "<table border=\"1\" class=\"dataframe\">\n",
              "  <thead>\n",
              "    <tr style=\"text-align: right;\">\n",
              "      <th></th>\n",
              "      <th>Text</th>\n",
              "      <th>Emotion</th>\n",
              "      <th>Emotion_Label</th>\n",
              "    </tr>\n",
              "  </thead>\n",
              "  <tbody>\n",
              "    <tr>\n",
              "      <th>4250</th>\n",
              "      <td>mountain glacier melting faster united nation say</td>\n",
              "      <td>Neutral</td>\n",
              "      <td>Neutral</td>\n",
              "    </tr>\n",
              "    <tr>\n",
              "      <th>38324</th>\n",
              "      <td>cwbtoad thanks bro</td>\n",
              "      <td>neutral</td>\n",
              "      <td>Neutral</td>\n",
              "    </tr>\n",
              "    <tr>\n",
              "      <th>40344</th>\n",
              "      <td>seek conduct attack israel intended provoke re...</td>\n",
              "      <td>anger</td>\n",
              "      <td>negative</td>\n",
              "    </tr>\n",
              "    <tr>\n",
              "      <th>21627</th>\n",
              "      <td>today salute mother honour feminine time beer</td>\n",
              "      <td>fun</td>\n",
              "      <td>Positive</td>\n",
              "    </tr>\n",
              "    <tr>\n",
              "      <th>10969</th>\n",
              "      <td>blood test today bad really needed dash 2 star...</td>\n",
              "      <td>relief</td>\n",
              "      <td>Neutral</td>\n",
              "    </tr>\n",
              "    <tr>\n",
              "      <th>5608</th>\n",
              "      <td>listen loon</td>\n",
              "      <td>Neutral</td>\n",
              "      <td>Neutral</td>\n",
              "    </tr>\n",
              "    <tr>\n",
              "      <th>15101</th>\n",
              "      <td>today sore surgery day glad took extra sick da...</td>\n",
              "      <td>sadness</td>\n",
              "      <td>Negative</td>\n",
              "    </tr>\n",
              "    <tr>\n",
              "      <th>28879</th>\n",
              "      <td>pythonkings nl equal gt almost better sims</td>\n",
              "      <td>happiness</td>\n",
              "      <td>Positive</td>\n",
              "    </tr>\n",
              "    <tr>\n",
              "      <th>3705</th>\n",
              "      <td>taliban seize rural district southwest police ...</td>\n",
              "      <td>Neutral</td>\n",
              "      <td>Neutral</td>\n",
              "    </tr>\n",
              "    <tr>\n",
              "      <th>14934</th>\n",
              "      <td>eww town fair tire smell horrible making sick</td>\n",
              "      <td>neutral</td>\n",
              "      <td>Neutral</td>\n",
              "    </tr>\n",
              "    <tr>\n",
              "      <th>427</th>\n",
              "      <td>summer 1993 marion county commission youth beg...</td>\n",
              "      <td>Neutral</td>\n",
              "      <td>Neutral</td>\n",
              "    </tr>\n",
              "    <tr>\n",
              "      <th>5742</th>\n",
              "      <td>audubon truly making difference wildlife refug...</td>\n",
              "      <td>Neutral</td>\n",
              "      <td>Neutral</td>\n",
              "    </tr>\n",
              "    <tr>\n",
              "      <th>20350</th>\n",
              "      <td>bad news btw started friend make jedi academy ...</td>\n",
              "      <td>worry</td>\n",
              "      <td>Negative</td>\n",
              "    </tr>\n",
              "    <tr>\n",
              "      <th>12183</th>\n",
              "      <td>egeriis lightest cleanest precise far know fas...</td>\n",
              "      <td>surprise</td>\n",
              "      <td>Neutral</td>\n",
              "    </tr>\n",
              "    <tr>\n",
              "      <th>43139</th>\n",
              "      <td>voice miley alicia year longer contestant sad ...</td>\n",
              "      <td>sadness</td>\n",
              "      <td>negative</td>\n",
              "    </tr>\n",
              "    <tr>\n",
              "      <th>37583</th>\n",
              "      <td>babystowz yo wats u doin 2day u havnt answerd ...</td>\n",
              "      <td>worry</td>\n",
              "      <td>Negative</td>\n",
              "    </tr>\n",
              "    <tr>\n",
              "      <th>40009</th>\n",
              "      <td>jcbenge caught damn</td>\n",
              "      <td>neutral</td>\n",
              "      <td>Neutral</td>\n",
              "    </tr>\n",
              "    <tr>\n",
              "      <th>26782</th>\n",
              "      <td>sore head hope girl ok</td>\n",
              "      <td>worry</td>\n",
              "      <td>Negative</td>\n",
              "    </tr>\n",
              "    <tr>\n",
              "      <th>6668</th>\n",
              "      <td>pop fiction explores concept post human world ...</td>\n",
              "      <td>Positive</td>\n",
              "      <td>Positive</td>\n",
              "    </tr>\n",
              "    <tr>\n",
              "      <th>37226</th>\n",
              "      <td>babysitting little kid cant believe year</td>\n",
              "      <td>worry</td>\n",
              "      <td>Negative</td>\n",
              "    </tr>\n",
              "  </tbody>\n",
              "</table>\n",
              "</div>\n",
              "      <button class=\"colab-df-convert\" onclick=\"convertToInteractive('df-5f132ddf-7d27-42e0-a1da-8b4adcf753b8')\"\n",
              "              title=\"Convert this dataframe to an interactive table.\"\n",
              "              style=\"display:none;\">\n",
              "        \n",
              "  <svg xmlns=\"http://www.w3.org/2000/svg\" height=\"24px\"viewBox=\"0 0 24 24\"\n",
              "       width=\"24px\">\n",
              "    <path d=\"M0 0h24v24H0V0z\" fill=\"none\"/>\n",
              "    <path d=\"M18.56 5.44l.94 2.06.94-2.06 2.06-.94-2.06-.94-.94-2.06-.94 2.06-2.06.94zm-11 1L8.5 8.5l.94-2.06 2.06-.94-2.06-.94L8.5 2.5l-.94 2.06-2.06.94zm10 10l.94 2.06.94-2.06 2.06-.94-2.06-.94-.94-2.06-.94 2.06-2.06.94z\"/><path d=\"M17.41 7.96l-1.37-1.37c-.4-.4-.92-.59-1.43-.59-.52 0-1.04.2-1.43.59L10.3 9.45l-7.72 7.72c-.78.78-.78 2.05 0 2.83L4 21.41c.39.39.9.59 1.41.59.51 0 1.02-.2 1.41-.59l7.78-7.78 2.81-2.81c.8-.78.8-2.07 0-2.86zM5.41 20L4 18.59l7.72-7.72 1.47 1.35L5.41 20z\"/>\n",
              "  </svg>\n",
              "      </button>\n",
              "      \n",
              "  <style>\n",
              "    .colab-df-container {\n",
              "      display:flex;\n",
              "      flex-wrap:wrap;\n",
              "      gap: 12px;\n",
              "    }\n",
              "\n",
              "    .colab-df-convert {\n",
              "      background-color: #E8F0FE;\n",
              "      border: none;\n",
              "      border-radius: 50%;\n",
              "      cursor: pointer;\n",
              "      display: none;\n",
              "      fill: #1967D2;\n",
              "      height: 32px;\n",
              "      padding: 0 0 0 0;\n",
              "      width: 32px;\n",
              "    }\n",
              "\n",
              "    .colab-df-convert:hover {\n",
              "      background-color: #E2EBFA;\n",
              "      box-shadow: 0px 1px 2px rgba(60, 64, 67, 0.3), 0px 1px 3px 1px rgba(60, 64, 67, 0.15);\n",
              "      fill: #174EA6;\n",
              "    }\n",
              "\n",
              "    [theme=dark] .colab-df-convert {\n",
              "      background-color: #3B4455;\n",
              "      fill: #D2E3FC;\n",
              "    }\n",
              "\n",
              "    [theme=dark] .colab-df-convert:hover {\n",
              "      background-color: #434B5C;\n",
              "      box-shadow: 0px 1px 3px 1px rgba(0, 0, 0, 0.15);\n",
              "      filter: drop-shadow(0px 1px 2px rgba(0, 0, 0, 0.3));\n",
              "      fill: #FFFFFF;\n",
              "    }\n",
              "  </style>\n",
              "\n",
              "      <script>\n",
              "        const buttonEl =\n",
              "          document.querySelector('#df-5f132ddf-7d27-42e0-a1da-8b4adcf753b8 button.colab-df-convert');\n",
              "        buttonEl.style.display =\n",
              "          google.colab.kernel.accessAllowed ? 'block' : 'none';\n",
              "\n",
              "        async function convertToInteractive(key) {\n",
              "          const element = document.querySelector('#df-5f132ddf-7d27-42e0-a1da-8b4adcf753b8');\n",
              "          const dataTable =\n",
              "            await google.colab.kernel.invokeFunction('convertToInteractive',\n",
              "                                                     [key], {});\n",
              "          if (!dataTable) return;\n",
              "\n",
              "          const docLinkHtml = 'Like what you see? Visit the ' +\n",
              "            '<a target=\"_blank\" href=https://colab.research.google.com/notebooks/data_table.ipynb>data table notebook</a>'\n",
              "            + ' to learn more about interactive tables.';\n",
              "          element.innerHTML = '';\n",
              "          dataTable['output_type'] = 'display_data';\n",
              "          await google.colab.output.renderOutput(dataTable, element);\n",
              "          const docLink = document.createElement('div');\n",
              "          docLink.innerHTML = docLinkHtml;\n",
              "          element.appendChild(docLink);\n",
              "        }\n",
              "      </script>\n",
              "    </div>\n",
              "  </div>\n",
              "  "
            ]
          },
          "metadata": {},
          "execution_count": 169
        }
      ]
    },
    {
      "cell_type": "markdown",
      "source": [
        "Do the same thing for the test dataframe."
      ],
      "metadata": {
        "id": "XlMHdl5WOK3T"
      }
    },
    {
      "cell_type": "code",
      "source": [
        "# Remove rows with missing values\n",
        "test_merged_df = test_merged_df.dropna()"
      ],
      "metadata": {
        "id": "8FqFAq1uGVCc"
      },
      "execution_count": 170,
      "outputs": []
    },
    {
      "cell_type": "code",
      "source": [
        "# Clean the 'Text' column\n",
        "test_merged_df['Text'] = test_merged_df['Text'].apply(clean_text)"
      ],
      "metadata": {
        "id": "Am3wa39hGYm1"
      },
      "execution_count": 171,
      "outputs": []
    },
    {
      "cell_type": "code",
      "source": [
        "# Encode categorical labels\n",
        "#test_merged_df['Emotion_Label'] = test_merged_df['Emotion_Label'].astype('category').cat.codes"
      ],
      "metadata": {
        "id": "i8_AAqfUE5Ys"
      },
      "execution_count": 172,
      "outputs": []
    },
    {
      "cell_type": "markdown",
      "source": [
        "Results:"
      ],
      "metadata": {
        "id": "wMBn_L9aOP5k"
      }
    },
    {
      "cell_type": "markdown",
      "source": [],
      "metadata": {
        "id": "hQL73nIJDSP9"
      }
    },
    {
      "cell_type": "code",
      "source": [
        "test_merged_df.sample(10)"
      ],
      "metadata": {
        "colab": {
          "base_uri": "https://localhost:8080/",
          "height": 362
        },
        "id": "28SKKK7aFGHP",
        "outputId": "a6a0099d-5fc1-41db-8236-160011c73507"
      },
      "execution_count": 173,
      "outputs": [
        {
          "output_type": "execute_result",
          "data": {
            "text/plain": [
              "                                                    Text    Emotion  \\\n",
              "8531       started lovely morning look like gon na chuck      worry   \n",
              "10418                  anxious time leaving house horrid       fear   \n",
              "5923   woohoo procrastinating work going lunch wait s...    neutral   \n",
              "3101                    watching pianist dad great movie  happiness   \n",
              "3189   sooo tired headache self inflicted course good...      empty   \n",
              "2612                         vampirefreak101 haha thanks  happiness   \n",
              "8274                     california sunny make kinda sad    sadness   \n",
              "10501                                           tremor n       fear   \n",
              "5320   pcsketch well going get talk later goodnight g...  happiness   \n",
              "10110  good morning n n leadership healthcareit socia...       fear   \n",
              "\n",
              "      Emotion_Label  \n",
              "8531       Negative  \n",
              "10418      negative  \n",
              "5923        Neutral  \n",
              "3101       Positive  \n",
              "3189        Neutral  \n",
              "2612       Positive  \n",
              "8274       Negative  \n",
              "10501      negative  \n",
              "5320       Positive  \n",
              "10110       neutral  "
            ],
            "text/html": [
              "\n",
              "  <div id=\"df-03a35bb5-c078-480b-9713-0e5dab78d1c1\">\n",
              "    <div class=\"colab-df-container\">\n",
              "      <div>\n",
              "<style scoped>\n",
              "    .dataframe tbody tr th:only-of-type {\n",
              "        vertical-align: middle;\n",
              "    }\n",
              "\n",
              "    .dataframe tbody tr th {\n",
              "        vertical-align: top;\n",
              "    }\n",
              "\n",
              "    .dataframe thead th {\n",
              "        text-align: right;\n",
              "    }\n",
              "</style>\n",
              "<table border=\"1\" class=\"dataframe\">\n",
              "  <thead>\n",
              "    <tr style=\"text-align: right;\">\n",
              "      <th></th>\n",
              "      <th>Text</th>\n",
              "      <th>Emotion</th>\n",
              "      <th>Emotion_Label</th>\n",
              "    </tr>\n",
              "  </thead>\n",
              "  <tbody>\n",
              "    <tr>\n",
              "      <th>8531</th>\n",
              "      <td>started lovely morning look like gon na chuck</td>\n",
              "      <td>worry</td>\n",
              "      <td>Negative</td>\n",
              "    </tr>\n",
              "    <tr>\n",
              "      <th>10418</th>\n",
              "      <td>anxious time leaving house horrid</td>\n",
              "      <td>fear</td>\n",
              "      <td>negative</td>\n",
              "    </tr>\n",
              "    <tr>\n",
              "      <th>5923</th>\n",
              "      <td>woohoo procrastinating work going lunch wait s...</td>\n",
              "      <td>neutral</td>\n",
              "      <td>Neutral</td>\n",
              "    </tr>\n",
              "    <tr>\n",
              "      <th>3101</th>\n",
              "      <td>watching pianist dad great movie</td>\n",
              "      <td>happiness</td>\n",
              "      <td>Positive</td>\n",
              "    </tr>\n",
              "    <tr>\n",
              "      <th>3189</th>\n",
              "      <td>sooo tired headache self inflicted course good...</td>\n",
              "      <td>empty</td>\n",
              "      <td>Neutral</td>\n",
              "    </tr>\n",
              "    <tr>\n",
              "      <th>2612</th>\n",
              "      <td>vampirefreak101 haha thanks</td>\n",
              "      <td>happiness</td>\n",
              "      <td>Positive</td>\n",
              "    </tr>\n",
              "    <tr>\n",
              "      <th>8274</th>\n",
              "      <td>california sunny make kinda sad</td>\n",
              "      <td>sadness</td>\n",
              "      <td>Negative</td>\n",
              "    </tr>\n",
              "    <tr>\n",
              "      <th>10501</th>\n",
              "      <td>tremor n</td>\n",
              "      <td>fear</td>\n",
              "      <td>negative</td>\n",
              "    </tr>\n",
              "    <tr>\n",
              "      <th>5320</th>\n",
              "      <td>pcsketch well going get talk later goodnight g...</td>\n",
              "      <td>happiness</td>\n",
              "      <td>Positive</td>\n",
              "    </tr>\n",
              "    <tr>\n",
              "      <th>10110</th>\n",
              "      <td>good morning n n leadership healthcareit socia...</td>\n",
              "      <td>fear</td>\n",
              "      <td>neutral</td>\n",
              "    </tr>\n",
              "  </tbody>\n",
              "</table>\n",
              "</div>\n",
              "      <button class=\"colab-df-convert\" onclick=\"convertToInteractive('df-03a35bb5-c078-480b-9713-0e5dab78d1c1')\"\n",
              "              title=\"Convert this dataframe to an interactive table.\"\n",
              "              style=\"display:none;\">\n",
              "        \n",
              "  <svg xmlns=\"http://www.w3.org/2000/svg\" height=\"24px\"viewBox=\"0 0 24 24\"\n",
              "       width=\"24px\">\n",
              "    <path d=\"M0 0h24v24H0V0z\" fill=\"none\"/>\n",
              "    <path d=\"M18.56 5.44l.94 2.06.94-2.06 2.06-.94-2.06-.94-.94-2.06-.94 2.06-2.06.94zm-11 1L8.5 8.5l.94-2.06 2.06-.94-2.06-.94L8.5 2.5l-.94 2.06-2.06.94zm10 10l.94 2.06.94-2.06 2.06-.94-2.06-.94-.94-2.06-.94 2.06-2.06.94z\"/><path d=\"M17.41 7.96l-1.37-1.37c-.4-.4-.92-.59-1.43-.59-.52 0-1.04.2-1.43.59L10.3 9.45l-7.72 7.72c-.78.78-.78 2.05 0 2.83L4 21.41c.39.39.9.59 1.41.59.51 0 1.02-.2 1.41-.59l7.78-7.78 2.81-2.81c.8-.78.8-2.07 0-2.86zM5.41 20L4 18.59l7.72-7.72 1.47 1.35L5.41 20z\"/>\n",
              "  </svg>\n",
              "      </button>\n",
              "      \n",
              "  <style>\n",
              "    .colab-df-container {\n",
              "      display:flex;\n",
              "      flex-wrap:wrap;\n",
              "      gap: 12px;\n",
              "    }\n",
              "\n",
              "    .colab-df-convert {\n",
              "      background-color: #E8F0FE;\n",
              "      border: none;\n",
              "      border-radius: 50%;\n",
              "      cursor: pointer;\n",
              "      display: none;\n",
              "      fill: #1967D2;\n",
              "      height: 32px;\n",
              "      padding: 0 0 0 0;\n",
              "      width: 32px;\n",
              "    }\n",
              "\n",
              "    .colab-df-convert:hover {\n",
              "      background-color: #E2EBFA;\n",
              "      box-shadow: 0px 1px 2px rgba(60, 64, 67, 0.3), 0px 1px 3px 1px rgba(60, 64, 67, 0.15);\n",
              "      fill: #174EA6;\n",
              "    }\n",
              "\n",
              "    [theme=dark] .colab-df-convert {\n",
              "      background-color: #3B4455;\n",
              "      fill: #D2E3FC;\n",
              "    }\n",
              "\n",
              "    [theme=dark] .colab-df-convert:hover {\n",
              "      background-color: #434B5C;\n",
              "      box-shadow: 0px 1px 3px 1px rgba(0, 0, 0, 0.15);\n",
              "      filter: drop-shadow(0px 1px 2px rgba(0, 0, 0, 0.3));\n",
              "      fill: #FFFFFF;\n",
              "    }\n",
              "  </style>\n",
              "\n",
              "      <script>\n",
              "        const buttonEl =\n",
              "          document.querySelector('#df-03a35bb5-c078-480b-9713-0e5dab78d1c1 button.colab-df-convert');\n",
              "        buttonEl.style.display =\n",
              "          google.colab.kernel.accessAllowed ? 'block' : 'none';\n",
              "\n",
              "        async function convertToInteractive(key) {\n",
              "          const element = document.querySelector('#df-03a35bb5-c078-480b-9713-0e5dab78d1c1');\n",
              "          const dataTable =\n",
              "            await google.colab.kernel.invokeFunction('convertToInteractive',\n",
              "                                                     [key], {});\n",
              "          if (!dataTable) return;\n",
              "\n",
              "          const docLinkHtml = 'Like what you see? Visit the ' +\n",
              "            '<a target=\"_blank\" href=https://colab.research.google.com/notebooks/data_table.ipynb>data table notebook</a>'\n",
              "            + ' to learn more about interactive tables.';\n",
              "          element.innerHTML = '';\n",
              "          dataTable['output_type'] = 'display_data';\n",
              "          await google.colab.output.renderOutput(dataTable, element);\n",
              "          const docLink = document.createElement('div');\n",
              "          docLink.innerHTML = docLinkHtml;\n",
              "          element.appendChild(docLink);\n",
              "        }\n",
              "      </script>\n",
              "    </div>\n",
              "  </div>\n",
              "  "
            ]
          },
          "metadata": {},
          "execution_count": 173
        }
      ]
    },
    {
      "cell_type": "markdown",
      "source": [
        "*   Cornell Movie-Dialogs Corpus\n"
      ],
      "metadata": {
        "id": "bgJceM71QCfF"
      }
    },
    {
      "cell_type": "code",
      "source": [
        "# Remove rows with missing values\n",
        "movie_df = movie_df.dropna()\n",
        "\n",
        "# Clean the 'Text' column\n",
        "movie_df['text'] = movie_df['text'].apply(clean_text)"
      ],
      "metadata": {
        "id": "diSTHQqJhT_v"
      },
      "execution_count": 174,
      "outputs": []
    },
    {
      "cell_type": "code",
      "source": [
        "movie_df.head(5)"
      ],
      "metadata": {
        "colab": {
          "base_uri": "https://localhost:8080/",
          "height": 284
        },
        "id": "xc7SDvywiDj4",
        "outputId": "a7c16138-c686-4872-9db4-949b09b43b27"
      },
      "execution_count": 175,
      "outputs": [
        {
          "output_type": "execute_result",
          "data": {
            "text/plain": [
              "                         text speaker reply-to vectors movie_id  \\\n",
              "0                                  u0    L1044      []       m0   \n",
              "2                        hope      u0     L984      []       m0   \n",
              "4                      let go      u0     L924      []       m0   \n",
              "6  okay gon na need learn lie      u0     L871      []       m0   \n",
              "7                                  u2     L870      []       m0   \n",
              "\n",
              "   parsed_rating                                              token  \\\n",
              "0            1.0                                 [They, do, not, !]   \n",
              "2            1.0                                   [I, hope, so, .]   \n",
              "4            0.0                                   [Let, 's, go, .]   \n",
              "6            4.0  [Okay, --, you, 're, gon, na, need, to, learn,...   \n",
              "7            0.0                                               [No]   \n",
              "\n",
              "                                                 tag  \\\n",
              "0                                  [PRP, VBP, RB, .]   \n",
              "2                                  [PRP, VBP, RB, .]   \n",
              "4                                   [VB, PRP, VB, .]   \n",
              "6  [UH, :, PRP, VBP, VBG, TO, VB, TO, VB, WRB, TO...   \n",
              "7                                               [UH]   \n",
              "\n",
              "                                                 dep  \n",
              "0                          [nsubj, ROOT, neg, punct]  \n",
              "2                       [nsubj, ROOT, advmod, punct]  \n",
              "4                        [ROOT, nsubj, ccomp, punct]  \n",
              "6  [intj, punct, nsubj, aux, ROOT, aux, xcomp, au...  \n",
              "7                                             [ROOT]  "
            ],
            "text/html": [
              "\n",
              "  <div id=\"df-b6b2fb0c-418d-44e9-89d9-e4e4225ce867\">\n",
              "    <div class=\"colab-df-container\">\n",
              "      <div>\n",
              "<style scoped>\n",
              "    .dataframe tbody tr th:only-of-type {\n",
              "        vertical-align: middle;\n",
              "    }\n",
              "\n",
              "    .dataframe tbody tr th {\n",
              "        vertical-align: top;\n",
              "    }\n",
              "\n",
              "    .dataframe thead th {\n",
              "        text-align: right;\n",
              "    }\n",
              "</style>\n",
              "<table border=\"1\" class=\"dataframe\">\n",
              "  <thead>\n",
              "    <tr style=\"text-align: right;\">\n",
              "      <th></th>\n",
              "      <th>text</th>\n",
              "      <th>speaker</th>\n",
              "      <th>reply-to</th>\n",
              "      <th>vectors</th>\n",
              "      <th>movie_id</th>\n",
              "      <th>parsed_rating</th>\n",
              "      <th>token</th>\n",
              "      <th>tag</th>\n",
              "      <th>dep</th>\n",
              "    </tr>\n",
              "  </thead>\n",
              "  <tbody>\n",
              "    <tr>\n",
              "      <th>0</th>\n",
              "      <td></td>\n",
              "      <td>u0</td>\n",
              "      <td>L1044</td>\n",
              "      <td>[]</td>\n",
              "      <td>m0</td>\n",
              "      <td>1.0</td>\n",
              "      <td>[They, do, not, !]</td>\n",
              "      <td>[PRP, VBP, RB, .]</td>\n",
              "      <td>[nsubj, ROOT, neg, punct]</td>\n",
              "    </tr>\n",
              "    <tr>\n",
              "      <th>2</th>\n",
              "      <td>hope</td>\n",
              "      <td>u0</td>\n",
              "      <td>L984</td>\n",
              "      <td>[]</td>\n",
              "      <td>m0</td>\n",
              "      <td>1.0</td>\n",
              "      <td>[I, hope, so, .]</td>\n",
              "      <td>[PRP, VBP, RB, .]</td>\n",
              "      <td>[nsubj, ROOT, advmod, punct]</td>\n",
              "    </tr>\n",
              "    <tr>\n",
              "      <th>4</th>\n",
              "      <td>let go</td>\n",
              "      <td>u0</td>\n",
              "      <td>L924</td>\n",
              "      <td>[]</td>\n",
              "      <td>m0</td>\n",
              "      <td>0.0</td>\n",
              "      <td>[Let, 's, go, .]</td>\n",
              "      <td>[VB, PRP, VB, .]</td>\n",
              "      <td>[ROOT, nsubj, ccomp, punct]</td>\n",
              "    </tr>\n",
              "    <tr>\n",
              "      <th>6</th>\n",
              "      <td>okay gon na need learn lie</td>\n",
              "      <td>u0</td>\n",
              "      <td>L871</td>\n",
              "      <td>[]</td>\n",
              "      <td>m0</td>\n",
              "      <td>4.0</td>\n",
              "      <td>[Okay, --, you, 're, gon, na, need, to, learn,...</td>\n",
              "      <td>[UH, :, PRP, VBP, VBG, TO, VB, TO, VB, WRB, TO...</td>\n",
              "      <td>[intj, punct, nsubj, aux, ROOT, aux, xcomp, au...</td>\n",
              "    </tr>\n",
              "    <tr>\n",
              "      <th>7</th>\n",
              "      <td></td>\n",
              "      <td>u2</td>\n",
              "      <td>L870</td>\n",
              "      <td>[]</td>\n",
              "      <td>m0</td>\n",
              "      <td>0.0</td>\n",
              "      <td>[No]</td>\n",
              "      <td>[UH]</td>\n",
              "      <td>[ROOT]</td>\n",
              "    </tr>\n",
              "  </tbody>\n",
              "</table>\n",
              "</div>\n",
              "      <button class=\"colab-df-convert\" onclick=\"convertToInteractive('df-b6b2fb0c-418d-44e9-89d9-e4e4225ce867')\"\n",
              "              title=\"Convert this dataframe to an interactive table.\"\n",
              "              style=\"display:none;\">\n",
              "        \n",
              "  <svg xmlns=\"http://www.w3.org/2000/svg\" height=\"24px\"viewBox=\"0 0 24 24\"\n",
              "       width=\"24px\">\n",
              "    <path d=\"M0 0h24v24H0V0z\" fill=\"none\"/>\n",
              "    <path d=\"M18.56 5.44l.94 2.06.94-2.06 2.06-.94-2.06-.94-.94-2.06-.94 2.06-2.06.94zm-11 1L8.5 8.5l.94-2.06 2.06-.94-2.06-.94L8.5 2.5l-.94 2.06-2.06.94zm10 10l.94 2.06.94-2.06 2.06-.94-2.06-.94-.94-2.06-.94 2.06-2.06.94z\"/><path d=\"M17.41 7.96l-1.37-1.37c-.4-.4-.92-.59-1.43-.59-.52 0-1.04.2-1.43.59L10.3 9.45l-7.72 7.72c-.78.78-.78 2.05 0 2.83L4 21.41c.39.39.9.59 1.41.59.51 0 1.02-.2 1.41-.59l7.78-7.78 2.81-2.81c.8-.78.8-2.07 0-2.86zM5.41 20L4 18.59l7.72-7.72 1.47 1.35L5.41 20z\"/>\n",
              "  </svg>\n",
              "      </button>\n",
              "      \n",
              "  <style>\n",
              "    .colab-df-container {\n",
              "      display:flex;\n",
              "      flex-wrap:wrap;\n",
              "      gap: 12px;\n",
              "    }\n",
              "\n",
              "    .colab-df-convert {\n",
              "      background-color: #E8F0FE;\n",
              "      border: none;\n",
              "      border-radius: 50%;\n",
              "      cursor: pointer;\n",
              "      display: none;\n",
              "      fill: #1967D2;\n",
              "      height: 32px;\n",
              "      padding: 0 0 0 0;\n",
              "      width: 32px;\n",
              "    }\n",
              "\n",
              "    .colab-df-convert:hover {\n",
              "      background-color: #E2EBFA;\n",
              "      box-shadow: 0px 1px 2px rgba(60, 64, 67, 0.3), 0px 1px 3px 1px rgba(60, 64, 67, 0.15);\n",
              "      fill: #174EA6;\n",
              "    }\n",
              "\n",
              "    [theme=dark] .colab-df-convert {\n",
              "      background-color: #3B4455;\n",
              "      fill: #D2E3FC;\n",
              "    }\n",
              "\n",
              "    [theme=dark] .colab-df-convert:hover {\n",
              "      background-color: #434B5C;\n",
              "      box-shadow: 0px 1px 3px 1px rgba(0, 0, 0, 0.15);\n",
              "      filter: drop-shadow(0px 1px 2px rgba(0, 0, 0, 0.3));\n",
              "      fill: #FFFFFF;\n",
              "    }\n",
              "  </style>\n",
              "\n",
              "      <script>\n",
              "        const buttonEl =\n",
              "          document.querySelector('#df-b6b2fb0c-418d-44e9-89d9-e4e4225ce867 button.colab-df-convert');\n",
              "        buttonEl.style.display =\n",
              "          google.colab.kernel.accessAllowed ? 'block' : 'none';\n",
              "\n",
              "        async function convertToInteractive(key) {\n",
              "          const element = document.querySelector('#df-b6b2fb0c-418d-44e9-89d9-e4e4225ce867');\n",
              "          const dataTable =\n",
              "            await google.colab.kernel.invokeFunction('convertToInteractive',\n",
              "                                                     [key], {});\n",
              "          if (!dataTable) return;\n",
              "\n",
              "          const docLinkHtml = 'Like what you see? Visit the ' +\n",
              "            '<a target=\"_blank\" href=https://colab.research.google.com/notebooks/data_table.ipynb>data table notebook</a>'\n",
              "            + ' to learn more about interactive tables.';\n",
              "          element.innerHTML = '';\n",
              "          dataTable['output_type'] = 'display_data';\n",
              "          await google.colab.output.renderOutput(dataTable, element);\n",
              "          const docLink = document.createElement('div');\n",
              "          docLink.innerHTML = docLinkHtml;\n",
              "          element.appendChild(docLink);\n",
              "        }\n",
              "      </script>\n",
              "    </div>\n",
              "  </div>\n",
              "  "
            ]
          },
          "metadata": {},
          "execution_count": 175
        }
      ]
    },
    {
      "cell_type": "code",
      "source": [
        "movie_df.shape"
      ],
      "metadata": {
        "colab": {
          "base_uri": "https://localhost:8080/"
        },
        "id": "q9ND01nMifJf",
        "outputId": "fc89d981-5bf0-4542-e3b0-9a98355bbb74"
      },
      "execution_count": 176,
      "outputs": [
        {
          "output_type": "execute_result",
          "data": {
            "text/plain": [
              "(221414, 9)"
            ]
          },
          "metadata": {},
          "execution_count": 176
        }
      ]
    },
    {
      "cell_type": "code",
      "source": [
        "movie_df.isnull().sum()"
      ],
      "metadata": {
        "colab": {
          "base_uri": "https://localhost:8080/"
        },
        "id": "6bZr_mUtflWr",
        "outputId": "abd84d1a-94e6-49f9-d573-bfd19f9fd777"
      },
      "execution_count": 177,
      "outputs": [
        {
          "output_type": "execute_result",
          "data": {
            "text/plain": [
              "text             0\n",
              "speaker          0\n",
              "reply-to         0\n",
              "vectors          0\n",
              "movie_id         0\n",
              "parsed_rating    0\n",
              "token            0\n",
              "tag              0\n",
              "dep              0\n",
              "dtype: int64"
            ]
          },
          "metadata": {},
          "execution_count": 177
        }
      ]
    },
    {
      "cell_type": "code",
      "source": [
        "movie_predict_df = movie_predict_df.dropna()\n",
        "movie_predict_df['text'] = movie_predict_df['text'].apply(clean_text)\n",
        "movie_predict_df.shape"
      ],
      "metadata": {
        "colab": {
          "base_uri": "https://localhost:8080/"
        },
        "id": "Z5bNQExTkVZr",
        "outputId": "5d7ee144-03c7-4bac-e7df-860c2eedecda"
      },
      "execution_count": 178,
      "outputs": [
        {
          "output_type": "execute_result",
          "data": {
            "text/plain": [
              "(304713, 1)"
            ]
          },
          "metadata": {},
          "execution_count": 178
        }
      ]
    },
    {
      "cell_type": "code",
      "source": [
        "movie_predict_df.sample(5)"
      ],
      "metadata": {
        "colab": {
          "base_uri": "https://localhost:8080/",
          "height": 206
        },
        "id": "kZpPJ6KDlOIx",
        "outputId": "821c14bc-afd9-46df-c2bd-a116c4d8a4d7"
      },
      "execution_count": 179,
      "outputs": [
        {
          "output_type": "execute_result",
          "data": {
            "text/plain": [
              "                                                     text\n",
              "59782   polishing bed pajama 11 15 night going show so...\n",
              "87760   better give something dad better give somethin...\n",
              "240157       remember bank robber loser loser bank robber\n",
              "226273  call 911 look around alex broke smashed v one ...\n",
              "254308                                                kit"
            ],
            "text/html": [
              "\n",
              "  <div id=\"df-dfa0862b-e358-4173-a50b-af13fabfffd1\">\n",
              "    <div class=\"colab-df-container\">\n",
              "      <div>\n",
              "<style scoped>\n",
              "    .dataframe tbody tr th:only-of-type {\n",
              "        vertical-align: middle;\n",
              "    }\n",
              "\n",
              "    .dataframe tbody tr th {\n",
              "        vertical-align: top;\n",
              "    }\n",
              "\n",
              "    .dataframe thead th {\n",
              "        text-align: right;\n",
              "    }\n",
              "</style>\n",
              "<table border=\"1\" class=\"dataframe\">\n",
              "  <thead>\n",
              "    <tr style=\"text-align: right;\">\n",
              "      <th></th>\n",
              "      <th>text</th>\n",
              "    </tr>\n",
              "  </thead>\n",
              "  <tbody>\n",
              "    <tr>\n",
              "      <th>59782</th>\n",
              "      <td>polishing bed pajama 11 15 night going show so...</td>\n",
              "    </tr>\n",
              "    <tr>\n",
              "      <th>87760</th>\n",
              "      <td>better give something dad better give somethin...</td>\n",
              "    </tr>\n",
              "    <tr>\n",
              "      <th>240157</th>\n",
              "      <td>remember bank robber loser loser bank robber</td>\n",
              "    </tr>\n",
              "    <tr>\n",
              "      <th>226273</th>\n",
              "      <td>call 911 look around alex broke smashed v one ...</td>\n",
              "    </tr>\n",
              "    <tr>\n",
              "      <th>254308</th>\n",
              "      <td>kit</td>\n",
              "    </tr>\n",
              "  </tbody>\n",
              "</table>\n",
              "</div>\n",
              "      <button class=\"colab-df-convert\" onclick=\"convertToInteractive('df-dfa0862b-e358-4173-a50b-af13fabfffd1')\"\n",
              "              title=\"Convert this dataframe to an interactive table.\"\n",
              "              style=\"display:none;\">\n",
              "        \n",
              "  <svg xmlns=\"http://www.w3.org/2000/svg\" height=\"24px\"viewBox=\"0 0 24 24\"\n",
              "       width=\"24px\">\n",
              "    <path d=\"M0 0h24v24H0V0z\" fill=\"none\"/>\n",
              "    <path d=\"M18.56 5.44l.94 2.06.94-2.06 2.06-.94-2.06-.94-.94-2.06-.94 2.06-2.06.94zm-11 1L8.5 8.5l.94-2.06 2.06-.94-2.06-.94L8.5 2.5l-.94 2.06-2.06.94zm10 10l.94 2.06.94-2.06 2.06-.94-2.06-.94-.94-2.06-.94 2.06-2.06.94z\"/><path d=\"M17.41 7.96l-1.37-1.37c-.4-.4-.92-.59-1.43-.59-.52 0-1.04.2-1.43.59L10.3 9.45l-7.72 7.72c-.78.78-.78 2.05 0 2.83L4 21.41c.39.39.9.59 1.41.59.51 0 1.02-.2 1.41-.59l7.78-7.78 2.81-2.81c.8-.78.8-2.07 0-2.86zM5.41 20L4 18.59l7.72-7.72 1.47 1.35L5.41 20z\"/>\n",
              "  </svg>\n",
              "      </button>\n",
              "      \n",
              "  <style>\n",
              "    .colab-df-container {\n",
              "      display:flex;\n",
              "      flex-wrap:wrap;\n",
              "      gap: 12px;\n",
              "    }\n",
              "\n",
              "    .colab-df-convert {\n",
              "      background-color: #E8F0FE;\n",
              "      border: none;\n",
              "      border-radius: 50%;\n",
              "      cursor: pointer;\n",
              "      display: none;\n",
              "      fill: #1967D2;\n",
              "      height: 32px;\n",
              "      padding: 0 0 0 0;\n",
              "      width: 32px;\n",
              "    }\n",
              "\n",
              "    .colab-df-convert:hover {\n",
              "      background-color: #E2EBFA;\n",
              "      box-shadow: 0px 1px 2px rgba(60, 64, 67, 0.3), 0px 1px 3px 1px rgba(60, 64, 67, 0.15);\n",
              "      fill: #174EA6;\n",
              "    }\n",
              "\n",
              "    [theme=dark] .colab-df-convert {\n",
              "      background-color: #3B4455;\n",
              "      fill: #D2E3FC;\n",
              "    }\n",
              "\n",
              "    [theme=dark] .colab-df-convert:hover {\n",
              "      background-color: #434B5C;\n",
              "      box-shadow: 0px 1px 3px 1px rgba(0, 0, 0, 0.15);\n",
              "      filter: drop-shadow(0px 1px 2px rgba(0, 0, 0, 0.3));\n",
              "      fill: #FFFFFF;\n",
              "    }\n",
              "  </style>\n",
              "\n",
              "      <script>\n",
              "        const buttonEl =\n",
              "          document.querySelector('#df-dfa0862b-e358-4173-a50b-af13fabfffd1 button.colab-df-convert');\n",
              "        buttonEl.style.display =\n",
              "          google.colab.kernel.accessAllowed ? 'block' : 'none';\n",
              "\n",
              "        async function convertToInteractive(key) {\n",
              "          const element = document.querySelector('#df-dfa0862b-e358-4173-a50b-af13fabfffd1');\n",
              "          const dataTable =\n",
              "            await google.colab.kernel.invokeFunction('convertToInteractive',\n",
              "                                                     [key], {});\n",
              "          if (!dataTable) return;\n",
              "\n",
              "          const docLinkHtml = 'Like what you see? Visit the ' +\n",
              "            '<a target=\"_blank\" href=https://colab.research.google.com/notebooks/data_table.ipynb>data table notebook</a>'\n",
              "            + ' to learn more about interactive tables.';\n",
              "          element.innerHTML = '';\n",
              "          dataTable['output_type'] = 'display_data';\n",
              "          await google.colab.output.renderOutput(dataTable, element);\n",
              "          const docLink = document.createElement('div');\n",
              "          docLink.innerHTML = docLinkHtml;\n",
              "          element.appendChild(docLink);\n",
              "        }\n",
              "      </script>\n",
              "    </div>\n",
              "  </div>\n",
              "  "
            ]
          },
          "metadata": {},
          "execution_count": 179
        }
      ]
    },
    {
      "cell_type": "markdown",
      "source": [
        "---\n",
        "#SECTION 5 - Creating a Model"
      ],
      "metadata": {
        "id": "lnJtuDuJR0ra"
      }
    },
    {
      "cell_type": "markdown",
      "source": [
        "Develop the emotion detection model\n",
        "- Choose a suitable model architecture (e.g., LSTM, Transformer) RNNs\n",
        "- Split the dataset into training and validation sets\n",
        "- Preprocess the text data (tokenization, padding, etc.)\n",
        "- Build and compile the model using appropriate layers\n",
        "- Train the model using the training set\n",
        "- Evaluate the model using the validation set\n",
        "- Fine-tune the model and experiment with different hyperparameters"
      ],
      "metadata": {
        "id": "YTDlBJLjaJrZ"
      }
    },
    {
      "cell_type": "markdown",
      "source": [
        "*  **Step 1: Import the necessary libraries**\n",
        "\n",
        "The code begins by importing the required libraries, including pandas for data manipulation, numpy for numerical operations, and the Keras library for building the RNN model."
      ],
      "metadata": {
        "id": "Mfi9YTsaEuPv"
      }
    },
    {
      "cell_type": "code",
      "source": [
        "import numpy as np\n",
        "import tensorflow as tf"
      ],
      "metadata": {
        "id": "dNZHe7YmUzNB"
      },
      "execution_count": 180,
      "outputs": []
    },
    {
      "cell_type": "code",
      "source": [
        "from tensorflow import keras"
      ],
      "metadata": {
        "id": "Q0AgzJMyalTF"
      },
      "execution_count": 181,
      "outputs": []
    },
    {
      "cell_type": "code",
      "source": [
        "!pip install --upgrade tensorflow"
      ],
      "metadata": {
        "id": "6Y0LWGfpWoxL",
        "colab": {
          "base_uri": "https://localhost:8080/"
        },
        "outputId": "595640e6-d925-4174-a672-4b2369db8247"
      },
      "execution_count": 182,
      "outputs": [
        {
          "output_type": "stream",
          "name": "stdout",
          "text": [
            "Requirement already satisfied: tensorflow in /usr/local/lib/python3.10/dist-packages (2.12.0)\n",
            "Requirement already satisfied: absl-py>=1.0.0 in /usr/local/lib/python3.10/dist-packages (from tensorflow) (1.4.0)\n",
            "Requirement already satisfied: astunparse>=1.6.0 in /usr/local/lib/python3.10/dist-packages (from tensorflow) (1.6.3)\n",
            "Requirement already satisfied: flatbuffers>=2.0 in /usr/local/lib/python3.10/dist-packages (from tensorflow) (23.5.26)\n",
            "Requirement already satisfied: gast<=0.4.0,>=0.2.1 in /usr/local/lib/python3.10/dist-packages (from tensorflow) (0.4.0)\n",
            "Requirement already satisfied: google-pasta>=0.1.1 in /usr/local/lib/python3.10/dist-packages (from tensorflow) (0.2.0)\n",
            "Requirement already satisfied: grpcio<2.0,>=1.24.3 in /usr/local/lib/python3.10/dist-packages (from tensorflow) (1.56.0)\n",
            "Requirement already satisfied: h5py>=2.9.0 in /usr/local/lib/python3.10/dist-packages (from tensorflow) (3.8.0)\n",
            "Requirement already satisfied: jax>=0.3.15 in /usr/local/lib/python3.10/dist-packages (from tensorflow) (0.4.10)\n",
            "Requirement already satisfied: keras<2.13,>=2.12.0 in /usr/local/lib/python3.10/dist-packages (from tensorflow) (2.12.0)\n",
            "Requirement already satisfied: libclang>=13.0.0 in /usr/local/lib/python3.10/dist-packages (from tensorflow) (16.0.0)\n",
            "Requirement already satisfied: numpy<1.24,>=1.22 in /usr/local/lib/python3.10/dist-packages (from tensorflow) (1.22.4)\n",
            "Requirement already satisfied: opt-einsum>=2.3.2 in /usr/local/lib/python3.10/dist-packages (from tensorflow) (3.3.0)\n",
            "Requirement already satisfied: packaging in /usr/local/lib/python3.10/dist-packages (from tensorflow) (23.1)\n",
            "Requirement already satisfied: protobuf!=4.21.0,!=4.21.1,!=4.21.2,!=4.21.3,!=4.21.4,!=4.21.5,<5.0.0dev,>=3.20.3 in /usr/local/lib/python3.10/dist-packages (from tensorflow) (3.20.3)\n",
            "Requirement already satisfied: setuptools in /usr/local/lib/python3.10/dist-packages (from tensorflow) (67.7.2)\n",
            "Requirement already satisfied: six>=1.12.0 in /usr/local/lib/python3.10/dist-packages (from tensorflow) (1.16.0)\n",
            "Requirement already satisfied: tensorboard<2.13,>=2.12 in /usr/local/lib/python3.10/dist-packages (from tensorflow) (2.12.3)\n",
            "Requirement already satisfied: tensorflow-estimator<2.13,>=2.12.0 in /usr/local/lib/python3.10/dist-packages (from tensorflow) (2.12.0)\n",
            "Requirement already satisfied: termcolor>=1.1.0 in /usr/local/lib/python3.10/dist-packages (from tensorflow) (2.3.0)\n",
            "Requirement already satisfied: typing-extensions>=3.6.6 in /usr/local/lib/python3.10/dist-packages (from tensorflow) (4.6.3)\n",
            "Requirement already satisfied: wrapt<1.15,>=1.11.0 in /usr/local/lib/python3.10/dist-packages (from tensorflow) (1.14.1)\n",
            "Requirement already satisfied: tensorflow-io-gcs-filesystem>=0.23.1 in /usr/local/lib/python3.10/dist-packages (from tensorflow) (0.32.0)\n",
            "Requirement already satisfied: wheel<1.0,>=0.23.0 in /usr/local/lib/python3.10/dist-packages (from astunparse>=1.6.0->tensorflow) (0.40.0)\n",
            "Requirement already satisfied: ml-dtypes>=0.1.0 in /usr/local/lib/python3.10/dist-packages (from jax>=0.3.15->tensorflow) (0.2.0)\n",
            "Requirement already satisfied: scipy>=1.7 in /usr/local/lib/python3.10/dist-packages (from jax>=0.3.15->tensorflow) (1.10.1)\n",
            "Requirement already satisfied: google-auth<3,>=1.6.3 in /usr/local/lib/python3.10/dist-packages (from tensorboard<2.13,>=2.12->tensorflow) (2.17.3)\n",
            "Requirement already satisfied: google-auth-oauthlib<1.1,>=0.5 in /usr/local/lib/python3.10/dist-packages (from tensorboard<2.13,>=2.12->tensorflow) (1.0.0)\n",
            "Requirement already satisfied: markdown>=2.6.8 in /usr/local/lib/python3.10/dist-packages (from tensorboard<2.13,>=2.12->tensorflow) (3.4.3)\n",
            "Requirement already satisfied: requests<3,>=2.21.0 in /usr/local/lib/python3.10/dist-packages (from tensorboard<2.13,>=2.12->tensorflow) (2.27.1)\n",
            "Requirement already satisfied: tensorboard-data-server<0.8.0,>=0.7.0 in /usr/local/lib/python3.10/dist-packages (from tensorboard<2.13,>=2.12->tensorflow) (0.7.1)\n",
            "Requirement already satisfied: werkzeug>=1.0.1 in /usr/local/lib/python3.10/dist-packages (from tensorboard<2.13,>=2.12->tensorflow) (2.3.6)\n",
            "Requirement already satisfied: cachetools<6.0,>=2.0.0 in /usr/local/lib/python3.10/dist-packages (from google-auth<3,>=1.6.3->tensorboard<2.13,>=2.12->tensorflow) (5.3.1)\n",
            "Requirement already satisfied: pyasn1-modules>=0.2.1 in /usr/local/lib/python3.10/dist-packages (from google-auth<3,>=1.6.3->tensorboard<2.13,>=2.12->tensorflow) (0.3.0)\n",
            "Requirement already satisfied: rsa<5,>=3.1.4 in /usr/local/lib/python3.10/dist-packages (from google-auth<3,>=1.6.3->tensorboard<2.13,>=2.12->tensorflow) (4.9)\n",
            "Requirement already satisfied: requests-oauthlib>=0.7.0 in /usr/local/lib/python3.10/dist-packages (from google-auth-oauthlib<1.1,>=0.5->tensorboard<2.13,>=2.12->tensorflow) (1.3.1)\n",
            "Requirement already satisfied: urllib3<1.27,>=1.21.1 in /usr/local/lib/python3.10/dist-packages (from requests<3,>=2.21.0->tensorboard<2.13,>=2.12->tensorflow) (1.26.16)\n",
            "Requirement already satisfied: certifi>=2017.4.17 in /usr/local/lib/python3.10/dist-packages (from requests<3,>=2.21.0->tensorboard<2.13,>=2.12->tensorflow) (2023.5.7)\n",
            "Requirement already satisfied: charset-normalizer~=2.0.0 in /usr/local/lib/python3.10/dist-packages (from requests<3,>=2.21.0->tensorboard<2.13,>=2.12->tensorflow) (2.0.12)\n",
            "Requirement already satisfied: idna<4,>=2.5 in /usr/local/lib/python3.10/dist-packages (from requests<3,>=2.21.0->tensorboard<2.13,>=2.12->tensorflow) (3.4)\n",
            "Requirement already satisfied: MarkupSafe>=2.1.1 in /usr/local/lib/python3.10/dist-packages (from werkzeug>=1.0.1->tensorboard<2.13,>=2.12->tensorflow) (2.1.3)\n",
            "Requirement already satisfied: pyasn1<0.6.0,>=0.4.6 in /usr/local/lib/python3.10/dist-packages (from pyasn1-modules>=0.2.1->google-auth<3,>=1.6.3->tensorboard<2.13,>=2.12->tensorflow) (0.5.0)\n",
            "Requirement already satisfied: oauthlib>=3.0.0 in /usr/local/lib/python3.10/dist-packages (from requests-oauthlib>=0.7.0->google-auth-oauthlib<1.1,>=0.5->tensorboard<2.13,>=2.12->tensorflow) (3.2.2)\n"
          ]
        }
      ]
    },
    {
      "cell_type": "code",
      "source": [
        "from sklearn.preprocessing import LabelEncoder\n",
        "from tensorflow.keras.preprocessing.text import Tokenizer\n",
        "from tensorflow.keras.preprocessing.sequence import pad_sequences\n",
        "from tensorflow.keras.models import Sequential\n",
        "from tensorflow.keras.layers import Embedding, LSTM, Dense\n",
        "from sklearn.preprocessing import OneHotEncoder\n",
        "from sklearn.model_selection import StratifiedKFold"
      ],
      "metadata": {
        "id": "4Nk2CqM0Vk6a"
      },
      "execution_count": 183,
      "outputs": []
    },
    {
      "cell_type": "markdown",
      "source": [
        "*   **Step 2: Load the preprocessed data**\n",
        "\n",
        "This step assumes that you have already preprocessed the data and obtained the cleaned and preprocessed training and test dataframes.\n",
        "The training dataframe is loaded into the train_df variable, and the test dataframe is loaded into the test_df variable.\n",
        "\n",
        "\n",
        "Step 4: Prepare the input and output data (cross validation)\n",
        "\n",
        "The input data, represented by the 'Text' column in the dataframes, is extracted and assigned to the X_train and X_test variables. The output data, represented by the encoded emotion labels, is extracted and assigned to the y_train and y_test variables."
      ],
      "metadata": {
        "id": "IENv6BkuFCBD"
      }
    },
    {
      "cell_type": "code",
      "source": [
        "# Load the preprocessed training and test data\n",
        "train_data = train_merged_df\n",
        "test_data = test_merged_df\n",
        "\n",
        "# Get the text and emotion label columns from the dataframes\n",
        "X_train = train_data['Text'].values\n",
        "y_train = train_data['Emotion_Label'].values\n",
        "X_test = test_data['Text'].values\n",
        "y_test = test_data['Emotion_Label'].values"
      ],
      "metadata": {
        "id": "z84iI5UTFBe2"
      },
      "execution_count": 184,
      "outputs": []
    },
    {
      "cell_type": "markdown",
      "source": [
        "*   **Step 3: Encode the emotion labels**\n",
        "\n",
        "The emotion labels in the training and test dataframes are encoded using one-hot encoding.\n",
        "One-hot encoding converts each emotion label into a binary vector representation, where each element in the vector represents a distinct emotion class.\n",
        "This encoding is necessary for training the model to predict emotion classes accurately.\n",
        "\n",
        "One-hot encoding, on the other hand, creates binary columns for each category, representing the presence or absence of that category. Using the same example, \"happy,\" \"sad,\" and \"angry\" would be represented as [1, 0, 0], [0, 1, 0], and [0, 0, 1], respectively. One-hot encoding preserves the categorical nature of the variable and avoids introducing any ordinal relationships. It is generally preferred when there is no inherent order or ranking in the categories.\n",
        "\n",
        "For your project of emotion detection in text, where emotions are categorical and there is no inherent order or ranking, one-hot encoding is a better choice. It allows the model to treat each emotion as a separate category without imposing any false hierarchy."
      ],
      "metadata": {
        "id": "UIrsNuJZFHI7"
      }
    },
    {
      "cell_type": "code",
      "source": [
        "# Perform label encoding on the emotion labels\n",
        "label_encoder = LabelEncoder()\n",
        "y_train_encoded = label_encoder.fit_transform(y_train)\n",
        "y_test_encoded = label_encoder.transform(y_test)\n",
        "\n",
        "# Perform one-hot encoding on the encoded labels\n",
        "onehot_encoder = OneHotEncoder(sparse=False)\n",
        "y_train_onehot = onehot_encoder.fit_transform(y_train_encoded.reshape(-1, 1))\n",
        "y_test_onehot = onehot_encoder.transform(y_test_encoded.reshape(-1, 1))"
      ],
      "metadata": {
        "colab": {
          "base_uri": "https://localhost:8080/"
        },
        "id": "pq53U0GANP88",
        "outputId": "f0e6a306-98ae-48c7-a0a9-81eb79344c6e"
      },
      "execution_count": 185,
      "outputs": [
        {
          "output_type": "stream",
          "name": "stderr",
          "text": [
            "/usr/local/lib/python3.10/dist-packages/sklearn/preprocessing/_encoders.py:868: FutureWarning: `sparse` was renamed to `sparse_output` in version 1.2 and will be removed in 1.4. `sparse_output` is ignored unless you leave `sparse` to its default value.\n",
            "  warnings.warn(\n"
          ]
        }
      ]
    },
    {
      "cell_type": "markdown",
      "source": [
        "*   **Step 4: Tokenize the text data and Pad the sequences**\n",
        "\n",
        "The text data is tokenized using the Tokenizer class from the Keras library.\n",
        "Tokenization converts the text sentences into sequences of integers, where each integer corresponds to a specific word in the vocabulary.\n",
        "The Tokenizer is fitted on the training data to build the vocabulary and then used to convert the text data into sequences of integers.\n",
        "\n",
        "The sequences of integers obtained from tokenization may have varying lengths.\n",
        "To feed the sequences into the RNN model, they need to have the same length. Therefore, padding is applied to make all sequences of equal length.\n",
        "The pad_sequences() function from Keras is used to pad the sequences to the maximum length among all sequences."
      ],
      "metadata": {
        "id": "Fva8NKGSFMff"
      }
    },
    {
      "cell_type": "code",
      "source": [
        "# Tokenize the text data\n",
        "tokenizer = Tokenizer()\n",
        "tokenizer.fit_on_texts(X_train)\n",
        "\n",
        "# Convert text data to sequences\n",
        "X_train_sequences = tokenizer.texts_to_sequences(X_train)\n",
        "X_test_sequences = tokenizer.texts_to_sequences(X_test)\n",
        "\n",
        "# Pad the sequences\n",
        "max_seq_length = max(len(seq) for seq in X_train_sequences + X_test_sequences)\n",
        "X_train_padded = pad_sequences(X_train_sequences, maxlen=max_seq_length, padding='post')\n",
        "X_test_padded = pad_sequences(X_test_sequences, maxlen=max_seq_length, padding='post')"
      ],
      "metadata": {
        "id": "2QOJJJvSRXad"
      },
      "execution_count": 186,
      "outputs": []
    },
    {
      "cell_type": "code",
      "source": [
        "# Get the vocabulary size\n",
        "vocab_size = len(tokenizer.word_index) + 1\n",
        "print(\"Vocabulary size:\", vocab_size)"
      ],
      "metadata": {
        "colab": {
          "base_uri": "https://localhost:8080/"
        },
        "id": "wf5B6GWRSeDz",
        "outputId": "e3551f86-9cac-460b-f2d3-34c6ebb67cd2"
      },
      "execution_count": 187,
      "outputs": [
        {
          "output_type": "stream",
          "name": "stdout",
          "text": [
            "Vocabulary size: 46877\n"
          ]
        }
      ]
    },
    {
      "cell_type": "markdown",
      "source": [
        "*   **Step 5: Build the RNN model**\n",
        "\n",
        "The RNN model is built using the Sequential API from Keras.\n",
        "The model starts with an Embedding layer, which maps each word index to a dense vector representation.\n",
        "An LSTM layer is added to capture the sequential patterns in the text data.\n",
        "Finally, a Dense layer with softmax activation is added to generate the output probabilities for each emotion class.\n",
        "\n",
        "Step 8: Compile and train the model\n",
        "\n",
        "The model is compiled with a suitable loss function (categorical cross-entropy) and optimizer (such as Adam or RMSprop).\n",
        "The model is then trained using the padded input sequences and the one-hot encoded output labels.\n",
        "The training is performed over a specified number of epochs, with a batch size indicating the number of samples processed before the model is updated."
      ],
      "metadata": {
        "id": "ROmPUiV_FSiJ"
      }
    },
    {
      "cell_type": "code",
      "source": [
        "# Define the number of folds for cross-validation\n",
        "num_folds = 2\n",
        "\n",
        "# Initialize the StratifiedKFold object\n",
        "skf = StratifiedKFold(n_splits=num_folds, shuffle=True)\n",
        "\n",
        "# Create an empty list to store the accuracy scores\n",
        "accuracy_scores = []"
      ],
      "metadata": {
        "id": "j9_4pYHcORvJ"
      },
      "execution_count": 188,
      "outputs": []
    },
    {
      "cell_type": "code",
      "source": [
        "num_classes = train_data['Emotion_Label'].nunique()\n",
        "print(\"Number of emotion classes:\", num_classes)"
      ],
      "metadata": {
        "colab": {
          "base_uri": "https://localhost:8080/"
        },
        "id": "6mh79vk-R7vh",
        "outputId": "62ef193c-77ad-4306-a5e9-e7ea1c1db74f"
      },
      "execution_count": 189,
      "outputs": [
        {
          "output_type": "stream",
          "name": "stdout",
          "text": [
            "Number of emotion classes: 6\n"
          ]
        }
      ]
    },
    {
      "cell_type": "code",
      "source": [
        "#embedding_dim = 200 (based on vocabulary size)"
      ],
      "metadata": {
        "id": "D8GqC40ySw7Z"
      },
      "execution_count": null,
      "outputs": []
    },
    {
      "cell_type": "markdown",
      "source": [
        "It iterates over the folds of the cross-validation. For each fold, it splits the data into training and validation sets, creates an RNN model using Keras, compiles the model with categorical cross-entropy loss and Adam optimizer, and trains the model on the training set. The training process is performed for 5 epochs with a batch size of 32."
      ],
      "metadata": {
        "id": "RVHxOgxvWvRc"
      }
    },
    {
      "cell_type": "code",
      "source": [
        "# Iterate over the folds\n",
        "for train_index, val_index in skf.split(X_train_padded, y_train_encoded):\n",
        "    # Split the data into training and validation sets\n",
        "    X_train_fold, X_val_fold = X_train_padded[train_index], X_train_padded[val_index]\n",
        "    y_train_fold, y_val_fold = y_train_onehot[train_index], y_train_onehot[val_index]\n",
        "\n",
        "    # Create the RNN model\n",
        "    model = Sequential()\n",
        "    model.add(Embedding(input_dim=len(tokenizer.word_index) + 1, output_dim=200, input_length=max_seq_length))\n",
        "    model.add(LSTM(units=128))\n",
        "    model.add(Dense(units=num_classes, activation='softmax'))\n",
        "\n",
        "    # Compile the model\n",
        "    model.compile(loss='categorical_crossentropy', optimizer='adam', metrics=['accuracy'])\n",
        "\n",
        "    # Train the model\n",
        "    model.fit(X_train_fold, y_train_fold, validation_data=(X_val_fold, y_val_fold), epochs=1, batch_size=64)\n",
        "\n",
        "    # Evaluate the model on the validation set\n",
        "    _, accuracy = model.evaluate(X_val_fold, y_val_fold)\n",
        "    accuracy_scores.append(accuracy)"
      ],
      "metadata": {
        "colab": {
          "base_uri": "https://localhost:8080/"
        },
        "id": "n9ApXHUAPYPC",
        "outputId": "35e067bc-e572-4af5-910e-6510704657fb"
      },
      "execution_count": 190,
      "outputs": [
        {
          "output_type": "stream",
          "name": "stdout",
          "text": [
            "342/342 [==============================] - 189s 543ms/step - loss: 1.3698 - accuracy: 0.3666 - val_loss: 1.3573 - val_accuracy: 0.3747\n",
            "683/683 [==============================] - 34s 50ms/step - loss: 1.3573 - accuracy: 0.3747\n",
            "342/342 [==============================] - 193s 558ms/step - loss: 1.3693 - accuracy: 0.3642 - val_loss: 1.3610 - val_accuracy: 0.3746\n",
            "683/683 [==============================] - 60s 88ms/step - loss: 1.3610 - accuracy: 0.3746\n"
          ]
        }
      ]
    },
    {
      "cell_type": "markdown",
      "source": [
        "*   **Step 6: Evaluate the model**\n",
        "\n",
        "The trained model is evaluated on the test data to measure its performance.\n",
        "The accuracy metric is commonly used to evaluate classification models.\n",
        "The accuracy represents the percentage of correctly predicted emotion labels out of all the samples in the test set."
      ],
      "metadata": {
        "id": "xIC9dtN9FaUL"
      }
    },
    {
      "cell_type": "code",
      "source": [
        "# Calculate the average accuracy across all folds\n",
        "avg_accuracy = np.mean(accuracy_scores)\n",
        "print('Average Accuracy:', avg_accuracy)"
      ],
      "metadata": {
        "id": "Y3h3CcDCaqAr",
        "colab": {
          "base_uri": "https://localhost:8080/"
        },
        "outputId": "f7514482-c302-40bf-ac51-c6e204901cd6"
      },
      "execution_count": 191,
      "outputs": [
        {
          "output_type": "stream",
          "name": "stdout",
          "text": [
            "Average Accuracy: 0.3746422082185745\n"
          ]
        }
      ]
    },
    {
      "cell_type": "markdown",
      "source": [
        "               improve the accuracy of the model"
      ],
      "metadata": {
        "id": "hpo821MAen_K"
      }
    },
    {
      "cell_type": "markdown",
      "source": [
        "---\n",
        "#SECTION 6: Making predictions"
      ],
      "metadata": {
        "id": "THbRieWS83r4"
      }
    },
    {
      "cell_type": "code",
      "source": [
        "\n",
        "# Make predictions on the movie_predict_df dataframe\n",
        "X_movie = movie_predict_df['text'].values\n",
        "X_movie_sequences = tokenizer.texts_to_sequences(X_movie)\n",
        "X_movie_padded = pad_sequences(X_movie_sequences, maxlen=max_seq_length, padding='post')\n",
        "predictions = model.predict(X_movie_padded)\n",
        "\n",
        "# Convert predictions to emotion labels\n",
        "predicted_labels = label_encoder.inverse_transform(predictions.argmax(axis=1))\n",
        "\n",
        "# Add the \"emotion\" column to the movie_predict_df dataframe\n",
        "movie_predict_df['emotion'] = predicted_labels\n",
        "\n",
        "# Print the dataframe with emotion predictions\n",
        "print(movie_predict_df)"
      ],
      "metadata": {
        "colab": {
          "base_uri": "https://localhost:8080/"
        },
        "id": "CAkgTyB_mELV",
        "outputId": "efc4b739-76fd-44b7-a06f-04b655f388b0"
      },
      "execution_count": 192,
      "outputs": [
        {
          "output_type": "stream",
          "name": "stdout",
          "text": [
            "9523/9523 [==============================] - 556s 58ms/step\n",
            "                                                     text  emotion\n",
            "0                                                          Neutral\n",
            "1                                                          Neutral\n",
            "2                                                    hope  Neutral\n",
            "3                                                    okay  Neutral\n",
            "4                                                  let go  Neutral\n",
            "...                                                   ...      ...\n",
            "304708        lord chelmsford seems want stay back basuto  Neutral\n",
            "304709                      take sikali main column river  Neutral\n",
            "304710                                   order mr vereker  Neutral\n",
            "304711       good one yes mr vereker gentleman ride shoot  Neutral\n",
            "304712  colonel durnford william vereker hear seeking ...  Neutral\n",
            "\n",
            "[304713 rows x 2 columns]\n"
          ]
        }
      ]
    },
    {
      "cell_type": "code",
      "source": [
        "movie_predict_df.sample(5)"
      ],
      "metadata": {
        "colab": {
          "base_uri": "https://localhost:8080/",
          "height": 206
        },
        "id": "avl4WLMInbz8",
        "outputId": "fcb74d95-18b2-494a-b248-161f329ea092"
      },
      "execution_count": 193,
      "outputs": [
        {
          "output_type": "execute_result",
          "data": {
            "text/plain": [
              "                                                 text  emotion\n",
              "154019  colonel vitellus got busted cold vault inside  Neutral\n",
              "66162                                       thank sir  Neutral\n",
              "24749                                            well  Neutral\n",
              "273809                                           know  Neutral\n",
              "297661                 course war watching television  Neutral"
            ],
            "text/html": [
              "\n",
              "  <div id=\"df-eb409975-3668-4ce5-9d58-4f2192b3fb3b\">\n",
              "    <div class=\"colab-df-container\">\n",
              "      <div>\n",
              "<style scoped>\n",
              "    .dataframe tbody tr th:only-of-type {\n",
              "        vertical-align: middle;\n",
              "    }\n",
              "\n",
              "    .dataframe tbody tr th {\n",
              "        vertical-align: top;\n",
              "    }\n",
              "\n",
              "    .dataframe thead th {\n",
              "        text-align: right;\n",
              "    }\n",
              "</style>\n",
              "<table border=\"1\" class=\"dataframe\">\n",
              "  <thead>\n",
              "    <tr style=\"text-align: right;\">\n",
              "      <th></th>\n",
              "      <th>text</th>\n",
              "      <th>emotion</th>\n",
              "    </tr>\n",
              "  </thead>\n",
              "  <tbody>\n",
              "    <tr>\n",
              "      <th>154019</th>\n",
              "      <td>colonel vitellus got busted cold vault inside</td>\n",
              "      <td>Neutral</td>\n",
              "    </tr>\n",
              "    <tr>\n",
              "      <th>66162</th>\n",
              "      <td>thank sir</td>\n",
              "      <td>Neutral</td>\n",
              "    </tr>\n",
              "    <tr>\n",
              "      <th>24749</th>\n",
              "      <td>well</td>\n",
              "      <td>Neutral</td>\n",
              "    </tr>\n",
              "    <tr>\n",
              "      <th>273809</th>\n",
              "      <td>know</td>\n",
              "      <td>Neutral</td>\n",
              "    </tr>\n",
              "    <tr>\n",
              "      <th>297661</th>\n",
              "      <td>course war watching television</td>\n",
              "      <td>Neutral</td>\n",
              "    </tr>\n",
              "  </tbody>\n",
              "</table>\n",
              "</div>\n",
              "      <button class=\"colab-df-convert\" onclick=\"convertToInteractive('df-eb409975-3668-4ce5-9d58-4f2192b3fb3b')\"\n",
              "              title=\"Convert this dataframe to an interactive table.\"\n",
              "              style=\"display:none;\">\n",
              "        \n",
              "  <svg xmlns=\"http://www.w3.org/2000/svg\" height=\"24px\"viewBox=\"0 0 24 24\"\n",
              "       width=\"24px\">\n",
              "    <path d=\"M0 0h24v24H0V0z\" fill=\"none\"/>\n",
              "    <path d=\"M18.56 5.44l.94 2.06.94-2.06 2.06-.94-2.06-.94-.94-2.06-.94 2.06-2.06.94zm-11 1L8.5 8.5l.94-2.06 2.06-.94-2.06-.94L8.5 2.5l-.94 2.06-2.06.94zm10 10l.94 2.06.94-2.06 2.06-.94-2.06-.94-.94-2.06-.94 2.06-2.06.94z\"/><path d=\"M17.41 7.96l-1.37-1.37c-.4-.4-.92-.59-1.43-.59-.52 0-1.04.2-1.43.59L10.3 9.45l-7.72 7.72c-.78.78-.78 2.05 0 2.83L4 21.41c.39.39.9.59 1.41.59.51 0 1.02-.2 1.41-.59l7.78-7.78 2.81-2.81c.8-.78.8-2.07 0-2.86zM5.41 20L4 18.59l7.72-7.72 1.47 1.35L5.41 20z\"/>\n",
              "  </svg>\n",
              "      </button>\n",
              "      \n",
              "  <style>\n",
              "    .colab-df-container {\n",
              "      display:flex;\n",
              "      flex-wrap:wrap;\n",
              "      gap: 12px;\n",
              "    }\n",
              "\n",
              "    .colab-df-convert {\n",
              "      background-color: #E8F0FE;\n",
              "      border: none;\n",
              "      border-radius: 50%;\n",
              "      cursor: pointer;\n",
              "      display: none;\n",
              "      fill: #1967D2;\n",
              "      height: 32px;\n",
              "      padding: 0 0 0 0;\n",
              "      width: 32px;\n",
              "    }\n",
              "\n",
              "    .colab-df-convert:hover {\n",
              "      background-color: #E2EBFA;\n",
              "      box-shadow: 0px 1px 2px rgba(60, 64, 67, 0.3), 0px 1px 3px 1px rgba(60, 64, 67, 0.15);\n",
              "      fill: #174EA6;\n",
              "    }\n",
              "\n",
              "    [theme=dark] .colab-df-convert {\n",
              "      background-color: #3B4455;\n",
              "      fill: #D2E3FC;\n",
              "    }\n",
              "\n",
              "    [theme=dark] .colab-df-convert:hover {\n",
              "      background-color: #434B5C;\n",
              "      box-shadow: 0px 1px 3px 1px rgba(0, 0, 0, 0.15);\n",
              "      filter: drop-shadow(0px 1px 2px rgba(0, 0, 0, 0.3));\n",
              "      fill: #FFFFFF;\n",
              "    }\n",
              "  </style>\n",
              "\n",
              "      <script>\n",
              "        const buttonEl =\n",
              "          document.querySelector('#df-eb409975-3668-4ce5-9d58-4f2192b3fb3b button.colab-df-convert');\n",
              "        buttonEl.style.display =\n",
              "          google.colab.kernel.accessAllowed ? 'block' : 'none';\n",
              "\n",
              "        async function convertToInteractive(key) {\n",
              "          const element = document.querySelector('#df-eb409975-3668-4ce5-9d58-4f2192b3fb3b');\n",
              "          const dataTable =\n",
              "            await google.colab.kernel.invokeFunction('convertToInteractive',\n",
              "                                                     [key], {});\n",
              "          if (!dataTable) return;\n",
              "\n",
              "          const docLinkHtml = 'Like what you see? Visit the ' +\n",
              "            '<a target=\"_blank\" href=https://colab.research.google.com/notebooks/data_table.ipynb>data table notebook</a>'\n",
              "            + ' to learn more about interactive tables.';\n",
              "          element.innerHTML = '';\n",
              "          dataTable['output_type'] = 'display_data';\n",
              "          await google.colab.output.renderOutput(dataTable, element);\n",
              "          const docLink = document.createElement('div');\n",
              "          docLink.innerHTML = docLinkHtml;\n",
              "          element.appendChild(docLink);\n",
              "        }\n",
              "      </script>\n",
              "    </div>\n",
              "  </div>\n",
              "  "
            ]
          },
          "metadata": {},
          "execution_count": 193
        }
      ]
    },
    {
      "cell_type": "code",
      "source": [
        "# Merge the dataframes based on the 'text' column\n",
        "#merged_df = movie_df.merge(movie_predict_df, on='text', how='left')\n",
        "\n",
        "# Display the merged dataframe\n",
        "#print(merged_df)"
      ],
      "metadata": {
        "id": "aqPqL4wCpdbT"
      },
      "execution_count": null,
      "outputs": []
    },
    {
      "cell_type": "markdown",
      "source": [
        "---\n",
        "#SECTION 7 : Data Visualization"
      ],
      "metadata": {
        "id": "3LJ8UmPq89_0"
      }
    },
    {
      "cell_type": "code",
      "source": [
        "# Assuming you have a mapping of emotion labels to their corresponding categorical classes\n",
        "#emotion_classes = {0: 'Neutral', 1: 'Positive', 2: 'Negative'}\n",
        "\n",
        "# Get the predicted emotion labels from the predictions\n",
        "#predicted_labels = [emotion_classes[np.argmax(prediction)] for prediction in predictions]\n",
        "\n",
        "# Add the predicted labels to the test_data dataframe\n",
        "#test_data['Predicted_Emotion'] = predicted_labels\n",
        "\n",
        "# Analyze the emotional profile of the main characters or overall dataset\n",
        "# You can perform various analyses such as counting the occurrences of different emotions, visualizing emotion distributions, etc.\n"
      ],
      "metadata": {
        "id": "8Oi4M_Ds9J3J"
      },
      "execution_count": null,
      "outputs": []
    },
    {
      "cell_type": "markdown",
      "source": [
        "Studying the evolution of the emotional profile:"
      ],
      "metadata": {
        "id": "9l4m_h029PUL"
      }
    },
    {
      "cell_type": "code",
      "source": [
        "# Assuming you have the Cornell Movie-Dialogs Corpus loaded and processed\n",
        "\n",
        "# Select the specific movie from the corpus for analysis\n",
        "# You can identify the movie based on its metadata or any other criteria\n",
        "\n",
        "# Extract the relevant dialogues or scenes from the selected movie\n",
        "\n",
        "# Apply the trained model to predict emotions on the extracted dialogues or scenes\n",
        "\n",
        "# Analyze and visualize the emotional profile over time to observe changes and patterns\n"
      ],
      "metadata": {
        "id": "pHQWseNn9QQt"
      },
      "execution_count": null,
      "outputs": []
    },
    {
      "cell_type": "markdown",
      "source": [
        "To give you a better understanding of how the columns are connected and how you can utilize them for different steps of the project, let's break down the connections and discuss the approach for each step:"
      ],
      "metadata": {
        "id": "niV0HRqAMau-"
      }
    },
    {
      "cell_type": "markdown",
      "source": [
        "* **Emotional Profile of Main Characters:**\n",
        "\n",
        "The output should provide insights into the emotional profile of the main characters in the selected movie.\n",
        "It could include statistical summaries or visualizations of the emotions expressed by each character.\n",
        "For example, you could generate bar plots or pie charts showing the distribution of different emotions for each character or calculate the average intensity of emotions associated with each character."
      ],
      "metadata": {
        "id": "oZos45PXMdd8"
      }
    },
    {
      "cell_type": "code",
      "source": [
        "# Load the utterance data with necessary columns and use the new predicted movie dataframe\n",
        "main_char = pd.concat([movie_predict_df, movie_df[['speaker']]], axis=1)\n",
        "\n",
        "# Print the new dataframe\n",
        "main_char.sample(5)"
      ],
      "metadata": {
        "colab": {
          "base_uri": "https://localhost:8080/",
          "height": 206
        },
        "id": "WiuHoPKkepBb",
        "outputId": "bfe27808-d3b9-4d25-dfc6-ca40e709dc21"
      },
      "execution_count": 194,
      "outputs": [
        {
          "output_type": "execute_result",
          "data": {
            "text/plain": [
              "                                       text  emotion speaker\n",
              "205309                                 mary  Neutral   u6045\n",
              "11724                 aw man stephen listen  Neutral     NaN\n",
              "18813                      dignan got alarm  Neutral    u599\n",
              "304672  excellent thank give crealock would  Neutral     NaN\n",
              "133851                                 know  Neutral   u3879"
            ],
            "text/html": [
              "\n",
              "  <div id=\"df-aff60ab4-22da-4c47-949c-59b6da819048\">\n",
              "    <div class=\"colab-df-container\">\n",
              "      <div>\n",
              "<style scoped>\n",
              "    .dataframe tbody tr th:only-of-type {\n",
              "        vertical-align: middle;\n",
              "    }\n",
              "\n",
              "    .dataframe tbody tr th {\n",
              "        vertical-align: top;\n",
              "    }\n",
              "\n",
              "    .dataframe thead th {\n",
              "        text-align: right;\n",
              "    }\n",
              "</style>\n",
              "<table border=\"1\" class=\"dataframe\">\n",
              "  <thead>\n",
              "    <tr style=\"text-align: right;\">\n",
              "      <th></th>\n",
              "      <th>text</th>\n",
              "      <th>emotion</th>\n",
              "      <th>speaker</th>\n",
              "    </tr>\n",
              "  </thead>\n",
              "  <tbody>\n",
              "    <tr>\n",
              "      <th>205309</th>\n",
              "      <td>mary</td>\n",
              "      <td>Neutral</td>\n",
              "      <td>u6045</td>\n",
              "    </tr>\n",
              "    <tr>\n",
              "      <th>11724</th>\n",
              "      <td>aw man stephen listen</td>\n",
              "      <td>Neutral</td>\n",
              "      <td>NaN</td>\n",
              "    </tr>\n",
              "    <tr>\n",
              "      <th>18813</th>\n",
              "      <td>dignan got alarm</td>\n",
              "      <td>Neutral</td>\n",
              "      <td>u599</td>\n",
              "    </tr>\n",
              "    <tr>\n",
              "      <th>304672</th>\n",
              "      <td>excellent thank give crealock would</td>\n",
              "      <td>Neutral</td>\n",
              "      <td>NaN</td>\n",
              "    </tr>\n",
              "    <tr>\n",
              "      <th>133851</th>\n",
              "      <td>know</td>\n",
              "      <td>Neutral</td>\n",
              "      <td>u3879</td>\n",
              "    </tr>\n",
              "  </tbody>\n",
              "</table>\n",
              "</div>\n",
              "      <button class=\"colab-df-convert\" onclick=\"convertToInteractive('df-aff60ab4-22da-4c47-949c-59b6da819048')\"\n",
              "              title=\"Convert this dataframe to an interactive table.\"\n",
              "              style=\"display:none;\">\n",
              "        \n",
              "  <svg xmlns=\"http://www.w3.org/2000/svg\" height=\"24px\"viewBox=\"0 0 24 24\"\n",
              "       width=\"24px\">\n",
              "    <path d=\"M0 0h24v24H0V0z\" fill=\"none\"/>\n",
              "    <path d=\"M18.56 5.44l.94 2.06.94-2.06 2.06-.94-2.06-.94-.94-2.06-.94 2.06-2.06.94zm-11 1L8.5 8.5l.94-2.06 2.06-.94-2.06-.94L8.5 2.5l-.94 2.06-2.06.94zm10 10l.94 2.06.94-2.06 2.06-.94-2.06-.94-.94-2.06-.94 2.06-2.06.94z\"/><path d=\"M17.41 7.96l-1.37-1.37c-.4-.4-.92-.59-1.43-.59-.52 0-1.04.2-1.43.59L10.3 9.45l-7.72 7.72c-.78.78-.78 2.05 0 2.83L4 21.41c.39.39.9.59 1.41.59.51 0 1.02-.2 1.41-.59l7.78-7.78 2.81-2.81c.8-.78.8-2.07 0-2.86zM5.41 20L4 18.59l7.72-7.72 1.47 1.35L5.41 20z\"/>\n",
              "  </svg>\n",
              "      </button>\n",
              "      \n",
              "  <style>\n",
              "    .colab-df-container {\n",
              "      display:flex;\n",
              "      flex-wrap:wrap;\n",
              "      gap: 12px;\n",
              "    }\n",
              "\n",
              "    .colab-df-convert {\n",
              "      background-color: #E8F0FE;\n",
              "      border: none;\n",
              "      border-radius: 50%;\n",
              "      cursor: pointer;\n",
              "      display: none;\n",
              "      fill: #1967D2;\n",
              "      height: 32px;\n",
              "      padding: 0 0 0 0;\n",
              "      width: 32px;\n",
              "    }\n",
              "\n",
              "    .colab-df-convert:hover {\n",
              "      background-color: #E2EBFA;\n",
              "      box-shadow: 0px 1px 2px rgba(60, 64, 67, 0.3), 0px 1px 3px 1px rgba(60, 64, 67, 0.15);\n",
              "      fill: #174EA6;\n",
              "    }\n",
              "\n",
              "    [theme=dark] .colab-df-convert {\n",
              "      background-color: #3B4455;\n",
              "      fill: #D2E3FC;\n",
              "    }\n",
              "\n",
              "    [theme=dark] .colab-df-convert:hover {\n",
              "      background-color: #434B5C;\n",
              "      box-shadow: 0px 1px 3px 1px rgba(0, 0, 0, 0.15);\n",
              "      filter: drop-shadow(0px 1px 2px rgba(0, 0, 0, 0.3));\n",
              "      fill: #FFFFFF;\n",
              "    }\n",
              "  </style>\n",
              "\n",
              "      <script>\n",
              "        const buttonEl =\n",
              "          document.querySelector('#df-aff60ab4-22da-4c47-949c-59b6da819048 button.colab-df-convert');\n",
              "        buttonEl.style.display =\n",
              "          google.colab.kernel.accessAllowed ? 'block' : 'none';\n",
              "\n",
              "        async function convertToInteractive(key) {\n",
              "          const element = document.querySelector('#df-aff60ab4-22da-4c47-949c-59b6da819048');\n",
              "          const dataTable =\n",
              "            await google.colab.kernel.invokeFunction('convertToInteractive',\n",
              "                                                     [key], {});\n",
              "          if (!dataTable) return;\n",
              "\n",
              "          const docLinkHtml = 'Like what you see? Visit the ' +\n",
              "            '<a target=\"_blank\" href=https://colab.research.google.com/notebooks/data_table.ipynb>data table notebook</a>'\n",
              "            + ' to learn more about interactive tables.';\n",
              "          element.innerHTML = '';\n",
              "          dataTable['output_type'] = 'display_data';\n",
              "          await google.colab.output.renderOutput(dataTable, element);\n",
              "          const docLink = document.createElement('div');\n",
              "          docLink.innerHTML = docLinkHtml;\n",
              "          element.appendChild(docLink);\n",
              "        }\n",
              "      </script>\n",
              "    </div>\n",
              "  </div>\n",
              "  "
            ]
          },
          "metadata": {},
          "execution_count": 194
        }
      ]
    },
    {
      "cell_type": "code",
      "source": [
        "# Select a random character from the dataframe\n",
        "character = main_char['speaker'].sample(n=1).values[0]\n",
        "\n",
        "# Filter the dataframe for the selected character\n",
        "character_df = main_char[main_char['speaker'] == character]\n",
        "\n",
        "# Group the data by emotion and calculate the count\n",
        "character_emotions = character_df['emotion'].value_counts()\n",
        "\n",
        "# Plot a bar plot for the character's emotions\n",
        "character_emotions.plot(kind='bar', figsize=(8, 6))\n",
        "plt.title(f'Emotion Distribution for {character}')\n",
        "plt.xlabel('Emotion')\n",
        "plt.ylabel('Count')\n",
        "plt.show()"
      ],
      "metadata": {
        "colab": {
          "base_uri": "https://localhost:8080/",
          "height": 601
        },
        "id": "toD1p1zdujXN",
        "outputId": "07a4d4ae-4600-4cfc-8021-54bfc318e249"
      },
      "execution_count": 196,
      "outputs": [
        {
          "output_type": "display_data",
          "data": {
            "text/plain": [
              "<Figure size 800x600 with 1 Axes>"
            ],
            "image/png": "[encoded data removed]"
          },
          "metadata": {}
        }
      ]
    },
    {
      "cell_type": "code",
      "source": [
        "# Group the data by speaker and emotion\n",
        "character_emotions = main_char.groupby(['speaker', 'emotion']).size().unstack(fill_value=0)\n",
        "\n",
        "# Plot a bar plot for each character\n",
        "for character in character_emotions.index:\n",
        "    emotions = character_emotions.loc[character]\n",
        "    emotions.plot(kind='bar', figsize=(8, 6))\n",
        "    plt.title(f'Emotion Distribution for {character}')\n",
        "    plt.xlabel('Emotion')\n",
        "    plt.ylabel('Count')\n",
        "    plt.show()"
      ],
      "metadata": {
        "id": "iBKkAsUuMoWN"
      },
      "execution_count": null,
      "outputs": []
    },
    {
      "cell_type": "markdown",
      "source": [
        "* **Emotional Profile Changes over Time:**\n",
        "\n",
        "The output should demonstrate how the emotional profile changes over time during the movie.\n",
        "It could include line plots or area charts illustrating the fluctuations in emotions over different time points.\n",
        "For instance, you could plot the intensity of positive and negative emotions over time to observe the emotional trajectory of the movie."
      ],
      "metadata": {
        "id": "QB1nscmOMrVH"
      }
    },
    {
      "cell_type": "code",
      "source": [
        "# Load the utterance data with necessary columns and use the new predicted movie dataframe\n",
        "emo_change = pd.concat([movie_predict_df, movie_df[['timestamp', 'vectors']]], axis=1)\n",
        "\n",
        "# Print the new dataframe\n",
        "emo_change.sample(5)"
      ],
      "metadata": {
        "id": "mzu-Ui48rviC"
      },
      "execution_count": null,
      "outputs": []
    },
    {
      "cell_type": "code",
      "source": [
        "# Convert the timestamp column to datetime\n",
        "emo_change['timestamp'] = pd.to_datetime(emo_change['timestamp'])\n",
        "\n",
        "# Group utterances by time interval and calculate the average intensity of positive and negative emotions\n",
        "time_intervals = pd.Grouper(key='timestamp', freq='10S')\n",
        "emotion_intensity = emo_change.groupby(time_intervals)['vectors'].apply(lambda x: x.apply(lambda vec: vec.get('emotion_intensity')))\n",
        "average_intensity = emotion_intensity.mean()\n",
        "\n",
        "# Plot a line chart showing the emotional trajectory over time\n",
        "average_intensity.plot()\n",
        "plt.xlabel('Time')\n",
        "plt.ylabel('Average Emotional Intensity')\n",
        "plt.title('Emotional Profile Changes over Time')\n",
        "plt.show()\n"
      ],
      "metadata": {
        "id": "4xCFib_JMuJ2"
      },
      "execution_count": null,
      "outputs": []
    },
    {
      "cell_type": "markdown",
      "source": [
        "* **Emotional Profile and Relations:**\n",
        "\n",
        "The output should highlight the influence of relations among characters on the emotional profile.\n",
        "It could involve analyzing the emotional responses of characters based on their relationships.\n",
        "For example, you might generate a network diagram illustrating the connections between characters and the emotions expressed in their interactions.\n",
        "Additionally, you could calculate sentiment scores or emotional similarity measures between characters to examine the impact of relationships on emotions."
      ],
      "metadata": {
        "id": "_Ou0W_3qMuwv"
      }
    },
    {
      "cell_type": "code",
      "source": [
        "import networkx as nx\n",
        "# Load the utterance data with necessary columns and use the new predicted movie dataframe\n",
        "emo_rel = pd.concat([movie_predict_df, movie_df[['speaker', 'reply-to', 'vectors']]], axis=1)\n",
        "\n",
        "# Print the new dataframe\n",
        "emo_rel.sample(5)"
      ],
      "metadata": {
        "colab": {
          "base_uri": "https://localhost:8080/",
          "height": 206
        },
        "id": "fN3F2peYrAaF",
        "outputId": "fb66c2d5-b200-445c-dadc-2a9a99ba80bf"
      },
      "execution_count": 197,
      "outputs": [
        {
          "output_type": "execute_result",
          "data": {
            "text/plain": [
              "                                                     text  emotion speaker  \\\n",
              "219345                 oh george bob zmuda bob buddy year  Neutral   u6499   \n",
              "14477   understand growing gone started thinking maybe...  Neutral     NaN   \n",
              "187477                                 know scared height  Neutral   u5483   \n",
              "34713                                                      Neutral   u1088   \n",
              "66356                        gon na tomorrow morning know  Neutral   u1947   \n",
              "\n",
              "       reply-to vectors  \n",
              "219345  L369704      []  \n",
              "14477       NaN     NaN  \n",
              "187477  L231770      []  \n",
              "34713   L236249      []  \n",
              "66356   L360915      []  "
            ],
            "text/html": [
              "\n",
              "  <div id=\"df-eb134f14-39e0-42b6-8c79-e64c8b23fc25\">\n",
              "    <div class=\"colab-df-container\">\n",
              "      <div>\n",
              "<style scoped>\n",
              "    .dataframe tbody tr th:only-of-type {\n",
              "        vertical-align: middle;\n",
              "    }\n",
              "\n",
              "    .dataframe tbody tr th {\n",
              "        vertical-align: top;\n",
              "    }\n",
              "\n",
              "    .dataframe thead th {\n",
              "        text-align: right;\n",
              "    }\n",
              "</style>\n",
              "<table border=\"1\" class=\"dataframe\">\n",
              "  <thead>\n",
              "    <tr style=\"text-align: right;\">\n",
              "      <th></th>\n",
              "      <th>text</th>\n",
              "      <th>emotion</th>\n",
              "      <th>speaker</th>\n",
              "      <th>reply-to</th>\n",
              "      <th>vectors</th>\n",
              "    </tr>\n",
              "  </thead>\n",
              "  <tbody>\n",
              "    <tr>\n",
              "      <th>219345</th>\n",
              "      <td>oh george bob zmuda bob buddy year</td>\n",
              "      <td>Neutral</td>\n",
              "      <td>u6499</td>\n",
              "      <td>L369704</td>\n",
              "      <td>[]</td>\n",
              "    </tr>\n",
              "    <tr>\n",
              "      <th>14477</th>\n",
              "      <td>understand growing gone started thinking maybe...</td>\n",
              "      <td>Neutral</td>\n",
              "      <td>NaN</td>\n",
              "      <td>NaN</td>\n",
              "      <td>NaN</td>\n",
              "    </tr>\n",
              "    <tr>\n",
              "      <th>187477</th>\n",
              "      <td>know scared height</td>\n",
              "      <td>Neutral</td>\n",
              "      <td>u5483</td>\n",
              "      <td>L231770</td>\n",
              "      <td>[]</td>\n",
              "    </tr>\n",
              "    <tr>\n",
              "      <th>34713</th>\n",
              "      <td></td>\n",
              "      <td>Neutral</td>\n",
              "      <td>u1088</td>\n",
              "      <td>L236249</td>\n",
              "      <td>[]</td>\n",
              "    </tr>\n",
              "    <tr>\n",
              "      <th>66356</th>\n",
              "      <td>gon na tomorrow morning know</td>\n",
              "      <td>Neutral</td>\n",
              "      <td>u1947</td>\n",
              "      <td>L360915</td>\n",
              "      <td>[]</td>\n",
              "    </tr>\n",
              "  </tbody>\n",
              "</table>\n",
              "</div>\n",
              "      <button class=\"colab-df-convert\" onclick=\"convertToInteractive('df-eb134f14-39e0-42b6-8c79-e64c8b23fc25')\"\n",
              "              title=\"Convert this dataframe to an interactive table.\"\n",
              "              style=\"display:none;\">\n",
              "        \n",
              "  <svg xmlns=\"http://www.w3.org/2000/svg\" height=\"24px\"viewBox=\"0 0 24 24\"\n",
              "       width=\"24px\">\n",
              "    <path d=\"M0 0h24v24H0V0z\" fill=\"none\"/>\n",
              "    <path d=\"M18.56 5.44l.94 2.06.94-2.06 2.06-.94-2.06-.94-.94-2.06-.94 2.06-2.06.94zm-11 1L8.5 8.5l.94-2.06 2.06-.94-2.06-.94L8.5 2.5l-.94 2.06-2.06.94zm10 10l.94 2.06.94-2.06 2.06-.94-2.06-.94-.94-2.06-.94 2.06-2.06.94z\"/><path d=\"M17.41 7.96l-1.37-1.37c-.4-.4-.92-.59-1.43-.59-.52 0-1.04.2-1.43.59L10.3 9.45l-7.72 7.72c-.78.78-.78 2.05 0 2.83L4 21.41c.39.39.9.59 1.41.59.51 0 1.02-.2 1.41-.59l7.78-7.78 2.81-2.81c.8-.78.8-2.07 0-2.86zM5.41 20L4 18.59l7.72-7.72 1.47 1.35L5.41 20z\"/>\n",
              "  </svg>\n",
              "      </button>\n",
              "      \n",
              "  <style>\n",
              "    .colab-df-container {\n",
              "      display:flex;\n",
              "      flex-wrap:wrap;\n",
              "      gap: 12px;\n",
              "    }\n",
              "\n",
              "    .colab-df-convert {\n",
              "      background-color: #E8F0FE;\n",
              "      border: none;\n",
              "      border-radius: 50%;\n",
              "      cursor: pointer;\n",
              "      display: none;\n",
              "      fill: #1967D2;\n",
              "      height: 32px;\n",
              "      padding: 0 0 0 0;\n",
              "      width: 32px;\n",
              "    }\n",
              "\n",
              "    .colab-df-convert:hover {\n",
              "      background-color: #E2EBFA;\n",
              "      box-shadow: 0px 1px 2px rgba(60, 64, 67, 0.3), 0px 1px 3px 1px rgba(60, 64, 67, 0.15);\n",
              "      fill: #174EA6;\n",
              "    }\n",
              "\n",
              "    [theme=dark] .colab-df-convert {\n",
              "      background-color: #3B4455;\n",
              "      fill: #D2E3FC;\n",
              "    }\n",
              "\n",
              "    [theme=dark] .colab-df-convert:hover {\n",
              "      background-color: #434B5C;\n",
              "      box-shadow: 0px 1px 3px 1px rgba(0, 0, 0, 0.15);\n",
              "      filter: drop-shadow(0px 1px 2px rgba(0, 0, 0, 0.3));\n",
              "      fill: #FFFFFF;\n",
              "    }\n",
              "  </style>\n",
              "\n",
              "      <script>\n",
              "        const buttonEl =\n",
              "          document.querySelector('#df-eb134f14-39e0-42b6-8c79-e64c8b23fc25 button.colab-df-convert');\n",
              "        buttonEl.style.display =\n",
              "          google.colab.kernel.accessAllowed ? 'block' : 'none';\n",
              "\n",
              "        async function convertToInteractive(key) {\n",
              "          const element = document.querySelector('#df-eb134f14-39e0-42b6-8c79-e64c8b23fc25');\n",
              "          const dataTable =\n",
              "            await google.colab.kernel.invokeFunction('convertToInteractive',\n",
              "                                                     [key], {});\n",
              "          if (!dataTable) return;\n",
              "\n",
              "          const docLinkHtml = 'Like what you see? Visit the ' +\n",
              "            '<a target=\"_blank\" href=https://colab.research.google.com/notebooks/data_table.ipynb>data table notebook</a>'\n",
              "            + ' to learn more about interactive tables.';\n",
              "          element.innerHTML = '';\n",
              "          dataTable['output_type'] = 'display_data';\n",
              "          await google.colab.output.renderOutput(dataTable, element);\n",
              "          const docLink = document.createElement('div');\n",
              "          docLink.innerHTML = docLinkHtml;\n",
              "          element.appendChild(docLink);\n",
              "        }\n",
              "      </script>\n",
              "    </div>\n",
              "  </div>\n",
              "  "
            ]
          },
          "metadata": {},
          "execution_count": 197
        }
      ]
    },
    {
      "cell_type": "code",
      "source": [
        "# Filter out utterances with no reply-to information\n",
        "emo_rel = emo_rel.dropna(subset=['reply-to'])\n",
        "\n",
        "# Select a sample of data\n",
        "sample_size = 5  # Define the desired sample size\n",
        "emo_rel_sample = emo_rel.sample(sample_size)\n",
        "\n",
        "# Create a directed graph to represent the relationships between speakers\n",
        "G = nx.DiGraph()\n",
        "\n",
        "# Add edges to the graph based on reply-to relationships in the sample\n",
        "edges = [(reply_to, speaker) for speaker, reply_to in emo_rel_sample[['speaker', 'reply-to']].values]\n",
        "G.add_edges_from(edges)\n",
        "\n",
        "# Calculate sentiment scores between connected speakers\n",
        "sentiment_scores = nx.pagerank(G)\n",
        "\n",
        "# Plot a network diagram with node colors representing sentiment scores\n",
        "pos = nx.spring_layout(G)\n",
        "nx.draw_networkx(G, pos, node_color=[sentiment_scores.get(node, 0) for node in G.nodes()], cmap='coolwarm')\n",
        "plt.title('Emotional Profile and Relations (Sample)')\n",
        "plt.show()"
      ],
      "metadata": {
        "colab": {
          "base_uri": "https://localhost:8080/",
          "height": 428
        },
        "id": "qb2fCH_xv3-V",
        "outputId": "24c0eb1e-e602-4e92-8426-f13e628b0657"
      },
      "execution_count": 199,
      "outputs": [
        {
          "output_type": "display_data",
          "data": {
            "text/plain": [
              "<Figure size 640x480 with 1 Axes>"
            ],
            "image/png": "[encoded data removed]"
          },
          "metadata": {}
        }
      ]
    },
    {
      "cell_type": "code",
      "source": [
        "# Filter out utterances with no reply-to information\n",
        "emo_rel = emo_rel.dropna(subset=['reply-to'])\n",
        "\n",
        "# Create a directed graph to represent the relationships between speakers\n",
        "G = nx.DiGraph()\n",
        "\n",
        "# Add edges to the graph based on reply-to relationships\n",
        "edges = [(reply_to, speaker) for speaker, reply_to in emo_rel[['speaker', 'reply-to']].values]\n",
        "G.add_edges_from(edges)\n",
        "\n",
        "# Calculate sentiment scores between connected speakers\n",
        "sentiment_scores = nx.pagerank(G)\n",
        "\n",
        "# Plot a network diagram with node colors representing sentiment scores\n",
        "pos = nx.spring_layout(G)\n",
        "nx.draw_networkx(G, pos, node_color=[sentiment_scores.get(node, 0) for node in G.nodes()], cmap='coolwarm')\n",
        "plt.title('Emotional Profile and Relations')\n",
        "plt.show()"
      ],
      "metadata": {
        "id": "cf1a83qXM_fm"
      },
      "execution_count": null,
      "outputs": []
    }
  ]
}